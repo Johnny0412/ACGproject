{
 "cells": [
  {
   "cell_type": "markdown",
   "metadata": {},
   "source": [
    "## DATA422 - 21S2 - Data Wrangling (Group Project Julia Part) \n",
    "### Group Name: ACG \n",
    "### Content: Join Dataset and Visulise"
   ]
  },
  {
   "cell_type": "markdown",
   "metadata": {},
   "source": [
    "Firstly Import in the Dataset:\n",
    "Import some libraries first"
   ]
  },
  {
   "cell_type": "code",
   "execution_count": 1,
   "metadata": {
    "tags": []
   },
   "outputs": [],
   "source": [
    "using Pkg\n",
    "using Queryverse\n",
    "using DataFrames\n",
    "using CSV"
   ]
  },
  {
   "cell_type": "markdown",
   "metadata": {},
   "source": [
    "Next, Load csvs:"
   ]
  },
  {
   "cell_type": "code",
   "execution_count": 2,
   "metadata": {
    "scrolled": true,
    "tags": []
   },
   "outputs": [
    {
     "data": {
      "text/html": [
       "<div class=\"data-frame\"><p>91 rows × 16 columns (omitted printing of 11 columns)</p><table class=\"data-frame\"><thead><tr><th></th><th>suburb</th><th>cnt_total_business</th><th>cnt_takeaway</th><th>cnt_eat_in_premises</th><th>cnt_retail</th></tr><tr><th></th><th title=\"String\">String</th><th title=\"Int64\">Int64</th><th title=\"Int64\">Int64</th><th title=\"Int64\">Int64</th><th title=\"Int64\">Int64</th></tr></thead><tbody><tr><th>1</th><td>Central City</td><td>388</td><td>212</td><td>275</td><td>62</td></tr><tr><th>2</th><td>Hornby</td><td>123</td><td>57</td><td>48</td><td>30</td></tr><tr><th>3</th><td>Riccarton</td><td>117</td><td>68</td><td>79</td><td>25</td></tr><tr><th>4</th><td>Sydenham</td><td>96</td><td>52</td><td>49</td><td>19</td></tr><tr><th>5</th><td>Papanui</td><td>88</td><td>49</td><td>48</td><td>15</td></tr><tr><th>6</th><td>Upper Riccarton</td><td>87</td><td>50</td><td>45</td><td>27</td></tr><tr><th>7</th><td>St Albans</td><td>84</td><td>34</td><td>32</td><td>26</td></tr><tr><th>8</th><td>Addington</td><td>76</td><td>27</td><td>42</td><td>17</td></tr><tr><th>9</th><td>Harewood</td><td>66</td><td>25</td><td>42</td><td>23</td></tr><tr><th>10</th><td>Linwood</td><td>64</td><td>25</td><td>16</td><td>25</td></tr><tr><th>11</th><td>Sockburn</td><td>64</td><td>19</td><td>10</td><td>16</td></tr><tr><th>12</th><td>Woolston</td><td>52</td><td>27</td><td>17</td><td>16</td></tr><tr><th>13</th><td>New Brighton</td><td>44</td><td>22</td><td>17</td><td>7</td></tr><tr><th>14</th><td>Ilam</td><td>42</td><td>22</td><td>23</td><td>19</td></tr><tr><th>15</th><td>Richmond</td><td>41</td><td>22</td><td>12</td><td>11</td></tr><tr><th>16</th><td>Lyttelton</td><td>38</td><td>15</td><td>20</td><td>6</td></tr><tr><th>17</th><td>Spreydon</td><td>37</td><td>15</td><td>13</td><td>12</td></tr><tr><th>18</th><td>Shirley</td><td>36</td><td>18</td><td>21</td><td>7</td></tr><tr><th>19</th><td>Bryndwr</td><td>35</td><td>17</td><td>10</td><td>11</td></tr><tr><th>20</th><td>Halswell</td><td>34</td><td>17</td><td>19</td><td>8</td></tr><tr><th>21</th><td>Akaroa</td><td>32</td><td>18</td><td>19</td><td>5</td></tr><tr><th>22</th><td>Avonhead</td><td>32</td><td>11</td><td>6</td><td>9</td></tr><tr><th>23</th><td>Merivale</td><td>31</td><td>7</td><td>17</td><td>4</td></tr><tr><th>24</th><td>Sumner</td><td>30</td><td>16</td><td>20</td><td>3</td></tr><tr><th>25</th><td>Bishopdale</td><td>29</td><td>14</td><td>12</td><td>9</td></tr><tr><th>26</th><td>Belfast</td><td>27</td><td>8</td><td>10</td><td>5</td></tr><tr><th>27</th><td>Middleton</td><td>27</td><td>12</td><td>10</td><td>11</td></tr><tr><th>28</th><td>Wainoni</td><td>27</td><td>15</td><td>5</td><td>9</td></tr><tr><th>29</th><td>Ferrymead</td><td>26</td><td>13</td><td>18</td><td>2</td></tr><tr><th>30</th><td>Hoon Hay</td><td>26</td><td>13</td><td>6</td><td>8</td></tr><tr><th>&vellip;</th><td>&vellip;</td><td>&vellip;</td><td>&vellip;</td><td>&vellip;</td><td>&vellip;</td></tr></tbody></table></div>"
      ],
      "text/latex": [
       "\\begin{tabular}{r|cccccc}\n",
       "\t& suburb & cnt\\_total\\_business & cnt\\_takeaway & cnt\\_eat\\_in\\_premises & cnt\\_retail & \\\\\n",
       "\t\\hline\n",
       "\t& String & Int64 & Int64 & Int64 & Int64 & \\\\\n",
       "\t\\hline\n",
       "\t1 & Central City & 388 & 212 & 275 & 62 & $\\dots$ \\\\\n",
       "\t2 & Hornby & 123 & 57 & 48 & 30 & $\\dots$ \\\\\n",
       "\t3 & Riccarton & 117 & 68 & 79 & 25 & $\\dots$ \\\\\n",
       "\t4 & Sydenham & 96 & 52 & 49 & 19 & $\\dots$ \\\\\n",
       "\t5 & Papanui & 88 & 49 & 48 & 15 & $\\dots$ \\\\\n",
       "\t6 & Upper Riccarton & 87 & 50 & 45 & 27 & $\\dots$ \\\\\n",
       "\t7 & St Albans & 84 & 34 & 32 & 26 & $\\dots$ \\\\\n",
       "\t8 & Addington & 76 & 27 & 42 & 17 & $\\dots$ \\\\\n",
       "\t9 & Harewood & 66 & 25 & 42 & 23 & $\\dots$ \\\\\n",
       "\t10 & Linwood & 64 & 25 & 16 & 25 & $\\dots$ \\\\\n",
       "\t11 & Sockburn & 64 & 19 & 10 & 16 & $\\dots$ \\\\\n",
       "\t12 & Woolston & 52 & 27 & 17 & 16 & $\\dots$ \\\\\n",
       "\t13 & New Brighton & 44 & 22 & 17 & 7 & $\\dots$ \\\\\n",
       "\t14 & Ilam & 42 & 22 & 23 & 19 & $\\dots$ \\\\\n",
       "\t15 & Richmond & 41 & 22 & 12 & 11 & $\\dots$ \\\\\n",
       "\t16 & Lyttelton & 38 & 15 & 20 & 6 & $\\dots$ \\\\\n",
       "\t17 & Spreydon & 37 & 15 & 13 & 12 & $\\dots$ \\\\\n",
       "\t18 & Shirley & 36 & 18 & 21 & 7 & $\\dots$ \\\\\n",
       "\t19 & Bryndwr & 35 & 17 & 10 & 11 & $\\dots$ \\\\\n",
       "\t20 & Halswell & 34 & 17 & 19 & 8 & $\\dots$ \\\\\n",
       "\t21 & Akaroa & 32 & 18 & 19 & 5 & $\\dots$ \\\\\n",
       "\t22 & Avonhead & 32 & 11 & 6 & 9 & $\\dots$ \\\\\n",
       "\t23 & Merivale & 31 & 7 & 17 & 4 & $\\dots$ \\\\\n",
       "\t24 & Sumner & 30 & 16 & 20 & 3 & $\\dots$ \\\\\n",
       "\t25 & Bishopdale & 29 & 14 & 12 & 9 & $\\dots$ \\\\\n",
       "\t26 & Belfast & 27 & 8 & 10 & 5 & $\\dots$ \\\\\n",
       "\t27 & Middleton & 27 & 12 & 10 & 11 & $\\dots$ \\\\\n",
       "\t28 & Wainoni & 27 & 15 & 5 & 9 & $\\dots$ \\\\\n",
       "\t29 & Ferrymead & 26 & 13 & 18 & 2 & $\\dots$ \\\\\n",
       "\t30 & Hoon Hay & 26 & 13 & 6 & 8 & $\\dots$ \\\\\n",
       "\t$\\dots$ & $\\dots$ & $\\dots$ & $\\dots$ & $\\dots$ & $\\dots$ &  \\\\\n",
       "\\end{tabular}\n"
      ],
      "text/plain": [
       "\u001b[1m91×16 DataFrame\u001b[0m\n",
       "\u001b[1m Row \u001b[0m│\u001b[1m suburb          \u001b[0m\u001b[1m cnt_total_business \u001b[0m\u001b[1m cnt_takeaway \u001b[0m\u001b[1m cnt_eat_in_premises \u001b[0m\u001b[1m\u001b[0m ⋯\n",
       "\u001b[1m     \u001b[0m│\u001b[90m String          \u001b[0m\u001b[90m Int64              \u001b[0m\u001b[90m Int64        \u001b[0m\u001b[90m Int64               \u001b[0m\u001b[90m\u001b[0m ⋯\n",
       "─────┼──────────────────────────────────────────────────────────────────────────\n",
       "   1 │ Central City                    388           212                  275  ⋯\n",
       "   2 │ Hornby                          123            57                   48\n",
       "   3 │ Riccarton                       117            68                   79\n",
       "   4 │ Sydenham                         96            52                   49\n",
       "   5 │ Papanui                          88            49                   48  ⋯\n",
       "   6 │ Upper Riccarton                  87            50                   45\n",
       "   7 │ St Albans                        84            34                   32\n",
       "   8 │ Addington                        76            27                   42\n",
       "   9 │ Harewood                         66            25                   42  ⋯\n",
       "  10 │ Linwood                          64            25                   16\n",
       "  11 │ Sockburn                         64            19                   10\n",
       "  ⋮  │        ⋮                 ⋮                ⋮                 ⋮           ⋱\n",
       "  82 │ Mt Pleasant                       1             0                    0\n",
       "  83 │ North Beach                       1             0                    1  ⋯\n",
       "  84 │ Northcote                         1             0                    0\n",
       "  85 │ Okains Bay                        1             0                    0\n",
       "  86 │ Ouruhia                           1             0                    0\n",
       "  87 │ Southshore                        1             0                    0  ⋯\n",
       "  88 │ Travis                            1             1                    1\n",
       "  89 │ Waimairi Beach                    1             1                    1\n",
       "  90 │ Westlake                          1             0                    0\n",
       "  91 │ Westmorland                       1             0                    0  ⋯\n",
       "\u001b[36m                                                  12 columns and 70 rows omitted\u001b[0m"
      ]
     },
     "execution_count": 2,
     "metadata": {},
     "output_type": "execute_result"
    }
   ],
   "source": [
    "food_business_data = CSV.read(\"suburb_level_food_business_summary.csv\", DataFrame) "
   ]
  },
  {
   "cell_type": "code",
   "execution_count": 3,
   "metadata": {
    "scrolled": true,
    "tags": []
   },
   "outputs": [
    {
     "data": {
      "text/html": [
       "<div class=\"data-frame\"><p>58 rows × 17 columns (omitted printing of 11 columns)</p><table class=\"data-frame\"><thead><tr><th></th><th>suburb</th><th>total_licences</th><th>on_licence</th><th>off_licence</th><th>club_licence</th><th>function_centres_licence</th></tr><tr><th></th><th title=\"String\">String</th><th title=\"Int64\">Int64</th><th title=\"Int64\">Int64</th><th title=\"Int64\">Int64</th><th title=\"Int64\">Int64</th><th title=\"Int64\">Int64</th></tr></thead><tbody><tr><th>1</th><td>Addington</td><td>13</td><td>10</td><td>2</td><td>1</td><td>1</td></tr><tr><th>2</th><td>Avondale</td><td>1</td><td>0</td><td>0</td><td>1</td><td>0</td></tr><tr><th>3</th><td>Avonhead</td><td>5</td><td>1</td><td>1</td><td>3</td><td>0</td></tr><tr><th>4</th><td>Avonside</td><td>2</td><td>0</td><td>1</td><td>1</td><td>0</td></tr><tr><th>5</th><td>Beckenham</td><td>2</td><td>0</td><td>0</td><td>2</td><td>0</td></tr><tr><th>6</th><td>Belfast</td><td>8</td><td>2</td><td>5</td><td>1</td><td>1</td></tr><tr><th>7</th><td>Bishopdale</td><td>5</td><td>2</td><td>2</td><td>1</td><td>0</td></tr><tr><th>8</th><td>Bromley</td><td>3</td><td>0</td><td>0</td><td>3</td><td>0</td></tr><tr><th>9</th><td>Bryndwr</td><td>7</td><td>3</td><td>4</td><td>0</td><td>0</td></tr><tr><th>10</th><td>Burnside</td><td>4</td><td>2</td><td>2</td><td>0</td><td>0</td></tr><tr><th>11</th><td>Burwood</td><td>5</td><td>1</td><td>2</td><td>2</td><td>0</td></tr><tr><th>12</th><td>Cashmere</td><td>1</td><td>0</td><td>0</td><td>1</td><td>0</td></tr><tr><th>13</th><td>Central City</td><td>99</td><td>72</td><td>21</td><td>6</td><td>0</td></tr><tr><th>14</th><td>Clifton</td><td>1</td><td>0</td><td>1</td><td>0</td><td>0</td></tr><tr><th>15</th><td>Fendalton</td><td>5</td><td>3</td><td>1</td><td>1</td><td>1</td></tr><tr><th>16</th><td>Ferrymead</td><td>7</td><td>5</td><td>2</td><td>0</td><td>0</td></tr><tr><th>17</th><td>Halswell</td><td>12</td><td>6</td><td>3</td><td>3</td><td>0</td></tr><tr><th>18</th><td>Harewood</td><td>16</td><td>8</td><td>4</td><td>4</td><td>2</td></tr><tr><th>19</th><td>Heathcote</td><td>5</td><td>4</td><td>1</td><td>0</td><td>1</td></tr><tr><th>20</th><td>Hoon Hay</td><td>4</td><td>4</td><td>0</td><td>0</td><td>0</td></tr><tr><th>21</th><td>Hornby</td><td>15</td><td>7</td><td>5</td><td>3</td><td>1</td></tr><tr><th>22</th><td>Huntsbury</td><td>2</td><td>1</td><td>1</td><td>0</td><td>0</td></tr><tr><th>23</th><td>Ilam</td><td>4</td><td>3</td><td>1</td><td>0</td><td>1</td></tr><tr><th>24</th><td>Islington</td><td>1</td><td>0</td><td>0</td><td>1</td><td>0</td></tr><tr><th>25</th><td>Linwood</td><td>4</td><td>4</td><td>0</td><td>0</td><td>0</td></tr><tr><th>26</th><td>Lyttelton</td><td>1</td><td>0</td><td>1</td><td>0</td><td>0</td></tr><tr><th>27</th><td>Mairehau</td><td>2</td><td>1</td><td>1</td><td>0</td><td>0</td></tr><tr><th>28</th><td>Merivale</td><td>10</td><td>6</td><td>2</td><td>2</td><td>0</td></tr><tr><th>29</th><td>Mt Pleasant</td><td>1</td><td>0</td><td>1</td><td>0</td><td>0</td></tr><tr><th>30</th><td>New Brighton</td><td>8</td><td>3</td><td>2</td><td>3</td><td>0</td></tr><tr><th>&vellip;</th><td>&vellip;</td><td>&vellip;</td><td>&vellip;</td><td>&vellip;</td><td>&vellip;</td><td>&vellip;</td></tr></tbody></table></div>"
      ],
      "text/latex": [
       "\\begin{tabular}{r|ccccccc}\n",
       "\t& suburb & total\\_licences & on\\_licence & off\\_licence & club\\_licence & function\\_centres\\_licence & \\\\\n",
       "\t\\hline\n",
       "\t& String & Int64 & Int64 & Int64 & Int64 & Int64 & \\\\\n",
       "\t\\hline\n",
       "\t1 & Addington & 13 & 10 & 2 & 1 & 1 & $\\dots$ \\\\\n",
       "\t2 & Avondale & 1 & 0 & 0 & 1 & 0 & $\\dots$ \\\\\n",
       "\t3 & Avonhead & 5 & 1 & 1 & 3 & 0 & $\\dots$ \\\\\n",
       "\t4 & Avonside & 2 & 0 & 1 & 1 & 0 & $\\dots$ \\\\\n",
       "\t5 & Beckenham & 2 & 0 & 0 & 2 & 0 & $\\dots$ \\\\\n",
       "\t6 & Belfast & 8 & 2 & 5 & 1 & 1 & $\\dots$ \\\\\n",
       "\t7 & Bishopdale & 5 & 2 & 2 & 1 & 0 & $\\dots$ \\\\\n",
       "\t8 & Bromley & 3 & 0 & 0 & 3 & 0 & $\\dots$ \\\\\n",
       "\t9 & Bryndwr & 7 & 3 & 4 & 0 & 0 & $\\dots$ \\\\\n",
       "\t10 & Burnside & 4 & 2 & 2 & 0 & 0 & $\\dots$ \\\\\n",
       "\t11 & Burwood & 5 & 1 & 2 & 2 & 0 & $\\dots$ \\\\\n",
       "\t12 & Cashmere & 1 & 0 & 0 & 1 & 0 & $\\dots$ \\\\\n",
       "\t13 & Central City & 99 & 72 & 21 & 6 & 0 & $\\dots$ \\\\\n",
       "\t14 & Clifton & 1 & 0 & 1 & 0 & 0 & $\\dots$ \\\\\n",
       "\t15 & Fendalton & 5 & 3 & 1 & 1 & 1 & $\\dots$ \\\\\n",
       "\t16 & Ferrymead & 7 & 5 & 2 & 0 & 0 & $\\dots$ \\\\\n",
       "\t17 & Halswell & 12 & 6 & 3 & 3 & 0 & $\\dots$ \\\\\n",
       "\t18 & Harewood & 16 & 8 & 4 & 4 & 2 & $\\dots$ \\\\\n",
       "\t19 & Heathcote & 5 & 4 & 1 & 0 & 1 & $\\dots$ \\\\\n",
       "\t20 & Hoon Hay & 4 & 4 & 0 & 0 & 0 & $\\dots$ \\\\\n",
       "\t21 & Hornby & 15 & 7 & 5 & 3 & 1 & $\\dots$ \\\\\n",
       "\t22 & Huntsbury & 2 & 1 & 1 & 0 & 0 & $\\dots$ \\\\\n",
       "\t23 & Ilam & 4 & 3 & 1 & 0 & 1 & $\\dots$ \\\\\n",
       "\t24 & Islington & 1 & 0 & 0 & 1 & 0 & $\\dots$ \\\\\n",
       "\t25 & Linwood & 4 & 4 & 0 & 0 & 0 & $\\dots$ \\\\\n",
       "\t26 & Lyttelton & 1 & 0 & 1 & 0 & 0 & $\\dots$ \\\\\n",
       "\t27 & Mairehau & 2 & 1 & 1 & 0 & 0 & $\\dots$ \\\\\n",
       "\t28 & Merivale & 10 & 6 & 2 & 2 & 0 & $\\dots$ \\\\\n",
       "\t29 & Mt Pleasant & 1 & 0 & 1 & 0 & 0 & $\\dots$ \\\\\n",
       "\t30 & New Brighton & 8 & 3 & 2 & 3 & 0 & $\\dots$ \\\\\n",
       "\t$\\dots$ & $\\dots$ & $\\dots$ & $\\dots$ & $\\dots$ & $\\dots$ & $\\dots$ &  \\\\\n",
       "\\end{tabular}\n"
      ],
      "text/plain": [
       "\u001b[1m58×17 DataFrame\u001b[0m\n",
       "\u001b[1m Row \u001b[0m│\u001b[1m suburb             \u001b[0m\u001b[1m total_licences \u001b[0m\u001b[1m on_licence \u001b[0m\u001b[1m off_licence \u001b[0m\u001b[1m club_licen\u001b[0m ⋯\n",
       "\u001b[1m     \u001b[0m│\u001b[90m String             \u001b[0m\u001b[90m Int64          \u001b[0m\u001b[90m Int64      \u001b[0m\u001b[90m Int64       \u001b[0m\u001b[90m Int64     \u001b[0m ⋯\n",
       "─────┼──────────────────────────────────────────────────────────────────────────\n",
       "   1 │ Addington                       13          10            2             ⋯\n",
       "   2 │ Avondale                         1           0            0\n",
       "   3 │ Avonhead                         5           1            1\n",
       "   4 │ Avonside                         2           0            1\n",
       "   5 │ Beckenham                        2           0            0             ⋯\n",
       "   6 │ Belfast                          8           2            5\n",
       "   7 │ Bishopdale                       5           2            2\n",
       "   8 │ Bromley                          3           0            0\n",
       "   9 │ Bryndwr                          7           3            4             ⋯\n",
       "  10 │ Burnside                         4           2            2\n",
       "  11 │ Burwood                          5           1            2\n",
       "  ⋮  │         ⋮                 ⋮             ⋮            ⋮            ⋮     ⋱\n",
       "  49 │ Sumner                           9           7            1\n",
       "  50 │ Sydenham                        12           8            3             ⋯\n",
       "  51 │ Templeton                        5           1            1\n",
       "  52 │ Upper Riccarton                 19          15            3\n",
       "  53 │ Waimair Beach                    1           0            0\n",
       "  54 │ Wainoni                          2           0            2             ⋯\n",
       "  55 │ Wainui                           1           1            0\n",
       "  56 │ Waltham                          4           3            1\n",
       "  57 │ Woolston                        11           6            4\n",
       "  58 │ Yaldhurst                        2           2            0             ⋯\n",
       "\u001b[36m                                                  13 columns and 37 rows omitted\u001b[0m"
      ]
     },
     "execution_count": 3,
     "metadata": {},
     "output_type": "execute_result"
    }
   ],
   "source": [
    "alcohol_license_data = CSV.read(\"suburb_level_alcohol_license_summary.csv\", DataFrame) "
   ]
  },
  {
   "cell_type": "code",
   "execution_count": 4,
   "metadata": {
    "scrolled": true,
    "tags": []
   },
   "outputs": [
    {
     "data": {
      "text/html": [
       "<div class=\"data-frame\"><p>80 rows × 6 columns (omitted printing of 2 columns)</p><table class=\"data-frame\"><thead><tr><th></th><th>suburb</th><th>average_house_price</th><th>lowest_house_price</th><th>median_house_price</th></tr><tr><th></th><th title=\"String\">String</th><th title=\"Int64\">Int64</th><th title=\"Int64\">Int64</th><th title=\"Int64\">Int64</th></tr></thead><tbody><tr><th>1</th><td>Clifton</td><td>1800000</td><td>1800000</td><td>1800000</td></tr><tr><th>2</th><td>Kennedys Bush</td><td>1331667</td><td>1100000</td><td>1375000</td></tr><tr><th>3</th><td>Harewood</td><td>1186633</td><td>451000</td><td>950000</td></tr><tr><th>4</th><td>Merivale - Christchurch City</td><td>1145417</td><td>365000</td><td>922500</td></tr><tr><th>5</th><td>Murray Aynsley</td><td>1080000</td><td>1080000</td><td>1080000</td></tr><tr><th>6</th><td>Fendalton</td><td>1073222</td><td>475000</td><td>936500</td></tr><tr><th>7</th><td>Scarborough</td><td>1000000</td><td>1000000</td><td>1000000</td></tr><tr><th>8</th><td>Templeton</td><td>967500</td><td>685000</td><td>967500</td></tr><tr><th>9</th><td>Redcliffs</td><td>901714</td><td>305000</td><td>741000</td></tr><tr><th>10</th><td>Strowan</td><td>891268</td><td>402000</td><td>738500</td></tr><tr><th>11</th><td>Huntsbury</td><td>842833</td><td>411000</td><td>771500</td></tr><tr><th>12</th><td>Ilam</td><td>841392</td><td>440000</td><td>760000</td></tr><tr><th>13</th><td>Marshland</td><td>838667</td><td>651500</td><td>787500</td></tr><tr><th>14</th><td>Westmorland</td><td>814950</td><td>430000</td><td>786500</td></tr><tr><th>15</th><td>Sumner</td><td>781613</td><td>335000</td><td>719000</td></tr><tr><th>16</th><td>Mt Pleasant</td><td>769040</td><td>385000</td><td>700000</td></tr><tr><th>17</th><td>Northwood</td><td>763944</td><td>438000</td><td>717000</td></tr><tr><th>18</th><td>Middleton</td><td>754667</td><td>685000</td><td>730000</td></tr><tr><th>19</th><td>Aidanfield</td><td>750571</td><td>640000</td><td>720000</td></tr><tr><th>20</th><td>Cashmere</td><td>742969</td><td>300000</td><td>682000</td></tr><tr><th>21</th><td>Christchurch Central</td><td>698539</td><td>350200</td><td>592500</td></tr><tr><th>22</th><td>Southshore</td><td>677500</td><td>320000</td><td>677500</td></tr><tr><th>23</th><td>Wigram</td><td>668057</td><td>440000</td><td>667500</td></tr><tr><th>24</th><td>Burnside</td><td>664300</td><td>418000</td><td>600000</td></tr><tr><th>25</th><td>Riccarton</td><td>649739</td><td>225000</td><td>536000</td></tr><tr><th>26</th><td>Hillsborough</td><td>647727</td><td>210000</td><td>550000</td></tr><tr><th>27</th><td>Papanui</td><td>640443</td><td>27500</td><td>585000</td></tr><tr><th>28</th><td>Casebrook</td><td>628438</td><td>335000</td><td>550000</td></tr><tr><th>29</th><td>Heathcote</td><td>626143</td><td>300000</td><td>600000</td></tr><tr><th>30</th><td>Avonhead</td><td>623355</td><td>222000</td><td>604500</td></tr><tr><th>&vellip;</th><td>&vellip;</td><td>&vellip;</td><td>&vellip;</td><td>&vellip;</td></tr></tbody></table></div>"
      ],
      "text/latex": [
       "\\begin{tabular}{r|ccccc}\n",
       "\t& suburb & average\\_house\\_price & lowest\\_house\\_price & median\\_house\\_price & \\\\\n",
       "\t\\hline\n",
       "\t& String & Int64 & Int64 & Int64 & \\\\\n",
       "\t\\hline\n",
       "\t1 & Clifton & 1800000 & 1800000 & 1800000 & $\\dots$ \\\\\n",
       "\t2 & Kennedys Bush & 1331667 & 1100000 & 1375000 & $\\dots$ \\\\\n",
       "\t3 & Harewood & 1186633 & 451000 & 950000 & $\\dots$ \\\\\n",
       "\t4 & Merivale - Christchurch City & 1145417 & 365000 & 922500 & $\\dots$ \\\\\n",
       "\t5 & Murray Aynsley & 1080000 & 1080000 & 1080000 & $\\dots$ \\\\\n",
       "\t6 & Fendalton & 1073222 & 475000 & 936500 & $\\dots$ \\\\\n",
       "\t7 & Scarborough & 1000000 & 1000000 & 1000000 & $\\dots$ \\\\\n",
       "\t8 & Templeton & 967500 & 685000 & 967500 & $\\dots$ \\\\\n",
       "\t9 & Redcliffs & 901714 & 305000 & 741000 & $\\dots$ \\\\\n",
       "\t10 & Strowan & 891268 & 402000 & 738500 & $\\dots$ \\\\\n",
       "\t11 & Huntsbury & 842833 & 411000 & 771500 & $\\dots$ \\\\\n",
       "\t12 & Ilam & 841392 & 440000 & 760000 & $\\dots$ \\\\\n",
       "\t13 & Marshland & 838667 & 651500 & 787500 & $\\dots$ \\\\\n",
       "\t14 & Westmorland & 814950 & 430000 & 786500 & $\\dots$ \\\\\n",
       "\t15 & Sumner & 781613 & 335000 & 719000 & $\\dots$ \\\\\n",
       "\t16 & Mt Pleasant & 769040 & 385000 & 700000 & $\\dots$ \\\\\n",
       "\t17 & Northwood & 763944 & 438000 & 717000 & $\\dots$ \\\\\n",
       "\t18 & Middleton & 754667 & 685000 & 730000 & $\\dots$ \\\\\n",
       "\t19 & Aidanfield & 750571 & 640000 & 720000 & $\\dots$ \\\\\n",
       "\t20 & Cashmere & 742969 & 300000 & 682000 & $\\dots$ \\\\\n",
       "\t21 & Christchurch Central & 698539 & 350200 & 592500 & $\\dots$ \\\\\n",
       "\t22 & Southshore & 677500 & 320000 & 677500 & $\\dots$ \\\\\n",
       "\t23 & Wigram & 668057 & 440000 & 667500 & $\\dots$ \\\\\n",
       "\t24 & Burnside & 664300 & 418000 & 600000 & $\\dots$ \\\\\n",
       "\t25 & Riccarton & 649739 & 225000 & 536000 & $\\dots$ \\\\\n",
       "\t26 & Hillsborough & 647727 & 210000 & 550000 & $\\dots$ \\\\\n",
       "\t27 & Papanui & 640443 & 27500 & 585000 & $\\dots$ \\\\\n",
       "\t28 & Casebrook & 628438 & 335000 & 550000 & $\\dots$ \\\\\n",
       "\t29 & Heathcote & 626143 & 300000 & 600000 & $\\dots$ \\\\\n",
       "\t30 & Avonhead & 623355 & 222000 & 604500 & $\\dots$ \\\\\n",
       "\t$\\dots$ & $\\dots$ & $\\dots$ & $\\dots$ & $\\dots$ &  \\\\\n",
       "\\end{tabular}\n"
      ],
      "text/plain": [
       "\u001b[1m80×6 DataFrame\u001b[0m\n",
       "\u001b[1m Row \u001b[0m│\u001b[1m suburb                       \u001b[0m\u001b[1m average_house_price \u001b[0m\u001b[1m lowest_house_price \u001b[0m\u001b[1m \u001b[0m ⋯\n",
       "\u001b[1m     \u001b[0m│\u001b[90m String                       \u001b[0m\u001b[90m Int64               \u001b[0m\u001b[90m Int64              \u001b[0m\u001b[90m \u001b[0m ⋯\n",
       "─────┼──────────────────────────────────────────────────────────────────────────\n",
       "   1 │ Clifton                                   1800000             1800000   ⋯\n",
       "   2 │ Kennedys Bush                             1331667             1100000\n",
       "   3 │ Harewood                                  1186633              451000\n",
       "   4 │ Merivale - Christchurch City              1145417              365000\n",
       "   5 │ Murray Aynsley                            1080000             1080000   ⋯\n",
       "   6 │ Fendalton                                 1073222              475000\n",
       "   7 │ Scarborough                               1000000             1000000\n",
       "   8 │ Templeton                                  967500              685000\n",
       "   9 │ Redcliffs                                  901714              305000   ⋯\n",
       "  10 │ Strowan                                    891268              402000\n",
       "  11 │ Huntsbury                                  842833              411000\n",
       "  ⋮  │              ⋮                         ⋮                   ⋮            ⋱\n",
       "  71 │ Bromley                                    315000              292000\n",
       "  72 │ Avonside                                   314167              185000   ⋯\n",
       "  73 │ Moncks Spur                                310000              310000\n",
       "  74 │ Avondale                                   298375              175000\n",
       "  75 │ New Brighton                               297038              146000\n",
       "  76 │ Aranui                                     295871              171000   ⋯\n",
       "  77 │ Wainoni                                    254625              195000\n",
       "  78 │ North Beach                                200000              200000\n",
       "  79 │ Bexley                                     172000              172000\n",
       "  80 │ Kainga                                     147500              147500   ⋯\n",
       "\u001b[36m                                                   3 columns and 59 rows omitted\u001b[0m"
      ]
     },
     "execution_count": 4,
     "metadata": {},
     "output_type": "execute_result"
    }
   ],
   "source": [
    "housing_data = CSV.read(\"suburb_level_house_price_summary.csv\", DataFrame) "
   ]
  },
  {
   "cell_type": "code",
   "execution_count": 5,
   "metadata": {
    "scrolled": true,
    "tags": []
   },
   "outputs": [
    {
     "data": {
      "text/html": [
       "<div class=\"data-frame\"><p>73 rows × 9 columns (omitted printing of 5 columns)</p><table class=\"data-frame\"><thead><tr><th></th><th>suburb</th><th>population_households_2006</th><th>population_households_2013</th><th>population_households_2018</th></tr><tr><th></th><th title=\"String\">String</th><th title=\"Int64\">Int64</th><th title=\"Int64\">Int64</th><th title=\"Int64\">Int64</th></tr></thead><tbody><tr><th>1</th><td>Mairehau</td><td>2199</td><td>2388</td><td>2547</td></tr><tr><th>2</th><td>Linwood</td><td>3060</td><td>2847</td><td>3105</td></tr><tr><th>3</th><td>St Martins</td><td>1134</td><td>1071</td><td>1107</td></tr><tr><th>4</th><td>Addington</td><td>1758</td><td>1845</td><td>1986</td></tr><tr><th>5</th><td>Fendalton</td><td>1653</td><td>1617</td><td>1656</td></tr><tr><th>6</th><td>St Albans</td><td>5379</td><td>5223</td><td>5448</td></tr><tr><th>7</th><td>Shirley</td><td>2352</td><td>2397</td><td>2457</td></tr><tr><th>8</th><td>Phillipstown</td><td>1419</td><td>1557</td><td>1668</td></tr><tr><th>9</th><td>Beckenham</td><td>897</td><td>903</td><td>897</td></tr><tr><th>10</th><td>Riccarton</td><td>2871</td><td>2949</td><td>3123</td></tr><tr><th>11</th><td>Bryndwr</td><td>3204</td><td>3222</td><td>3303</td></tr><tr><th>12</th><td>Edgeware</td><td>1779</td><td>1809</td><td>1863</td></tr><tr><th>13</th><td>Dallington</td><td>1068</td><td>876</td><td>918</td></tr><tr><th>14</th><td>Woolston</td><td>3651</td><td>3837</td><td>3984</td></tr><tr><th>15</th><td>Sydenham</td><td>2397</td><td>2463</td><td>2583</td></tr><tr><th>16</th><td>Ilam</td><td>2712</td><td>2613</td><td>2628</td></tr><tr><th>17</th><td>Strowan</td><td>1284</td><td>1200</td><td>1275</td></tr><tr><th>18</th><td>Richmond</td><td>2226</td><td>1806</td><td>1815</td></tr><tr><th>19</th><td>Opawa</td><td>546</td><td>504</td><td>504</td></tr><tr><th>20</th><td>Somerfield</td><td>2589</td><td>2601</td><td>2649</td></tr><tr><th>21</th><td>Upper Riccarton</td><td>2151</td><td>2226</td><td>2223</td></tr><tr><th>22</th><td>Merivale</td><td>2331</td><td>2052</td><td>2076</td></tr><tr><th>23</th><td>Avonside</td><td>744</td><td>666</td><td>678</td></tr><tr><th>24</th><td>Waltham</td><td>1287</td><td>1299</td><td>1461</td></tr><tr><th>25</th><td>Spreydon</td><td>2643</td><td>2691</td><td>2778</td></tr><tr><th>26</th><td>Burnside</td><td>1362</td><td>1431</td><td>1503</td></tr><tr><th>27</th><td>Papanui</td><td>1737</td><td>1806</td><td>1869</td></tr><tr><th>28</th><td>Halswell</td><td>1449</td><td>1575</td><td>2868</td></tr><tr><th>29</th><td>Broomfield</td><td>690</td><td>792</td><td>942</td></tr><tr><th>30</th><td>Ferrymead</td><td>390</td><td>396</td><td>390</td></tr><tr><th>&vellip;</th><td>&vellip;</td><td>&vellip;</td><td>&vellip;</td><td>&vellip;</td></tr></tbody></table></div>"
      ],
      "text/latex": [
       "\\begin{tabular}{r|ccccc}\n",
       "\t& suburb & population\\_households\\_2006 & population\\_households\\_2013 & population\\_households\\_2018 & \\\\\n",
       "\t\\hline\n",
       "\t& String & Int64 & Int64 & Int64 & \\\\\n",
       "\t\\hline\n",
       "\t1 & Mairehau & 2199 & 2388 & 2547 & $\\dots$ \\\\\n",
       "\t2 & Linwood & 3060 & 2847 & 3105 & $\\dots$ \\\\\n",
       "\t3 & St Martins & 1134 & 1071 & 1107 & $\\dots$ \\\\\n",
       "\t4 & Addington & 1758 & 1845 & 1986 & $\\dots$ \\\\\n",
       "\t5 & Fendalton & 1653 & 1617 & 1656 & $\\dots$ \\\\\n",
       "\t6 & St Albans & 5379 & 5223 & 5448 & $\\dots$ \\\\\n",
       "\t7 & Shirley & 2352 & 2397 & 2457 & $\\dots$ \\\\\n",
       "\t8 & Phillipstown & 1419 & 1557 & 1668 & $\\dots$ \\\\\n",
       "\t9 & Beckenham & 897 & 903 & 897 & $\\dots$ \\\\\n",
       "\t10 & Riccarton & 2871 & 2949 & 3123 & $\\dots$ \\\\\n",
       "\t11 & Bryndwr & 3204 & 3222 & 3303 & $\\dots$ \\\\\n",
       "\t12 & Edgeware & 1779 & 1809 & 1863 & $\\dots$ \\\\\n",
       "\t13 & Dallington & 1068 & 876 & 918 & $\\dots$ \\\\\n",
       "\t14 & Woolston & 3651 & 3837 & 3984 & $\\dots$ \\\\\n",
       "\t15 & Sydenham & 2397 & 2463 & 2583 & $\\dots$ \\\\\n",
       "\t16 & Ilam & 2712 & 2613 & 2628 & $\\dots$ \\\\\n",
       "\t17 & Strowan & 1284 & 1200 & 1275 & $\\dots$ \\\\\n",
       "\t18 & Richmond & 2226 & 1806 & 1815 & $\\dots$ \\\\\n",
       "\t19 & Opawa & 546 & 504 & 504 & $\\dots$ \\\\\n",
       "\t20 & Somerfield & 2589 & 2601 & 2649 & $\\dots$ \\\\\n",
       "\t21 & Upper Riccarton & 2151 & 2226 & 2223 & $\\dots$ \\\\\n",
       "\t22 & Merivale & 2331 & 2052 & 2076 & $\\dots$ \\\\\n",
       "\t23 & Avonside & 744 & 666 & 678 & $\\dots$ \\\\\n",
       "\t24 & Waltham & 1287 & 1299 & 1461 & $\\dots$ \\\\\n",
       "\t25 & Spreydon & 2643 & 2691 & 2778 & $\\dots$ \\\\\n",
       "\t26 & Burnside & 1362 & 1431 & 1503 & $\\dots$ \\\\\n",
       "\t27 & Papanui & 1737 & 1806 & 1869 & $\\dots$ \\\\\n",
       "\t28 & Halswell & 1449 & 1575 & 2868 & $\\dots$ \\\\\n",
       "\t29 & Broomfield & 690 & 792 & 942 & $\\dots$ \\\\\n",
       "\t30 & Ferrymead & 390 & 396 & 390 & $\\dots$ \\\\\n",
       "\t$\\dots$ & $\\dots$ & $\\dots$ & $\\dots$ & $\\dots$ &  \\\\\n",
       "\\end{tabular}\n"
      ],
      "text/plain": [
       "\u001b[1m73×9 DataFrame\u001b[0m\n",
       "\u001b[1m Row \u001b[0m│\u001b[1m suburb             \u001b[0m\u001b[1m population_households_2006 \u001b[0m\u001b[1m population_households_2\u001b[0m ⋯\n",
       "\u001b[1m     \u001b[0m│\u001b[90m String             \u001b[0m\u001b[90m Int64                      \u001b[0m\u001b[90m Int64                  \u001b[0m ⋯\n",
       "─────┼──────────────────────────────────────────────────────────────────────────\n",
       "   1 │ Mairehau                                  2199                        2 ⋯\n",
       "   2 │ Linwood                                   3060                        2\n",
       "   3 │ St Martins                                1134                        1\n",
       "   4 │ Addington                                 1758                        1\n",
       "   5 │ Fendalton                                 1653                        1 ⋯\n",
       "   6 │ St Albans                                 5379                        5\n",
       "   7 │ Shirley                                   2352                        2\n",
       "   8 │ Phillipstown                              1419                        1\n",
       "   9 │ Beckenham                                  897                          ⋯\n",
       "  10 │ Riccarton                                 2871                        2\n",
       "  11 │ Bryndwr                                   3204                        3\n",
       "  ⋮  │         ⋮                       ⋮                           ⋮           ⋱\n",
       "  64 │ Northcote                                  975                        1\n",
       "  65 │ Casebrook                                 1542                        1 ⋯\n",
       "  66 │ Hoon Hay                                  2994                        3\n",
       "  67 │ Clifton                                    720\n",
       "  68 │ North New Brighton                        1656                        1\n",
       "  69 │ Hillmorton                                 852                        1 ⋯\n",
       "  70 │ Redwood                                   3057                        3\n",
       "  71 │ Hei Hei                                   1146                        1\n",
       "  72 │ Aidanfield                                 396\n",
       "  73 │ Sumner                                    1482                        1 ⋯\n",
       "\u001b[36m                                                   7 columns and 52 rows omitted\u001b[0m"
      ]
     },
     "execution_count": 5,
     "metadata": {},
     "output_type": "execute_result"
    }
   ],
   "source": [
    "population_data = CSV.read(\"suburb_level_population_summary.csv\", DataFrame) "
   ]
  },
  {
   "cell_type": "code",
   "execution_count": 6,
   "metadata": {
    "scrolled": true,
    "tags": []
   },
   "outputs": [
    {
     "data": {
      "text/html": [
       "<div class=\"data-frame\"><p>56 rows × 12 columns (omitted printing of 7 columns)</p><table class=\"data-frame\"><thead><tr><th></th><th>suburb</th><th>number_of_schools</th><th>total_school_roll</th><th>primary_schools</th><th>intermediate_schools</th></tr><tr><th></th><th title=\"String\">String</th><th title=\"Int64\">Int64</th><th title=\"Int64\">Int64</th><th title=\"Int64\">Int64</th><th title=\"Int64\">Int64</th></tr></thead><tbody><tr><th>1</th><td>Addington</td><td>2</td><td>465</td><td>2</td><td>1</td></tr><tr><th>2</th><td>Aidanfield</td><td>1</td><td>386</td><td>1</td><td>1</td></tr><tr><th>3</th><td>Aranui</td><td>1</td><td>115</td><td>1</td><td>0</td></tr><tr><th>4</th><td>Avondale</td><td>1</td><td>693</td><td>0</td><td>1</td></tr><tr><th>5</th><td>Avonhead</td><td>3</td><td>1596</td><td>3</td><td>3</td></tr><tr><th>6</th><td>Barrington</td><td>1</td><td>991</td><td>0</td><td>1</td></tr><tr><th>7</th><td>Beckenham</td><td>2</td><td>665</td><td>2</td><td>2</td></tr><tr><th>8</th><td>Belfast</td><td>1</td><td>452</td><td>1</td><td>1</td></tr><tr><th>9</th><td>Bishopdale</td><td>5</td><td>1508</td><td>4</td><td>2</td></tr><tr><th>10</th><td>Bromley</td><td>1</td><td>368</td><td>1</td><td>0</td></tr><tr><th>11</th><td>Bryndwr</td><td>4</td><td>2121</td><td>3</td><td>2</td></tr><tr><th>12</th><td>Burnside</td><td>5</td><td>3853</td><td>4</td><td>1</td></tr><tr><th>13</th><td>Burwood</td><td>1</td><td>612</td><td>1</td><td>0</td></tr><tr><th>14</th><td>Casebrook</td><td>1</td><td>490</td><td>0</td><td>1</td></tr><tr><th>15</th><td>Cashmere</td><td>2</td><td>860</td><td>2</td><td>1</td></tr><tr><th>16</th><td>Christchurch Central</td><td>8</td><td>4567</td><td>5</td><td>5</td></tr><tr><th>17</th><td>Fendalton</td><td>2</td><td>1117</td><td>1</td><td>2</td></tr><tr><th>18</th><td>Halswell</td><td>4</td><td>1624</td><td>3</td><td>3</td></tr><tr><th>19</th><td>Harewood</td><td>1</td><td>191</td><td>1</td><td>0</td></tr><tr><th>20</th><td>Heathcote Valley</td><td>1</td><td>240</td><td>1</td><td>1</td></tr><tr><th>21</th><td>Hei Hei</td><td>1</td><td>190</td><td>1</td><td>0</td></tr><tr><th>22</th><td>Hillmorton</td><td>1</td><td>13</td><td>0</td><td>0</td></tr><tr><th>23</th><td>Hoon Hay</td><td>4</td><td>1092</td><td>4</td><td>1</td></tr><tr><th>24</th><td>Hornby</td><td>4</td><td>1411</td><td>3</td><td>2</td></tr><tr><th>25</th><td>Ilam</td><td>2</td><td>900</td><td>2</td><td>1</td></tr><tr><th>26</th><td>Linwood</td><td>4</td><td>1674</td><td>3</td><td>2</td></tr><tr><th>27</th><td>Mairehau</td><td>2</td><td>721</td><td>1</td><td>1</td></tr><tr><th>28</th><td>Marshland</td><td>1</td><td>531</td><td>1</td><td>1</td></tr><tr><th>29</th><td>Merivale</td><td>6</td><td>2952</td><td>3</td><td>4</td></tr><tr><th>30</th><td>Mt Pleasant</td><td>1</td><td>340</td><td>1</td><td>1</td></tr><tr><th>&vellip;</th><td>&vellip;</td><td>&vellip;</td><td>&vellip;</td><td>&vellip;</td><td>&vellip;</td></tr></tbody></table></div>"
      ],
      "text/latex": [
       "\\begin{tabular}{r|cccccc}\n",
       "\t& suburb & number\\_of\\_schools & total\\_school\\_roll & primary\\_schools & intermediate\\_schools & \\\\\n",
       "\t\\hline\n",
       "\t& String & Int64 & Int64 & Int64 & Int64 & \\\\\n",
       "\t\\hline\n",
       "\t1 & Addington & 2 & 465 & 2 & 1 & $\\dots$ \\\\\n",
       "\t2 & Aidanfield & 1 & 386 & 1 & 1 & $\\dots$ \\\\\n",
       "\t3 & Aranui & 1 & 115 & 1 & 0 & $\\dots$ \\\\\n",
       "\t4 & Avondale & 1 & 693 & 0 & 1 & $\\dots$ \\\\\n",
       "\t5 & Avonhead & 3 & 1596 & 3 & 3 & $\\dots$ \\\\\n",
       "\t6 & Barrington & 1 & 991 & 0 & 1 & $\\dots$ \\\\\n",
       "\t7 & Beckenham & 2 & 665 & 2 & 2 & $\\dots$ \\\\\n",
       "\t8 & Belfast & 1 & 452 & 1 & 1 & $\\dots$ \\\\\n",
       "\t9 & Bishopdale & 5 & 1508 & 4 & 2 & $\\dots$ \\\\\n",
       "\t10 & Bromley & 1 & 368 & 1 & 0 & $\\dots$ \\\\\n",
       "\t11 & Bryndwr & 4 & 2121 & 3 & 2 & $\\dots$ \\\\\n",
       "\t12 & Burnside & 5 & 3853 & 4 & 1 & $\\dots$ \\\\\n",
       "\t13 & Burwood & 1 & 612 & 1 & 0 & $\\dots$ \\\\\n",
       "\t14 & Casebrook & 1 & 490 & 0 & 1 & $\\dots$ \\\\\n",
       "\t15 & Cashmere & 2 & 860 & 2 & 1 & $\\dots$ \\\\\n",
       "\t16 & Christchurch Central & 8 & 4567 & 5 & 5 & $\\dots$ \\\\\n",
       "\t17 & Fendalton & 2 & 1117 & 1 & 2 & $\\dots$ \\\\\n",
       "\t18 & Halswell & 4 & 1624 & 3 & 3 & $\\dots$ \\\\\n",
       "\t19 & Harewood & 1 & 191 & 1 & 0 & $\\dots$ \\\\\n",
       "\t20 & Heathcote Valley & 1 & 240 & 1 & 1 & $\\dots$ \\\\\n",
       "\t21 & Hei Hei & 1 & 190 & 1 & 0 & $\\dots$ \\\\\n",
       "\t22 & Hillmorton & 1 & 13 & 0 & 0 & $\\dots$ \\\\\n",
       "\t23 & Hoon Hay & 4 & 1092 & 4 & 1 & $\\dots$ \\\\\n",
       "\t24 & Hornby & 4 & 1411 & 3 & 2 & $\\dots$ \\\\\n",
       "\t25 & Ilam & 2 & 900 & 2 & 1 & $\\dots$ \\\\\n",
       "\t26 & Linwood & 4 & 1674 & 3 & 2 & $\\dots$ \\\\\n",
       "\t27 & Mairehau & 2 & 721 & 1 & 1 & $\\dots$ \\\\\n",
       "\t28 & Marshland & 1 & 531 & 1 & 1 & $\\dots$ \\\\\n",
       "\t29 & Merivale & 6 & 2952 & 3 & 4 & $\\dots$ \\\\\n",
       "\t30 & Mt Pleasant & 1 & 340 & 1 & 1 & $\\dots$ \\\\\n",
       "\t$\\dots$ & $\\dots$ & $\\dots$ & $\\dots$ & $\\dots$ & $\\dots$ &  \\\\\n",
       "\\end{tabular}\n"
      ],
      "text/plain": [
       "\u001b[1m56×12 DataFrame\u001b[0m\n",
       "\u001b[1m Row \u001b[0m│\u001b[1m suburb             \u001b[0m\u001b[1m number_of_schools \u001b[0m\u001b[1m total_school_roll \u001b[0m\u001b[1m primary_schoo\u001b[0m ⋯\n",
       "\u001b[1m     \u001b[0m│\u001b[90m String             \u001b[0m\u001b[90m Int64             \u001b[0m\u001b[90m Int64             \u001b[0m\u001b[90m Int64        \u001b[0m ⋯\n",
       "─────┼──────────────────────────────────────────────────────────────────────────\n",
       "   1 │ Addington                           2                465                ⋯\n",
       "   2 │ Aidanfield                          1                386\n",
       "   3 │ Aranui                              1                115\n",
       "   4 │ Avondale                            1                693\n",
       "   5 │ Avonhead                            3               1596                ⋯\n",
       "   6 │ Barrington                          1                991\n",
       "   7 │ Beckenham                           2                665\n",
       "   8 │ Belfast                             1                452\n",
       "   9 │ Bishopdale                          5               1508                ⋯\n",
       "  10 │ Bromley                             1                368\n",
       "  11 │ Bryndwr                             4               2121\n",
       "  ⋮  │         ⋮                   ⋮                  ⋮                 ⋮      ⋱\n",
       "  47 │ St Martins                          2               1051\n",
       "  48 │ Strowan                             1                388                ⋯\n",
       "  49 │ Sumner                              3                567\n",
       "  50 │ Templeton                           1                345\n",
       "  51 │ Upper Riccarton                     1                823\n",
       "  52 │ Wainoni                             1                608                ⋯\n",
       "  53 │ Waltham                             2                432\n",
       "  54 │ Weedons                             1                151\n",
       "  55 │ Wigram                              1                342\n",
       "  56 │ Woolston                            5                856                ⋯\n",
       "\u001b[36m                                                   9 columns and 35 rows omitted\u001b[0m"
      ]
     },
     "execution_count": 6,
     "metadata": {},
     "output_type": "execute_result"
    }
   ],
   "source": [
    "school_data = CSV.read(\"suburb_level_schools_summary.csv\", DataFrame) "
   ]
  },
  {
   "cell_type": "code",
   "execution_count": 7,
   "metadata": {
    "scrolled": true,
    "tags": []
   },
   "outputs": [
    {
     "data": {
      "text/html": [
       "<div class=\"data-frame\"><p>91 rows × 1 columns</p><table class=\"data-frame\"><thead><tr><th></th><th>suburb</th></tr><tr><th></th><th title=\"String\">String</th></tr></thead><tbody><tr><th>1</th><td>Central City</td></tr><tr><th>2</th><td>Hornby</td></tr><tr><th>3</th><td>Riccarton</td></tr><tr><th>4</th><td>Sydenham</td></tr><tr><th>5</th><td>Papanui</td></tr><tr><th>6</th><td>Upper Riccarton</td></tr><tr><th>7</th><td>St Albans</td></tr><tr><th>8</th><td>Addington</td></tr><tr><th>9</th><td>Harewood</td></tr><tr><th>10</th><td>Linwood</td></tr><tr><th>11</th><td>Sockburn</td></tr><tr><th>12</th><td>Woolston</td></tr><tr><th>13</th><td>New Brighton</td></tr><tr><th>14</th><td>Ilam</td></tr><tr><th>15</th><td>Richmond</td></tr><tr><th>16</th><td>Lyttelton</td></tr><tr><th>17</th><td>Spreydon</td></tr><tr><th>18</th><td>Shirley</td></tr><tr><th>19</th><td>Bryndwr</td></tr><tr><th>20</th><td>Halswell</td></tr><tr><th>21</th><td>Akaroa</td></tr><tr><th>22</th><td>Avonhead</td></tr><tr><th>23</th><td>Merivale</td></tr><tr><th>24</th><td>Sumner</td></tr><tr><th>25</th><td>Bishopdale</td></tr><tr><th>26</th><td>Belfast</td></tr><tr><th>27</th><td>Middleton</td></tr><tr><th>28</th><td>Wainoni</td></tr><tr><th>29</th><td>Ferrymead</td></tr><tr><th>30</th><td>Hoon Hay</td></tr><tr><th>&vellip;</th><td>&vellip;</td></tr></tbody></table></div>"
      ],
      "text/latex": [
       "\\begin{tabular}{r|c}\n",
       "\t& suburb\\\\\n",
       "\t\\hline\n",
       "\t& String\\\\\n",
       "\t\\hline\n",
       "\t1 & Central City \\\\\n",
       "\t2 & Hornby \\\\\n",
       "\t3 & Riccarton \\\\\n",
       "\t4 & Sydenham \\\\\n",
       "\t5 & Papanui \\\\\n",
       "\t6 & Upper Riccarton \\\\\n",
       "\t7 & St Albans \\\\\n",
       "\t8 & Addington \\\\\n",
       "\t9 & Harewood \\\\\n",
       "\t10 & Linwood \\\\\n",
       "\t11 & Sockburn \\\\\n",
       "\t12 & Woolston \\\\\n",
       "\t13 & New Brighton \\\\\n",
       "\t14 & Ilam \\\\\n",
       "\t15 & Richmond \\\\\n",
       "\t16 & Lyttelton \\\\\n",
       "\t17 & Spreydon \\\\\n",
       "\t18 & Shirley \\\\\n",
       "\t19 & Bryndwr \\\\\n",
       "\t20 & Halswell \\\\\n",
       "\t21 & Akaroa \\\\\n",
       "\t22 & Avonhead \\\\\n",
       "\t23 & Merivale \\\\\n",
       "\t24 & Sumner \\\\\n",
       "\t25 & Bishopdale \\\\\n",
       "\t26 & Belfast \\\\\n",
       "\t27 & Middleton \\\\\n",
       "\t28 & Wainoni \\\\\n",
       "\t29 & Ferrymead \\\\\n",
       "\t30 & Hoon Hay \\\\\n",
       "\t$\\dots$ & $\\dots$ \\\\\n",
       "\\end{tabular}\n"
      ],
      "text/plain": [
       "\u001b[1m91×1 DataFrame\u001b[0m\n",
       "\u001b[1m Row \u001b[0m│\u001b[1m suburb          \u001b[0m\n",
       "\u001b[1m     \u001b[0m│\u001b[90m String          \u001b[0m\n",
       "─────┼─────────────────\n",
       "   1 │ Central City\n",
       "   2 │ Hornby\n",
       "   3 │ Riccarton\n",
       "   4 │ Sydenham\n",
       "   5 │ Papanui\n",
       "   6 │ Upper Riccarton\n",
       "   7 │ St Albans\n",
       "   8 │ Addington\n",
       "   9 │ Harewood\n",
       "  10 │ Linwood\n",
       "  11 │ Sockburn\n",
       "  ⋮  │        ⋮\n",
       "  82 │ Mt Pleasant\n",
       "  83 │ North Beach\n",
       "  84 │ Northcote\n",
       "  85 │ Okains Bay\n",
       "  86 │ Ouruhia\n",
       "  87 │ Southshore\n",
       "  88 │ Travis\n",
       "  89 │ Waimairi Beach\n",
       "  90 │ Westlake\n",
       "  91 │ Westmorland\n",
       "\u001b[36m        70 rows omitted\u001b[0m"
      ]
     },
     "execution_count": 7,
     "metadata": {},
     "output_type": "execute_result"
    }
   ],
   "source": [
    "suburb1 = DataFrame(suburb = food_business_data[:, :suburb])"
   ]
  },
  {
   "cell_type": "code",
   "execution_count": 8,
   "metadata": {
    "scrolled": true,
    "tags": []
   },
   "outputs": [
    {
     "data": {
      "text/html": [
       "<div class=\"data-frame\"><p>58 rows × 1 columns</p><table class=\"data-frame\"><thead><tr><th></th><th>suburb</th></tr><tr><th></th><th title=\"String\">String</th></tr></thead><tbody><tr><th>1</th><td>Addington</td></tr><tr><th>2</th><td>Avondale</td></tr><tr><th>3</th><td>Avonhead</td></tr><tr><th>4</th><td>Avonside</td></tr><tr><th>5</th><td>Beckenham</td></tr><tr><th>6</th><td>Belfast</td></tr><tr><th>7</th><td>Bishopdale</td></tr><tr><th>8</th><td>Bromley</td></tr><tr><th>9</th><td>Bryndwr</td></tr><tr><th>10</th><td>Burnside</td></tr><tr><th>11</th><td>Burwood</td></tr><tr><th>12</th><td>Cashmere</td></tr><tr><th>13</th><td>Central City</td></tr><tr><th>14</th><td>Clifton</td></tr><tr><th>15</th><td>Fendalton</td></tr><tr><th>16</th><td>Ferrymead</td></tr><tr><th>17</th><td>Halswell</td></tr><tr><th>18</th><td>Harewood</td></tr><tr><th>19</th><td>Heathcote</td></tr><tr><th>20</th><td>Hoon Hay</td></tr><tr><th>21</th><td>Hornby</td></tr><tr><th>22</th><td>Huntsbury</td></tr><tr><th>23</th><td>Ilam</td></tr><tr><th>24</th><td>Islington</td></tr><tr><th>25</th><td>Linwood</td></tr><tr><th>26</th><td>Lyttelton</td></tr><tr><th>27</th><td>Mairehau</td></tr><tr><th>28</th><td>Merivale</td></tr><tr><th>29</th><td>Mt Pleasant</td></tr><tr><th>30</th><td>New Brighton</td></tr><tr><th>&vellip;</th><td>&vellip;</td></tr></tbody></table></div>"
      ],
      "text/latex": [
       "\\begin{tabular}{r|c}\n",
       "\t& suburb\\\\\n",
       "\t\\hline\n",
       "\t& String\\\\\n",
       "\t\\hline\n",
       "\t1 & Addington \\\\\n",
       "\t2 & Avondale \\\\\n",
       "\t3 & Avonhead \\\\\n",
       "\t4 & Avonside \\\\\n",
       "\t5 & Beckenham \\\\\n",
       "\t6 & Belfast \\\\\n",
       "\t7 & Bishopdale \\\\\n",
       "\t8 & Bromley \\\\\n",
       "\t9 & Bryndwr \\\\\n",
       "\t10 & Burnside \\\\\n",
       "\t11 & Burwood \\\\\n",
       "\t12 & Cashmere \\\\\n",
       "\t13 & Central City \\\\\n",
       "\t14 & Clifton \\\\\n",
       "\t15 & Fendalton \\\\\n",
       "\t16 & Ferrymead \\\\\n",
       "\t17 & Halswell \\\\\n",
       "\t18 & Harewood \\\\\n",
       "\t19 & Heathcote \\\\\n",
       "\t20 & Hoon Hay \\\\\n",
       "\t21 & Hornby \\\\\n",
       "\t22 & Huntsbury \\\\\n",
       "\t23 & Ilam \\\\\n",
       "\t24 & Islington \\\\\n",
       "\t25 & Linwood \\\\\n",
       "\t26 & Lyttelton \\\\\n",
       "\t27 & Mairehau \\\\\n",
       "\t28 & Merivale \\\\\n",
       "\t29 & Mt Pleasant \\\\\n",
       "\t30 & New Brighton \\\\\n",
       "\t$\\dots$ & $\\dots$ \\\\\n",
       "\\end{tabular}\n"
      ],
      "text/plain": [
       "\u001b[1m58×1 DataFrame\u001b[0m\n",
       "\u001b[1m Row \u001b[0m│\u001b[1m suburb             \u001b[0m\n",
       "\u001b[1m     \u001b[0m│\u001b[90m String             \u001b[0m\n",
       "─────┼────────────────────\n",
       "   1 │ Addington\n",
       "   2 │ Avondale\n",
       "   3 │ Avonhead\n",
       "   4 │ Avonside\n",
       "   5 │ Beckenham\n",
       "   6 │ Belfast\n",
       "   7 │ Bishopdale\n",
       "   8 │ Bromley\n",
       "   9 │ Bryndwr\n",
       "  10 │ Burnside\n",
       "  11 │ Burwood\n",
       "  ⋮  │         ⋮\n",
       "  49 │ Sumner\n",
       "  50 │ Sydenham\n",
       "  51 │ Templeton\n",
       "  52 │ Upper Riccarton\n",
       "  53 │ Waimair Beach\n",
       "  54 │ Wainoni\n",
       "  55 │ Wainui\n",
       "  56 │ Waltham\n",
       "  57 │ Woolston\n",
       "  58 │ Yaldhurst\n",
       "\u001b[36m           37 rows omitted\u001b[0m"
      ]
     },
     "execution_count": 8,
     "metadata": {},
     "output_type": "execute_result"
    }
   ],
   "source": [
    "suburb2 = DataFrame(suburb = alcohol_license_data[:, :suburb])"
   ]
  },
  {
   "cell_type": "code",
   "execution_count": 9,
   "metadata": {
    "scrolled": true,
    "tags": []
   },
   "outputs": [
    {
     "data": {
      "text/html": [
       "<div class=\"data-frame\"><p>80 rows × 1 columns</p><table class=\"data-frame\"><thead><tr><th></th><th>suburb</th></tr><tr><th></th><th title=\"String\">String</th></tr></thead><tbody><tr><th>1</th><td>Clifton</td></tr><tr><th>2</th><td>Kennedys Bush</td></tr><tr><th>3</th><td>Harewood</td></tr><tr><th>4</th><td>Merivale - Christchurch City</td></tr><tr><th>5</th><td>Murray Aynsley</td></tr><tr><th>6</th><td>Fendalton</td></tr><tr><th>7</th><td>Scarborough</td></tr><tr><th>8</th><td>Templeton</td></tr><tr><th>9</th><td>Redcliffs</td></tr><tr><th>10</th><td>Strowan</td></tr><tr><th>11</th><td>Huntsbury</td></tr><tr><th>12</th><td>Ilam</td></tr><tr><th>13</th><td>Marshland</td></tr><tr><th>14</th><td>Westmorland</td></tr><tr><th>15</th><td>Sumner</td></tr><tr><th>16</th><td>Mt Pleasant</td></tr><tr><th>17</th><td>Northwood</td></tr><tr><th>18</th><td>Middleton</td></tr><tr><th>19</th><td>Aidanfield</td></tr><tr><th>20</th><td>Cashmere</td></tr><tr><th>21</th><td>Christchurch Central</td></tr><tr><th>22</th><td>Southshore</td></tr><tr><th>23</th><td>Wigram</td></tr><tr><th>24</th><td>Burnside</td></tr><tr><th>25</th><td>Riccarton</td></tr><tr><th>26</th><td>Hillsborough</td></tr><tr><th>27</th><td>Papanui</td></tr><tr><th>28</th><td>Casebrook</td></tr><tr><th>29</th><td>Heathcote</td></tr><tr><th>30</th><td>Avonhead</td></tr><tr><th>&vellip;</th><td>&vellip;</td></tr></tbody></table></div>"
      ],
      "text/latex": [
       "\\begin{tabular}{r|c}\n",
       "\t& suburb\\\\\n",
       "\t\\hline\n",
       "\t& String\\\\\n",
       "\t\\hline\n",
       "\t1 & Clifton \\\\\n",
       "\t2 & Kennedys Bush \\\\\n",
       "\t3 & Harewood \\\\\n",
       "\t4 & Merivale - Christchurch City \\\\\n",
       "\t5 & Murray Aynsley \\\\\n",
       "\t6 & Fendalton \\\\\n",
       "\t7 & Scarborough \\\\\n",
       "\t8 & Templeton \\\\\n",
       "\t9 & Redcliffs \\\\\n",
       "\t10 & Strowan \\\\\n",
       "\t11 & Huntsbury \\\\\n",
       "\t12 & Ilam \\\\\n",
       "\t13 & Marshland \\\\\n",
       "\t14 & Westmorland \\\\\n",
       "\t15 & Sumner \\\\\n",
       "\t16 & Mt Pleasant \\\\\n",
       "\t17 & Northwood \\\\\n",
       "\t18 & Middleton \\\\\n",
       "\t19 & Aidanfield \\\\\n",
       "\t20 & Cashmere \\\\\n",
       "\t21 & Christchurch Central \\\\\n",
       "\t22 & Southshore \\\\\n",
       "\t23 & Wigram \\\\\n",
       "\t24 & Burnside \\\\\n",
       "\t25 & Riccarton \\\\\n",
       "\t26 & Hillsborough \\\\\n",
       "\t27 & Papanui \\\\\n",
       "\t28 & Casebrook \\\\\n",
       "\t29 & Heathcote \\\\\n",
       "\t30 & Avonhead \\\\\n",
       "\t$\\dots$ & $\\dots$ \\\\\n",
       "\\end{tabular}\n"
      ],
      "text/plain": [
       "\u001b[1m80×1 DataFrame\u001b[0m\n",
       "\u001b[1m Row \u001b[0m│\u001b[1m suburb                       \u001b[0m\n",
       "\u001b[1m     \u001b[0m│\u001b[90m String                       \u001b[0m\n",
       "─────┼──────────────────────────────\n",
       "   1 │ Clifton\n",
       "   2 │ Kennedys Bush\n",
       "   3 │ Harewood\n",
       "   4 │ Merivale - Christchurch City\n",
       "   5 │ Murray Aynsley\n",
       "   6 │ Fendalton\n",
       "   7 │ Scarborough\n",
       "   8 │ Templeton\n",
       "   9 │ Redcliffs\n",
       "  10 │ Strowan\n",
       "  11 │ Huntsbury\n",
       "  ⋮  │              ⋮\n",
       "  71 │ Bromley\n",
       "  72 │ Avonside\n",
       "  73 │ Moncks Spur\n",
       "  74 │ Avondale\n",
       "  75 │ New Brighton\n",
       "  76 │ Aranui\n",
       "  77 │ Wainoni\n",
       "  78 │ North Beach\n",
       "  79 │ Bexley\n",
       "  80 │ Kainga\n",
       "\u001b[36m                     59 rows omitted\u001b[0m"
      ]
     },
     "execution_count": 9,
     "metadata": {},
     "output_type": "execute_result"
    }
   ],
   "source": [
    "suburb3 = DataFrame(suburb = housing_data[:, :suburb])"
   ]
  },
  {
   "cell_type": "code",
   "execution_count": 10,
   "metadata": {
    "scrolled": true,
    "tags": []
   },
   "outputs": [
    {
     "data": {
      "text/html": [
       "<div class=\"data-frame\"><p>73 rows × 1 columns</p><table class=\"data-frame\"><thead><tr><th></th><th>suburb</th></tr><tr><th></th><th title=\"String\">String</th></tr></thead><tbody><tr><th>1</th><td>Mairehau</td></tr><tr><th>2</th><td>Linwood</td></tr><tr><th>3</th><td>St Martins</td></tr><tr><th>4</th><td>Addington</td></tr><tr><th>5</th><td>Fendalton</td></tr><tr><th>6</th><td>St Albans</td></tr><tr><th>7</th><td>Shirley</td></tr><tr><th>8</th><td>Phillipstown</td></tr><tr><th>9</th><td>Beckenham</td></tr><tr><th>10</th><td>Riccarton</td></tr><tr><th>11</th><td>Bryndwr</td></tr><tr><th>12</th><td>Edgeware</td></tr><tr><th>13</th><td>Dallington</td></tr><tr><th>14</th><td>Woolston</td></tr><tr><th>15</th><td>Sydenham</td></tr><tr><th>16</th><td>Ilam</td></tr><tr><th>17</th><td>Strowan</td></tr><tr><th>18</th><td>Richmond</td></tr><tr><th>19</th><td>Opawa</td></tr><tr><th>20</th><td>Somerfield</td></tr><tr><th>21</th><td>Upper Riccarton</td></tr><tr><th>22</th><td>Merivale</td></tr><tr><th>23</th><td>Avonside</td></tr><tr><th>24</th><td>Waltham</td></tr><tr><th>25</th><td>Spreydon</td></tr><tr><th>26</th><td>Burnside</td></tr><tr><th>27</th><td>Papanui</td></tr><tr><th>28</th><td>Halswell</td></tr><tr><th>29</th><td>Broomfield</td></tr><tr><th>30</th><td>Ferrymead</td></tr><tr><th>&vellip;</th><td>&vellip;</td></tr></tbody></table></div>"
      ],
      "text/latex": [
       "\\begin{tabular}{r|c}\n",
       "\t& suburb\\\\\n",
       "\t\\hline\n",
       "\t& String\\\\\n",
       "\t\\hline\n",
       "\t1 & Mairehau \\\\\n",
       "\t2 & Linwood \\\\\n",
       "\t3 & St Martins \\\\\n",
       "\t4 & Addington \\\\\n",
       "\t5 & Fendalton \\\\\n",
       "\t6 & St Albans \\\\\n",
       "\t7 & Shirley \\\\\n",
       "\t8 & Phillipstown \\\\\n",
       "\t9 & Beckenham \\\\\n",
       "\t10 & Riccarton \\\\\n",
       "\t11 & Bryndwr \\\\\n",
       "\t12 & Edgeware \\\\\n",
       "\t13 & Dallington \\\\\n",
       "\t14 & Woolston \\\\\n",
       "\t15 & Sydenham \\\\\n",
       "\t16 & Ilam \\\\\n",
       "\t17 & Strowan \\\\\n",
       "\t18 & Richmond \\\\\n",
       "\t19 & Opawa \\\\\n",
       "\t20 & Somerfield \\\\\n",
       "\t21 & Upper Riccarton \\\\\n",
       "\t22 & Merivale \\\\\n",
       "\t23 & Avonside \\\\\n",
       "\t24 & Waltham \\\\\n",
       "\t25 & Spreydon \\\\\n",
       "\t26 & Burnside \\\\\n",
       "\t27 & Papanui \\\\\n",
       "\t28 & Halswell \\\\\n",
       "\t29 & Broomfield \\\\\n",
       "\t30 & Ferrymead \\\\\n",
       "\t$\\dots$ & $\\dots$ \\\\\n",
       "\\end{tabular}\n"
      ],
      "text/plain": [
       "\u001b[1m73×1 DataFrame\u001b[0m\n",
       "\u001b[1m Row \u001b[0m│\u001b[1m suburb             \u001b[0m\n",
       "\u001b[1m     \u001b[0m│\u001b[90m String             \u001b[0m\n",
       "─────┼────────────────────\n",
       "   1 │ Mairehau\n",
       "   2 │ Linwood\n",
       "   3 │ St Martins\n",
       "   4 │ Addington\n",
       "   5 │ Fendalton\n",
       "   6 │ St Albans\n",
       "   7 │ Shirley\n",
       "   8 │ Phillipstown\n",
       "   9 │ Beckenham\n",
       "  10 │ Riccarton\n",
       "  11 │ Bryndwr\n",
       "  ⋮  │         ⋮\n",
       "  64 │ Northcote\n",
       "  65 │ Casebrook\n",
       "  66 │ Hoon Hay\n",
       "  67 │ Clifton\n",
       "  68 │ North New Brighton\n",
       "  69 │ Hillmorton\n",
       "  70 │ Redwood\n",
       "  71 │ Hei Hei\n",
       "  72 │ Aidanfield\n",
       "  73 │ Sumner\n",
       "\u001b[36m           52 rows omitted\u001b[0m"
      ]
     },
     "execution_count": 10,
     "metadata": {},
     "output_type": "execute_result"
    }
   ],
   "source": [
    "suburb4 = DataFrame(suburb = population_data[:,:suburb])"
   ]
  },
  {
   "cell_type": "code",
   "execution_count": 11,
   "metadata": {
    "scrolled": true,
    "tags": []
   },
   "outputs": [
    {
     "data": {
      "text/html": [
       "<div class=\"data-frame\"><p>56 rows × 1 columns</p><table class=\"data-frame\"><thead><tr><th></th><th>suburb</th></tr><tr><th></th><th title=\"String\">String</th></tr></thead><tbody><tr><th>1</th><td>Addington</td></tr><tr><th>2</th><td>Aidanfield</td></tr><tr><th>3</th><td>Aranui</td></tr><tr><th>4</th><td>Avondale</td></tr><tr><th>5</th><td>Avonhead</td></tr><tr><th>6</th><td>Barrington</td></tr><tr><th>7</th><td>Beckenham</td></tr><tr><th>8</th><td>Belfast</td></tr><tr><th>9</th><td>Bishopdale</td></tr><tr><th>10</th><td>Bromley</td></tr><tr><th>11</th><td>Bryndwr</td></tr><tr><th>12</th><td>Burnside</td></tr><tr><th>13</th><td>Burwood</td></tr><tr><th>14</th><td>Casebrook</td></tr><tr><th>15</th><td>Cashmere</td></tr><tr><th>16</th><td>Christchurch Central</td></tr><tr><th>17</th><td>Fendalton</td></tr><tr><th>18</th><td>Halswell</td></tr><tr><th>19</th><td>Harewood</td></tr><tr><th>20</th><td>Heathcote Valley</td></tr><tr><th>21</th><td>Hei Hei</td></tr><tr><th>22</th><td>Hillmorton</td></tr><tr><th>23</th><td>Hoon Hay</td></tr><tr><th>24</th><td>Hornby</td></tr><tr><th>25</th><td>Ilam</td></tr><tr><th>26</th><td>Linwood</td></tr><tr><th>27</th><td>Mairehau</td></tr><tr><th>28</th><td>Marshland</td></tr><tr><th>29</th><td>Merivale</td></tr><tr><th>30</th><td>Mt Pleasant</td></tr><tr><th>&vellip;</th><td>&vellip;</td></tr></tbody></table></div>"
      ],
      "text/latex": [
       "\\begin{tabular}{r|c}\n",
       "\t& suburb\\\\\n",
       "\t\\hline\n",
       "\t& String\\\\\n",
       "\t\\hline\n",
       "\t1 & Addington \\\\\n",
       "\t2 & Aidanfield \\\\\n",
       "\t3 & Aranui \\\\\n",
       "\t4 & Avondale \\\\\n",
       "\t5 & Avonhead \\\\\n",
       "\t6 & Barrington \\\\\n",
       "\t7 & Beckenham \\\\\n",
       "\t8 & Belfast \\\\\n",
       "\t9 & Bishopdale \\\\\n",
       "\t10 & Bromley \\\\\n",
       "\t11 & Bryndwr \\\\\n",
       "\t12 & Burnside \\\\\n",
       "\t13 & Burwood \\\\\n",
       "\t14 & Casebrook \\\\\n",
       "\t15 & Cashmere \\\\\n",
       "\t16 & Christchurch Central \\\\\n",
       "\t17 & Fendalton \\\\\n",
       "\t18 & Halswell \\\\\n",
       "\t19 & Harewood \\\\\n",
       "\t20 & Heathcote Valley \\\\\n",
       "\t21 & Hei Hei \\\\\n",
       "\t22 & Hillmorton \\\\\n",
       "\t23 & Hoon Hay \\\\\n",
       "\t24 & Hornby \\\\\n",
       "\t25 & Ilam \\\\\n",
       "\t26 & Linwood \\\\\n",
       "\t27 & Mairehau \\\\\n",
       "\t28 & Marshland \\\\\n",
       "\t29 & Merivale \\\\\n",
       "\t30 & Mt Pleasant \\\\\n",
       "\t$\\dots$ & $\\dots$ \\\\\n",
       "\\end{tabular}\n"
      ],
      "text/plain": [
       "\u001b[1m56×1 DataFrame\u001b[0m\n",
       "\u001b[1m Row \u001b[0m│\u001b[1m suburb             \u001b[0m\n",
       "\u001b[1m     \u001b[0m│\u001b[90m String             \u001b[0m\n",
       "─────┼────────────────────\n",
       "   1 │ Addington\n",
       "   2 │ Aidanfield\n",
       "   3 │ Aranui\n",
       "   4 │ Avondale\n",
       "   5 │ Avonhead\n",
       "   6 │ Barrington\n",
       "   7 │ Beckenham\n",
       "   8 │ Belfast\n",
       "   9 │ Bishopdale\n",
       "  10 │ Bromley\n",
       "  11 │ Bryndwr\n",
       "  ⋮  │         ⋮\n",
       "  47 │ St Martins\n",
       "  48 │ Strowan\n",
       "  49 │ Sumner\n",
       "  50 │ Templeton\n",
       "  51 │ Upper Riccarton\n",
       "  52 │ Wainoni\n",
       "  53 │ Waltham\n",
       "  54 │ Weedons\n",
       "  55 │ Wigram\n",
       "  56 │ Woolston\n",
       "\u001b[36m           35 rows omitted\u001b[0m"
      ]
     },
     "execution_count": 11,
     "metadata": {},
     "output_type": "execute_result"
    }
   ],
   "source": [
    "suburb5 = DataFrame(suburb = school_data[:, :suburb])"
   ]
  },
  {
   "cell_type": "code",
   "execution_count": 12,
   "metadata": {
    "scrolled": true,
    "tags": []
   },
   "outputs": [
    {
     "data": {
      "text/html": [
       "<div class=\"data-frame\"><p>112 rows × 1 columns</p><table class=\"data-frame\"><thead><tr><th></th><th>suburb</th></tr><tr><th></th><th title=\"String\">String</th></tr></thead><tbody><tr><th>1</th><td>Hornby</td></tr><tr><th>2</th><td>Riccarton</td></tr><tr><th>3</th><td>Papanui</td></tr><tr><th>4</th><td>Upper Riccarton</td></tr><tr><th>5</th><td>St Albans</td></tr><tr><th>6</th><td>Addington</td></tr><tr><th>7</th><td>Harewood</td></tr><tr><th>8</th><td>Linwood</td></tr><tr><th>9</th><td>Sockburn</td></tr><tr><th>10</th><td>Woolston</td></tr><tr><th>11</th><td>New Brighton</td></tr><tr><th>12</th><td>Ilam</td></tr><tr><th>13</th><td>Spreydon</td></tr><tr><th>14</th><td>Shirley</td></tr><tr><th>15</th><td>Bryndwr</td></tr><tr><th>16</th><td>Halswell</td></tr><tr><th>17</th><td>Avonhead</td></tr><tr><th>18</th><td>Sumner</td></tr><tr><th>19</th><td>Bishopdale</td></tr><tr><th>20</th><td>Belfast</td></tr><tr><th>21</th><td>Wainoni</td></tr><tr><th>22</th><td>Hoon Hay</td></tr><tr><th>23</th><td>Redwood</td></tr><tr><th>24</th><td>Phillipstown</td></tr><tr><th>25</th><td>Burnside</td></tr><tr><th>26</th><td>Waltham</td></tr><tr><th>27</th><td>Opawa</td></tr><tr><th>28</th><td>Burwood</td></tr><tr><th>29</th><td>Bromley</td></tr><tr><th>30</th><td>Fendalton</td></tr><tr><th>&vellip;</th><td>&vellip;</td></tr></tbody></table></div>"
      ],
      "text/latex": [
       "\\begin{tabular}{r|c}\n",
       "\t& suburb\\\\\n",
       "\t\\hline\n",
       "\t& String\\\\\n",
       "\t\\hline\n",
       "\t1 & Hornby \\\\\n",
       "\t2 & Riccarton \\\\\n",
       "\t3 & Papanui \\\\\n",
       "\t4 & Upper Riccarton \\\\\n",
       "\t5 & St Albans \\\\\n",
       "\t6 & Addington \\\\\n",
       "\t7 & Harewood \\\\\n",
       "\t8 & Linwood \\\\\n",
       "\t9 & Sockburn \\\\\n",
       "\t10 & Woolston \\\\\n",
       "\t11 & New Brighton \\\\\n",
       "\t12 & Ilam \\\\\n",
       "\t13 & Spreydon \\\\\n",
       "\t14 & Shirley \\\\\n",
       "\t15 & Bryndwr \\\\\n",
       "\t16 & Halswell \\\\\n",
       "\t17 & Avonhead \\\\\n",
       "\t18 & Sumner \\\\\n",
       "\t19 & Bishopdale \\\\\n",
       "\t20 & Belfast \\\\\n",
       "\t21 & Wainoni \\\\\n",
       "\t22 & Hoon Hay \\\\\n",
       "\t23 & Redwood \\\\\n",
       "\t24 & Phillipstown \\\\\n",
       "\t25 & Burnside \\\\\n",
       "\t26 & Waltham \\\\\n",
       "\t27 & Opawa \\\\\n",
       "\t28 & Burwood \\\\\n",
       "\t29 & Bromley \\\\\n",
       "\t30 & Fendalton \\\\\n",
       "\t$\\dots$ & $\\dots$ \\\\\n",
       "\\end{tabular}\n"
      ],
      "text/plain": [
       "\u001b[1m112×1 DataFrame\u001b[0m\n",
       "\u001b[1m Row \u001b[0m│\u001b[1m suburb                       \u001b[0m\n",
       "\u001b[1m     \u001b[0m│\u001b[90m String                       \u001b[0m\n",
       "─────┼──────────────────────────────\n",
       "   1 │ Hornby\n",
       "   2 │ Riccarton\n",
       "   3 │ Papanui\n",
       "   4 │ Upper Riccarton\n",
       "   5 │ St Albans\n",
       "   6 │ Addington\n",
       "   7 │ Harewood\n",
       "   8 │ Linwood\n",
       "   9 │ Sockburn\n",
       "  10 │ Woolston\n",
       "  11 │ New Brighton\n",
       "  ⋮  │              ⋮\n",
       " 103 │ Merivale - Christchurch City\n",
       " 104 │ Murray Aynsley\n",
       " 105 │ Scarborough\n",
       " 106 │ Richmond Hill\n",
       " 107 │ Moncks Spur\n",
       " 108 │ Bexley\n",
       " 109 │ Kainga\n",
       " 110 │ Broomfield\n",
       " 111 │ Barrington\n",
       " 112 │ Weedons\n",
       "\u001b[36m                     91 rows omitted\u001b[0m"
      ]
     },
     "execution_count": 12,
     "metadata": {},
     "output_type": "execute_result"
    }
   ],
   "source": [
    "combined_suburb = outerjoin(suburb1, suburb2, suburb3, suburb4, suburb5, on =:suburb => :suburb, makeunique=true)"
   ]
  },
  {
   "cell_type": "markdown",
   "metadata": {},
   "source": [
    "Next, left outer join from the combined suburb unique list to the 5 datasets."
   ]
  },
  {
   "cell_type": "markdown",
   "metadata": {},
   "source": [
    "Next, join the 5 dataset together with the combined distinct suburbs:"
   ]
  },
  {
   "cell_type": "code",
   "execution_count": 13,
   "metadata": {
    "scrolled": true,
    "tags": []
   },
   "outputs": [
    {
     "data": {
      "text/html": [
       "<div class=\"data-frame\"><p>112 rows × 16 columns (omitted printing of 11 columns)</p><table class=\"data-frame\"><thead><tr><th></th><th>suburb</th><th>cnt_total_business</th><th>cnt_takeaway</th><th>cnt_eat_in_premises</th><th>cnt_retail</th></tr><tr><th></th><th title=\"String\">String</th><th title=\"Union{Missing, Int64}\">Int64?</th><th title=\"Union{Missing, Int64}\">Int64?</th><th title=\"Union{Missing, Int64}\">Int64?</th><th title=\"Union{Missing, Int64}\">Int64?</th></tr></thead><tbody><tr><th>1</th><td>Hornby</td><td>123</td><td>57</td><td>48</td><td>30</td></tr><tr><th>2</th><td>Riccarton</td><td>117</td><td>68</td><td>79</td><td>25</td></tr><tr><th>3</th><td>Papanui</td><td>88</td><td>49</td><td>48</td><td>15</td></tr><tr><th>4</th><td>Upper Riccarton</td><td>87</td><td>50</td><td>45</td><td>27</td></tr><tr><th>5</th><td>St Albans</td><td>84</td><td>34</td><td>32</td><td>26</td></tr><tr><th>6</th><td>Addington</td><td>76</td><td>27</td><td>42</td><td>17</td></tr><tr><th>7</th><td>Harewood</td><td>66</td><td>25</td><td>42</td><td>23</td></tr><tr><th>8</th><td>Linwood</td><td>64</td><td>25</td><td>16</td><td>25</td></tr><tr><th>9</th><td>Sockburn</td><td>64</td><td>19</td><td>10</td><td>16</td></tr><tr><th>10</th><td>Woolston</td><td>52</td><td>27</td><td>17</td><td>16</td></tr><tr><th>11</th><td>New Brighton</td><td>44</td><td>22</td><td>17</td><td>7</td></tr><tr><th>12</th><td>Ilam</td><td>42</td><td>22</td><td>23</td><td>19</td></tr><tr><th>13</th><td>Spreydon</td><td>37</td><td>15</td><td>13</td><td>12</td></tr><tr><th>14</th><td>Shirley</td><td>36</td><td>18</td><td>21</td><td>7</td></tr><tr><th>15</th><td>Bryndwr</td><td>35</td><td>17</td><td>10</td><td>11</td></tr><tr><th>16</th><td>Halswell</td><td>34</td><td>17</td><td>19</td><td>8</td></tr><tr><th>17</th><td>Avonhead</td><td>32</td><td>11</td><td>6</td><td>9</td></tr><tr><th>18</th><td>Sumner</td><td>30</td><td>16</td><td>20</td><td>3</td></tr><tr><th>19</th><td>Bishopdale</td><td>29</td><td>14</td><td>12</td><td>9</td></tr><tr><th>20</th><td>Belfast</td><td>27</td><td>8</td><td>10</td><td>5</td></tr><tr><th>21</th><td>Wainoni</td><td>27</td><td>15</td><td>5</td><td>9</td></tr><tr><th>22</th><td>Hoon Hay</td><td>26</td><td>13</td><td>6</td><td>8</td></tr><tr><th>23</th><td>Redwood</td><td>26</td><td>13</td><td>13</td><td>7</td></tr><tr><th>24</th><td>Phillipstown</td><td>23</td><td>13</td><td>10</td><td>5</td></tr><tr><th>25</th><td>Burnside</td><td>22</td><td>16</td><td>9</td><td>3</td></tr><tr><th>26</th><td>Waltham</td><td>22</td><td>8</td><td>6</td><td>6</td></tr><tr><th>27</th><td>Opawa</td><td>21</td><td>10</td><td>7</td><td>6</td></tr><tr><th>28</th><td>Burwood</td><td>18</td><td>5</td><td>3</td><td>6</td></tr><tr><th>29</th><td>Bromley</td><td>17</td><td>6</td><td>3</td><td>10</td></tr><tr><th>30</th><td>Fendalton</td><td>15</td><td>7</td><td>9</td><td>3</td></tr><tr><th>&vellip;</th><td>&vellip;</td><td>&vellip;</td><td>&vellip;</td><td>&vellip;</td><td>&vellip;</td></tr></tbody></table></div>"
      ],
      "text/latex": [
       "\\begin{tabular}{r|cccccc}\n",
       "\t& suburb & cnt\\_total\\_business & cnt\\_takeaway & cnt\\_eat\\_in\\_premises & cnt\\_retail & \\\\\n",
       "\t\\hline\n",
       "\t& String & Int64? & Int64? & Int64? & Int64? & \\\\\n",
       "\t\\hline\n",
       "\t1 & Hornby & 123 & 57 & 48 & 30 & $\\dots$ \\\\\n",
       "\t2 & Riccarton & 117 & 68 & 79 & 25 & $\\dots$ \\\\\n",
       "\t3 & Papanui & 88 & 49 & 48 & 15 & $\\dots$ \\\\\n",
       "\t4 & Upper Riccarton & 87 & 50 & 45 & 27 & $\\dots$ \\\\\n",
       "\t5 & St Albans & 84 & 34 & 32 & 26 & $\\dots$ \\\\\n",
       "\t6 & Addington & 76 & 27 & 42 & 17 & $\\dots$ \\\\\n",
       "\t7 & Harewood & 66 & 25 & 42 & 23 & $\\dots$ \\\\\n",
       "\t8 & Linwood & 64 & 25 & 16 & 25 & $\\dots$ \\\\\n",
       "\t9 & Sockburn & 64 & 19 & 10 & 16 & $\\dots$ \\\\\n",
       "\t10 & Woolston & 52 & 27 & 17 & 16 & $\\dots$ \\\\\n",
       "\t11 & New Brighton & 44 & 22 & 17 & 7 & $\\dots$ \\\\\n",
       "\t12 & Ilam & 42 & 22 & 23 & 19 & $\\dots$ \\\\\n",
       "\t13 & Spreydon & 37 & 15 & 13 & 12 & $\\dots$ \\\\\n",
       "\t14 & Shirley & 36 & 18 & 21 & 7 & $\\dots$ \\\\\n",
       "\t15 & Bryndwr & 35 & 17 & 10 & 11 & $\\dots$ \\\\\n",
       "\t16 & Halswell & 34 & 17 & 19 & 8 & $\\dots$ \\\\\n",
       "\t17 & Avonhead & 32 & 11 & 6 & 9 & $\\dots$ \\\\\n",
       "\t18 & Sumner & 30 & 16 & 20 & 3 & $\\dots$ \\\\\n",
       "\t19 & Bishopdale & 29 & 14 & 12 & 9 & $\\dots$ \\\\\n",
       "\t20 & Belfast & 27 & 8 & 10 & 5 & $\\dots$ \\\\\n",
       "\t21 & Wainoni & 27 & 15 & 5 & 9 & $\\dots$ \\\\\n",
       "\t22 & Hoon Hay & 26 & 13 & 6 & 8 & $\\dots$ \\\\\n",
       "\t23 & Redwood & 26 & 13 & 13 & 7 & $\\dots$ \\\\\n",
       "\t24 & Phillipstown & 23 & 13 & 10 & 5 & $\\dots$ \\\\\n",
       "\t25 & Burnside & 22 & 16 & 9 & 3 & $\\dots$ \\\\\n",
       "\t26 & Waltham & 22 & 8 & 6 & 6 & $\\dots$ \\\\\n",
       "\t27 & Opawa & 21 & 10 & 7 & 6 & $\\dots$ \\\\\n",
       "\t28 & Burwood & 18 & 5 & 3 & 6 & $\\dots$ \\\\\n",
       "\t29 & Bromley & 17 & 6 & 3 & 10 & $\\dots$ \\\\\n",
       "\t30 & Fendalton & 15 & 7 & 9 & 3 & $\\dots$ \\\\\n",
       "\t$\\dots$ & $\\dots$ & $\\dots$ & $\\dots$ & $\\dots$ & $\\dots$ &  \\\\\n",
       "\\end{tabular}\n"
      ],
      "text/plain": [
       "\u001b[1m112×16 DataFrame\u001b[0m\n",
       "\u001b[1m Row \u001b[0m│\u001b[1m suburb                       \u001b[0m\u001b[1m cnt_total_business \u001b[0m\u001b[1m cnt_takeaway \u001b[0m\u001b[1m cnt_eat\u001b[0m ⋯\n",
       "\u001b[1m     \u001b[0m│\u001b[90m String                       \u001b[0m\u001b[90m Int64?             \u001b[0m\u001b[90m Int64?       \u001b[0m\u001b[90m Int64? \u001b[0m ⋯\n",
       "─────┼──────────────────────────────────────────────────────────────────────────\n",
       "   1 │ Hornby                                       123            57          ⋯\n",
       "   2 │ Riccarton                                    117            68\n",
       "   3 │ Papanui                                       88            49\n",
       "   4 │ Upper Riccarton                               87            50\n",
       "   5 │ St Albans                                     84            34          ⋯\n",
       "   6 │ Addington                                     76            27\n",
       "   7 │ Harewood                                      66            25\n",
       "   8 │ Linwood                                       64            25\n",
       "   9 │ Sockburn                                      64            19          ⋯\n",
       "  10 │ Woolston                                      52            27\n",
       "  11 │ New Brighton                                  44            22\n",
       "  ⋮  │              ⋮                        ⋮                ⋮                ⋱\n",
       " 103 │ Merivale - Christchurch City \u001b[90m            missing \u001b[0m\u001b[90m      missing \u001b[0m\u001b[90m\u001b[0m\n",
       " 104 │ Murray Aynsley               \u001b[90m            missing \u001b[0m\u001b[90m      missing \u001b[0m\u001b[90m        \u001b[0m ⋯\n",
       " 105 │ Scarborough                  \u001b[90m            missing \u001b[0m\u001b[90m      missing \u001b[0m\u001b[90m\u001b[0m\n",
       " 106 │ Richmond Hill                \u001b[90m            missing \u001b[0m\u001b[90m      missing \u001b[0m\u001b[90m\u001b[0m\n",
       " 107 │ Moncks Spur                  \u001b[90m            missing \u001b[0m\u001b[90m      missing \u001b[0m\u001b[90m\u001b[0m\n",
       " 108 │ Bexley                       \u001b[90m            missing \u001b[0m\u001b[90m      missing \u001b[0m\u001b[90m        \u001b[0m ⋯\n",
       " 109 │ Kainga                       \u001b[90m            missing \u001b[0m\u001b[90m      missing \u001b[0m\u001b[90m\u001b[0m\n",
       " 110 │ Broomfield                   \u001b[90m            missing \u001b[0m\u001b[90m      missing \u001b[0m\u001b[90m\u001b[0m\n",
       " 111 │ Barrington                   \u001b[90m            missing \u001b[0m\u001b[90m      missing \u001b[0m\u001b[90m\u001b[0m\n",
       " 112 │ Weedons                      \u001b[90m            missing \u001b[0m\u001b[90m      missing \u001b[0m\u001b[90m        \u001b[0m ⋯\n",
       "\u001b[36m                                                  13 columns and 91 rows omitted\u001b[0m"
      ]
     },
     "execution_count": 13,
     "metadata": {},
     "output_type": "execute_result"
    }
   ],
   "source": [
    "final_combined1 = leftjoin(combined_suburb, food_business_data, on =:suburb => :suburb, makeunique=true)"
   ]
  },
  {
   "cell_type": "code",
   "execution_count": 14,
   "metadata": {
    "scrolled": true,
    "tags": []
   },
   "outputs": [
    {
     "data": {
      "text/html": [
       "<div class=\"data-frame\"><p>112 rows × 32 columns (omitted printing of 27 columns)</p><table class=\"data-frame\"><thead><tr><th></th><th>suburb</th><th>cnt_total_business</th><th>cnt_takeaway</th><th>cnt_eat_in_premises</th><th>cnt_retail</th></tr><tr><th></th><th title=\"String\">String</th><th title=\"Union{Missing, Int64}\">Int64?</th><th title=\"Union{Missing, Int64}\">Int64?</th><th title=\"Union{Missing, Int64}\">Int64?</th><th title=\"Union{Missing, Int64}\">Int64?</th></tr></thead><tbody><tr><th>1</th><td>Hornby</td><td>123</td><td>57</td><td>48</td><td>30</td></tr><tr><th>2</th><td>Riccarton</td><td>117</td><td>68</td><td>79</td><td>25</td></tr><tr><th>3</th><td>Papanui</td><td>88</td><td>49</td><td>48</td><td>15</td></tr><tr><th>4</th><td>Upper Riccarton</td><td>87</td><td>50</td><td>45</td><td>27</td></tr><tr><th>5</th><td>St Albans</td><td>84</td><td>34</td><td>32</td><td>26</td></tr><tr><th>6</th><td>Addington</td><td>76</td><td>27</td><td>42</td><td>17</td></tr><tr><th>7</th><td>Harewood</td><td>66</td><td>25</td><td>42</td><td>23</td></tr><tr><th>8</th><td>Linwood</td><td>64</td><td>25</td><td>16</td><td>25</td></tr><tr><th>9</th><td>Sockburn</td><td>64</td><td>19</td><td>10</td><td>16</td></tr><tr><th>10</th><td>Woolston</td><td>52</td><td>27</td><td>17</td><td>16</td></tr><tr><th>11</th><td>New Brighton</td><td>44</td><td>22</td><td>17</td><td>7</td></tr><tr><th>12</th><td>Ilam</td><td>42</td><td>22</td><td>23</td><td>19</td></tr><tr><th>13</th><td>Spreydon</td><td>37</td><td>15</td><td>13</td><td>12</td></tr><tr><th>14</th><td>Shirley</td><td>36</td><td>18</td><td>21</td><td>7</td></tr><tr><th>15</th><td>Bryndwr</td><td>35</td><td>17</td><td>10</td><td>11</td></tr><tr><th>16</th><td>Halswell</td><td>34</td><td>17</td><td>19</td><td>8</td></tr><tr><th>17</th><td>Avonhead</td><td>32</td><td>11</td><td>6</td><td>9</td></tr><tr><th>18</th><td>Sumner</td><td>30</td><td>16</td><td>20</td><td>3</td></tr><tr><th>19</th><td>Bishopdale</td><td>29</td><td>14</td><td>12</td><td>9</td></tr><tr><th>20</th><td>Belfast</td><td>27</td><td>8</td><td>10</td><td>5</td></tr><tr><th>21</th><td>Wainoni</td><td>27</td><td>15</td><td>5</td><td>9</td></tr><tr><th>22</th><td>Hoon Hay</td><td>26</td><td>13</td><td>6</td><td>8</td></tr><tr><th>23</th><td>Redwood</td><td>26</td><td>13</td><td>13</td><td>7</td></tr><tr><th>24</th><td>Phillipstown</td><td>23</td><td>13</td><td>10</td><td>5</td></tr><tr><th>25</th><td>Burnside</td><td>22</td><td>16</td><td>9</td><td>3</td></tr><tr><th>26</th><td>Waltham</td><td>22</td><td>8</td><td>6</td><td>6</td></tr><tr><th>27</th><td>Opawa</td><td>21</td><td>10</td><td>7</td><td>6</td></tr><tr><th>28</th><td>Burwood</td><td>18</td><td>5</td><td>3</td><td>6</td></tr><tr><th>29</th><td>Bromley</td><td>17</td><td>6</td><td>3</td><td>10</td></tr><tr><th>30</th><td>Fendalton</td><td>15</td><td>7</td><td>9</td><td>3</td></tr><tr><th>&vellip;</th><td>&vellip;</td><td>&vellip;</td><td>&vellip;</td><td>&vellip;</td><td>&vellip;</td></tr></tbody></table></div>"
      ],
      "text/latex": [
       "\\begin{tabular}{r|cccccc}\n",
       "\t& suburb & cnt\\_total\\_business & cnt\\_takeaway & cnt\\_eat\\_in\\_premises & cnt\\_retail & \\\\\n",
       "\t\\hline\n",
       "\t& String & Int64? & Int64? & Int64? & Int64? & \\\\\n",
       "\t\\hline\n",
       "\t1 & Hornby & 123 & 57 & 48 & 30 & $\\dots$ \\\\\n",
       "\t2 & Riccarton & 117 & 68 & 79 & 25 & $\\dots$ \\\\\n",
       "\t3 & Papanui & 88 & 49 & 48 & 15 & $\\dots$ \\\\\n",
       "\t4 & Upper Riccarton & 87 & 50 & 45 & 27 & $\\dots$ \\\\\n",
       "\t5 & St Albans & 84 & 34 & 32 & 26 & $\\dots$ \\\\\n",
       "\t6 & Addington & 76 & 27 & 42 & 17 & $\\dots$ \\\\\n",
       "\t7 & Harewood & 66 & 25 & 42 & 23 & $\\dots$ \\\\\n",
       "\t8 & Linwood & 64 & 25 & 16 & 25 & $\\dots$ \\\\\n",
       "\t9 & Sockburn & 64 & 19 & 10 & 16 & $\\dots$ \\\\\n",
       "\t10 & Woolston & 52 & 27 & 17 & 16 & $\\dots$ \\\\\n",
       "\t11 & New Brighton & 44 & 22 & 17 & 7 & $\\dots$ \\\\\n",
       "\t12 & Ilam & 42 & 22 & 23 & 19 & $\\dots$ \\\\\n",
       "\t13 & Spreydon & 37 & 15 & 13 & 12 & $\\dots$ \\\\\n",
       "\t14 & Shirley & 36 & 18 & 21 & 7 & $\\dots$ \\\\\n",
       "\t15 & Bryndwr & 35 & 17 & 10 & 11 & $\\dots$ \\\\\n",
       "\t16 & Halswell & 34 & 17 & 19 & 8 & $\\dots$ \\\\\n",
       "\t17 & Avonhead & 32 & 11 & 6 & 9 & $\\dots$ \\\\\n",
       "\t18 & Sumner & 30 & 16 & 20 & 3 & $\\dots$ \\\\\n",
       "\t19 & Bishopdale & 29 & 14 & 12 & 9 & $\\dots$ \\\\\n",
       "\t20 & Belfast & 27 & 8 & 10 & 5 & $\\dots$ \\\\\n",
       "\t21 & Wainoni & 27 & 15 & 5 & 9 & $\\dots$ \\\\\n",
       "\t22 & Hoon Hay & 26 & 13 & 6 & 8 & $\\dots$ \\\\\n",
       "\t23 & Redwood & 26 & 13 & 13 & 7 & $\\dots$ \\\\\n",
       "\t24 & Phillipstown & 23 & 13 & 10 & 5 & $\\dots$ \\\\\n",
       "\t25 & Burnside & 22 & 16 & 9 & 3 & $\\dots$ \\\\\n",
       "\t26 & Waltham & 22 & 8 & 6 & 6 & $\\dots$ \\\\\n",
       "\t27 & Opawa & 21 & 10 & 7 & 6 & $\\dots$ \\\\\n",
       "\t28 & Burwood & 18 & 5 & 3 & 6 & $\\dots$ \\\\\n",
       "\t29 & Bromley & 17 & 6 & 3 & 10 & $\\dots$ \\\\\n",
       "\t30 & Fendalton & 15 & 7 & 9 & 3 & $\\dots$ \\\\\n",
       "\t$\\dots$ & $\\dots$ & $\\dots$ & $\\dots$ & $\\dots$ & $\\dots$ &  \\\\\n",
       "\\end{tabular}\n"
      ],
      "text/plain": [
       "\u001b[1m112×32 DataFrame\u001b[0m\n",
       "\u001b[1m Row \u001b[0m│\u001b[1m suburb                       \u001b[0m\u001b[1m cnt_total_business \u001b[0m\u001b[1m cnt_takeaway \u001b[0m\u001b[1m cnt_eat\u001b[0m ⋯\n",
       "\u001b[1m     \u001b[0m│\u001b[90m String                       \u001b[0m\u001b[90m Int64?             \u001b[0m\u001b[90m Int64?       \u001b[0m\u001b[90m Int64? \u001b[0m ⋯\n",
       "─────┼──────────────────────────────────────────────────────────────────────────\n",
       "   1 │ Hornby                                       123            57          ⋯\n",
       "   2 │ Riccarton                                    117            68\n",
       "   3 │ Papanui                                       88            49\n",
       "   4 │ Upper Riccarton                               87            50\n",
       "   5 │ St Albans                                     84            34          ⋯\n",
       "   6 │ Addington                                     76            27\n",
       "   7 │ Harewood                                      66            25\n",
       "   8 │ Linwood                                       64            25\n",
       "   9 │ Sockburn                                      64            19          ⋯\n",
       "  10 │ Woolston                                      52            27\n",
       "  11 │ New Brighton                                  44            22\n",
       "  ⋮  │              ⋮                        ⋮                ⋮                ⋱\n",
       " 103 │ Merivale - Christchurch City \u001b[90m            missing \u001b[0m\u001b[90m      missing \u001b[0m\u001b[90m\u001b[0m\n",
       " 104 │ Murray Aynsley               \u001b[90m            missing \u001b[0m\u001b[90m      missing \u001b[0m\u001b[90m        \u001b[0m ⋯\n",
       " 105 │ Scarborough                  \u001b[90m            missing \u001b[0m\u001b[90m      missing \u001b[0m\u001b[90m\u001b[0m\n",
       " 106 │ Richmond Hill                \u001b[90m            missing \u001b[0m\u001b[90m      missing \u001b[0m\u001b[90m\u001b[0m\n",
       " 107 │ Moncks Spur                  \u001b[90m            missing \u001b[0m\u001b[90m      missing \u001b[0m\u001b[90m\u001b[0m\n",
       " 108 │ Bexley                       \u001b[90m            missing \u001b[0m\u001b[90m      missing \u001b[0m\u001b[90m        \u001b[0m ⋯\n",
       " 109 │ Kainga                       \u001b[90m            missing \u001b[0m\u001b[90m      missing \u001b[0m\u001b[90m\u001b[0m\n",
       " 110 │ Broomfield                   \u001b[90m            missing \u001b[0m\u001b[90m      missing \u001b[0m\u001b[90m\u001b[0m\n",
       " 111 │ Barrington                   \u001b[90m            missing \u001b[0m\u001b[90m      missing \u001b[0m\u001b[90m\u001b[0m\n",
       " 112 │ Weedons                      \u001b[90m            missing \u001b[0m\u001b[90m      missing \u001b[0m\u001b[90m        \u001b[0m ⋯\n",
       "\u001b[36m                                                  29 columns and 91 rows omitted\u001b[0m"
      ]
     },
     "execution_count": 14,
     "metadata": {},
     "output_type": "execute_result"
    }
   ],
   "source": [
    "final_combined2 = leftjoin(final_combined1, alcohol_license_data, on =:suburb => :suburb, makeunique=true)"
   ]
  },
  {
   "cell_type": "code",
   "execution_count": 15,
   "metadata": {
    "scrolled": true,
    "tags": []
   },
   "outputs": [
    {
     "data": {
      "text/html": [
       "<div class=\"data-frame\"><p>112 rows × 37 columns (omitted printing of 32 columns)</p><table class=\"data-frame\"><thead><tr><th></th><th>suburb</th><th>cnt_total_business</th><th>cnt_takeaway</th><th>cnt_eat_in_premises</th><th>cnt_retail</th></tr><tr><th></th><th title=\"String\">String</th><th title=\"Union{Missing, Int64}\">Int64?</th><th title=\"Union{Missing, Int64}\">Int64?</th><th title=\"Union{Missing, Int64}\">Int64?</th><th title=\"Union{Missing, Int64}\">Int64?</th></tr></thead><tbody><tr><th>1</th><td>Hornby</td><td>123</td><td>57</td><td>48</td><td>30</td></tr><tr><th>2</th><td>Riccarton</td><td>117</td><td>68</td><td>79</td><td>25</td></tr><tr><th>3</th><td>Papanui</td><td>88</td><td>49</td><td>48</td><td>15</td></tr><tr><th>4</th><td>Upper Riccarton</td><td>87</td><td>50</td><td>45</td><td>27</td></tr><tr><th>5</th><td>St Albans</td><td>84</td><td>34</td><td>32</td><td>26</td></tr><tr><th>6</th><td>Addington</td><td>76</td><td>27</td><td>42</td><td>17</td></tr><tr><th>7</th><td>Harewood</td><td>66</td><td>25</td><td>42</td><td>23</td></tr><tr><th>8</th><td>Linwood</td><td>64</td><td>25</td><td>16</td><td>25</td></tr><tr><th>9</th><td>Sockburn</td><td>64</td><td>19</td><td>10</td><td>16</td></tr><tr><th>10</th><td>Woolston</td><td>52</td><td>27</td><td>17</td><td>16</td></tr><tr><th>11</th><td>New Brighton</td><td>44</td><td>22</td><td>17</td><td>7</td></tr><tr><th>12</th><td>Ilam</td><td>42</td><td>22</td><td>23</td><td>19</td></tr><tr><th>13</th><td>Spreydon</td><td>37</td><td>15</td><td>13</td><td>12</td></tr><tr><th>14</th><td>Shirley</td><td>36</td><td>18</td><td>21</td><td>7</td></tr><tr><th>15</th><td>Bryndwr</td><td>35</td><td>17</td><td>10</td><td>11</td></tr><tr><th>16</th><td>Halswell</td><td>34</td><td>17</td><td>19</td><td>8</td></tr><tr><th>17</th><td>Avonhead</td><td>32</td><td>11</td><td>6</td><td>9</td></tr><tr><th>18</th><td>Sumner</td><td>30</td><td>16</td><td>20</td><td>3</td></tr><tr><th>19</th><td>Bishopdale</td><td>29</td><td>14</td><td>12</td><td>9</td></tr><tr><th>20</th><td>Belfast</td><td>27</td><td>8</td><td>10</td><td>5</td></tr><tr><th>21</th><td>Wainoni</td><td>27</td><td>15</td><td>5</td><td>9</td></tr><tr><th>22</th><td>Hoon Hay</td><td>26</td><td>13</td><td>6</td><td>8</td></tr><tr><th>23</th><td>Redwood</td><td>26</td><td>13</td><td>13</td><td>7</td></tr><tr><th>24</th><td>Phillipstown</td><td>23</td><td>13</td><td>10</td><td>5</td></tr><tr><th>25</th><td>Burnside</td><td>22</td><td>16</td><td>9</td><td>3</td></tr><tr><th>26</th><td>Waltham</td><td>22</td><td>8</td><td>6</td><td>6</td></tr><tr><th>27</th><td>Opawa</td><td>21</td><td>10</td><td>7</td><td>6</td></tr><tr><th>28</th><td>Burwood</td><td>18</td><td>5</td><td>3</td><td>6</td></tr><tr><th>29</th><td>Bromley</td><td>17</td><td>6</td><td>3</td><td>10</td></tr><tr><th>30</th><td>Fendalton</td><td>15</td><td>7</td><td>9</td><td>3</td></tr><tr><th>&vellip;</th><td>&vellip;</td><td>&vellip;</td><td>&vellip;</td><td>&vellip;</td><td>&vellip;</td></tr></tbody></table></div>"
      ],
      "text/latex": [
       "\\begin{tabular}{r|cccccc}\n",
       "\t& suburb & cnt\\_total\\_business & cnt\\_takeaway & cnt\\_eat\\_in\\_premises & cnt\\_retail & \\\\\n",
       "\t\\hline\n",
       "\t& String & Int64? & Int64? & Int64? & Int64? & \\\\\n",
       "\t\\hline\n",
       "\t1 & Hornby & 123 & 57 & 48 & 30 & $\\dots$ \\\\\n",
       "\t2 & Riccarton & 117 & 68 & 79 & 25 & $\\dots$ \\\\\n",
       "\t3 & Papanui & 88 & 49 & 48 & 15 & $\\dots$ \\\\\n",
       "\t4 & Upper Riccarton & 87 & 50 & 45 & 27 & $\\dots$ \\\\\n",
       "\t5 & St Albans & 84 & 34 & 32 & 26 & $\\dots$ \\\\\n",
       "\t6 & Addington & 76 & 27 & 42 & 17 & $\\dots$ \\\\\n",
       "\t7 & Harewood & 66 & 25 & 42 & 23 & $\\dots$ \\\\\n",
       "\t8 & Linwood & 64 & 25 & 16 & 25 & $\\dots$ \\\\\n",
       "\t9 & Sockburn & 64 & 19 & 10 & 16 & $\\dots$ \\\\\n",
       "\t10 & Woolston & 52 & 27 & 17 & 16 & $\\dots$ \\\\\n",
       "\t11 & New Brighton & 44 & 22 & 17 & 7 & $\\dots$ \\\\\n",
       "\t12 & Ilam & 42 & 22 & 23 & 19 & $\\dots$ \\\\\n",
       "\t13 & Spreydon & 37 & 15 & 13 & 12 & $\\dots$ \\\\\n",
       "\t14 & Shirley & 36 & 18 & 21 & 7 & $\\dots$ \\\\\n",
       "\t15 & Bryndwr & 35 & 17 & 10 & 11 & $\\dots$ \\\\\n",
       "\t16 & Halswell & 34 & 17 & 19 & 8 & $\\dots$ \\\\\n",
       "\t17 & Avonhead & 32 & 11 & 6 & 9 & $\\dots$ \\\\\n",
       "\t18 & Sumner & 30 & 16 & 20 & 3 & $\\dots$ \\\\\n",
       "\t19 & Bishopdale & 29 & 14 & 12 & 9 & $\\dots$ \\\\\n",
       "\t20 & Belfast & 27 & 8 & 10 & 5 & $\\dots$ \\\\\n",
       "\t21 & Wainoni & 27 & 15 & 5 & 9 & $\\dots$ \\\\\n",
       "\t22 & Hoon Hay & 26 & 13 & 6 & 8 & $\\dots$ \\\\\n",
       "\t23 & Redwood & 26 & 13 & 13 & 7 & $\\dots$ \\\\\n",
       "\t24 & Phillipstown & 23 & 13 & 10 & 5 & $\\dots$ \\\\\n",
       "\t25 & Burnside & 22 & 16 & 9 & 3 & $\\dots$ \\\\\n",
       "\t26 & Waltham & 22 & 8 & 6 & 6 & $\\dots$ \\\\\n",
       "\t27 & Opawa & 21 & 10 & 7 & 6 & $\\dots$ \\\\\n",
       "\t28 & Burwood & 18 & 5 & 3 & 6 & $\\dots$ \\\\\n",
       "\t29 & Bromley & 17 & 6 & 3 & 10 & $\\dots$ \\\\\n",
       "\t30 & Fendalton & 15 & 7 & 9 & 3 & $\\dots$ \\\\\n",
       "\t$\\dots$ & $\\dots$ & $\\dots$ & $\\dots$ & $\\dots$ & $\\dots$ &  \\\\\n",
       "\\end{tabular}\n"
      ],
      "text/plain": [
       "\u001b[1m112×37 DataFrame\u001b[0m\n",
       "\u001b[1m Row \u001b[0m│\u001b[1m suburb                    \u001b[0m\u001b[1m cnt_total_business \u001b[0m\u001b[1m cnt_takeaway \u001b[0m\u001b[1m cnt_eat_in\u001b[0m ⋯\n",
       "\u001b[1m     \u001b[0m│\u001b[90m String                    \u001b[0m\u001b[90m Int64?             \u001b[0m\u001b[90m Int64?       \u001b[0m\u001b[90m Int64?    \u001b[0m ⋯\n",
       "─────┼──────────────────────────────────────────────────────────────────────────\n",
       "   1 │ Hornby                                    123            57             ⋯\n",
       "   2 │ Riccarton                                 117            68\n",
       "   3 │ Papanui                                    88            49\n",
       "   4 │ Upper Riccarton                            87            50\n",
       "   5 │ St Albans                                  84            34             ⋯\n",
       "   6 │ Addington                                  76            27\n",
       "   7 │ Harewood                                   66            25\n",
       "   8 │ Linwood                                    64            25\n",
       "   9 │ Sockburn                                   64            19             ⋯\n",
       "  10 │ Woolston                                   52            27\n",
       "  11 │ New Brighton                               44            22\n",
       "  ⋮  │             ⋮                      ⋮                ⋮                 ⋮ ⋱\n",
       " 103 │ Hyde Park                                   1             0\n",
       " 104 │ Masham                                      1             0             ⋯\n",
       " 105 │ Motukarara                                  1             0\n",
       " 106 │ Okains Bay                                  1             0\n",
       " 107 │ Travis                                      1             1\n",
       " 108 │ Westlake                                    1             0             ⋯\n",
       " 109 │ Heathcote Valley          \u001b[90m            missing \u001b[0m\u001b[90m      missing \u001b[0m\u001b[90m\u001b[0m\n",
       " 110 │ Broomfield                \u001b[90m            missing \u001b[0m\u001b[90m      missing \u001b[0m\u001b[90m\u001b[0m\n",
       " 111 │ Barrington                \u001b[90m            missing \u001b[0m\u001b[90m      missing \u001b[0m\u001b[90m\u001b[0m\n",
       " 112 │ Weedons                   \u001b[90m            missing \u001b[0m\u001b[90m      missing \u001b[0m\u001b[90m           \u001b[0m ⋯\n",
       "\u001b[36m                                                  34 columns and 91 rows omitted\u001b[0m"
      ]
     },
     "execution_count": 15,
     "metadata": {},
     "output_type": "execute_result"
    }
   ],
   "source": [
    "final_combined3 = leftjoin(final_combined2, housing_data, on =:suburb => :suburb, makeunique=true)"
   ]
  },
  {
   "cell_type": "code",
   "execution_count": 16,
   "metadata": {
    "scrolled": true,
    "tags": []
   },
   "outputs": [
    {
     "data": {
      "text/html": [
       "<div class=\"data-frame\"><p>112 rows × 45 columns (omitted printing of 40 columns)</p><table class=\"data-frame\"><thead><tr><th></th><th>suburb</th><th>cnt_total_business</th><th>cnt_takeaway</th><th>cnt_eat_in_premises</th><th>cnt_retail</th></tr><tr><th></th><th title=\"String\">String</th><th title=\"Union{Missing, Int64}\">Int64?</th><th title=\"Union{Missing, Int64}\">Int64?</th><th title=\"Union{Missing, Int64}\">Int64?</th><th title=\"Union{Missing, Int64}\">Int64?</th></tr></thead><tbody><tr><th>1</th><td>Hornby</td><td>123</td><td>57</td><td>48</td><td>30</td></tr><tr><th>2</th><td>Riccarton</td><td>117</td><td>68</td><td>79</td><td>25</td></tr><tr><th>3</th><td>Papanui</td><td>88</td><td>49</td><td>48</td><td>15</td></tr><tr><th>4</th><td>Upper Riccarton</td><td>87</td><td>50</td><td>45</td><td>27</td></tr><tr><th>5</th><td>St Albans</td><td>84</td><td>34</td><td>32</td><td>26</td></tr><tr><th>6</th><td>Addington</td><td>76</td><td>27</td><td>42</td><td>17</td></tr><tr><th>7</th><td>Harewood</td><td>66</td><td>25</td><td>42</td><td>23</td></tr><tr><th>8</th><td>Linwood</td><td>64</td><td>25</td><td>16</td><td>25</td></tr><tr><th>9</th><td>Sockburn</td><td>64</td><td>19</td><td>10</td><td>16</td></tr><tr><th>10</th><td>Woolston</td><td>52</td><td>27</td><td>17</td><td>16</td></tr><tr><th>11</th><td>New Brighton</td><td>44</td><td>22</td><td>17</td><td>7</td></tr><tr><th>12</th><td>Ilam</td><td>42</td><td>22</td><td>23</td><td>19</td></tr><tr><th>13</th><td>Spreydon</td><td>37</td><td>15</td><td>13</td><td>12</td></tr><tr><th>14</th><td>Shirley</td><td>36</td><td>18</td><td>21</td><td>7</td></tr><tr><th>15</th><td>Bryndwr</td><td>35</td><td>17</td><td>10</td><td>11</td></tr><tr><th>16</th><td>Halswell</td><td>34</td><td>17</td><td>19</td><td>8</td></tr><tr><th>17</th><td>Avonhead</td><td>32</td><td>11</td><td>6</td><td>9</td></tr><tr><th>18</th><td>Sumner</td><td>30</td><td>16</td><td>20</td><td>3</td></tr><tr><th>19</th><td>Bishopdale</td><td>29</td><td>14</td><td>12</td><td>9</td></tr><tr><th>20</th><td>Belfast</td><td>27</td><td>8</td><td>10</td><td>5</td></tr><tr><th>21</th><td>Wainoni</td><td>27</td><td>15</td><td>5</td><td>9</td></tr><tr><th>22</th><td>Hoon Hay</td><td>26</td><td>13</td><td>6</td><td>8</td></tr><tr><th>23</th><td>Redwood</td><td>26</td><td>13</td><td>13</td><td>7</td></tr><tr><th>24</th><td>Phillipstown</td><td>23</td><td>13</td><td>10</td><td>5</td></tr><tr><th>25</th><td>Burnside</td><td>22</td><td>16</td><td>9</td><td>3</td></tr><tr><th>26</th><td>Waltham</td><td>22</td><td>8</td><td>6</td><td>6</td></tr><tr><th>27</th><td>Opawa</td><td>21</td><td>10</td><td>7</td><td>6</td></tr><tr><th>28</th><td>Burwood</td><td>18</td><td>5</td><td>3</td><td>6</td></tr><tr><th>29</th><td>Bromley</td><td>17</td><td>6</td><td>3</td><td>10</td></tr><tr><th>30</th><td>Fendalton</td><td>15</td><td>7</td><td>9</td><td>3</td></tr><tr><th>&vellip;</th><td>&vellip;</td><td>&vellip;</td><td>&vellip;</td><td>&vellip;</td><td>&vellip;</td></tr></tbody></table></div>"
      ],
      "text/latex": [
       "\\begin{tabular}{r|cccccc}\n",
       "\t& suburb & cnt\\_total\\_business & cnt\\_takeaway & cnt\\_eat\\_in\\_premises & cnt\\_retail & \\\\\n",
       "\t\\hline\n",
       "\t& String & Int64? & Int64? & Int64? & Int64? & \\\\\n",
       "\t\\hline\n",
       "\t1 & Hornby & 123 & 57 & 48 & 30 & $\\dots$ \\\\\n",
       "\t2 & Riccarton & 117 & 68 & 79 & 25 & $\\dots$ \\\\\n",
       "\t3 & Papanui & 88 & 49 & 48 & 15 & $\\dots$ \\\\\n",
       "\t4 & Upper Riccarton & 87 & 50 & 45 & 27 & $\\dots$ \\\\\n",
       "\t5 & St Albans & 84 & 34 & 32 & 26 & $\\dots$ \\\\\n",
       "\t6 & Addington & 76 & 27 & 42 & 17 & $\\dots$ \\\\\n",
       "\t7 & Harewood & 66 & 25 & 42 & 23 & $\\dots$ \\\\\n",
       "\t8 & Linwood & 64 & 25 & 16 & 25 & $\\dots$ \\\\\n",
       "\t9 & Sockburn & 64 & 19 & 10 & 16 & $\\dots$ \\\\\n",
       "\t10 & Woolston & 52 & 27 & 17 & 16 & $\\dots$ \\\\\n",
       "\t11 & New Brighton & 44 & 22 & 17 & 7 & $\\dots$ \\\\\n",
       "\t12 & Ilam & 42 & 22 & 23 & 19 & $\\dots$ \\\\\n",
       "\t13 & Spreydon & 37 & 15 & 13 & 12 & $\\dots$ \\\\\n",
       "\t14 & Shirley & 36 & 18 & 21 & 7 & $\\dots$ \\\\\n",
       "\t15 & Bryndwr & 35 & 17 & 10 & 11 & $\\dots$ \\\\\n",
       "\t16 & Halswell & 34 & 17 & 19 & 8 & $\\dots$ \\\\\n",
       "\t17 & Avonhead & 32 & 11 & 6 & 9 & $\\dots$ \\\\\n",
       "\t18 & Sumner & 30 & 16 & 20 & 3 & $\\dots$ \\\\\n",
       "\t19 & Bishopdale & 29 & 14 & 12 & 9 & $\\dots$ \\\\\n",
       "\t20 & Belfast & 27 & 8 & 10 & 5 & $\\dots$ \\\\\n",
       "\t21 & Wainoni & 27 & 15 & 5 & 9 & $\\dots$ \\\\\n",
       "\t22 & Hoon Hay & 26 & 13 & 6 & 8 & $\\dots$ \\\\\n",
       "\t23 & Redwood & 26 & 13 & 13 & 7 & $\\dots$ \\\\\n",
       "\t24 & Phillipstown & 23 & 13 & 10 & 5 & $\\dots$ \\\\\n",
       "\t25 & Burnside & 22 & 16 & 9 & 3 & $\\dots$ \\\\\n",
       "\t26 & Waltham & 22 & 8 & 6 & 6 & $\\dots$ \\\\\n",
       "\t27 & Opawa & 21 & 10 & 7 & 6 & $\\dots$ \\\\\n",
       "\t28 & Burwood & 18 & 5 & 3 & 6 & $\\dots$ \\\\\n",
       "\t29 & Bromley & 17 & 6 & 3 & 10 & $\\dots$ \\\\\n",
       "\t30 & Fendalton & 15 & 7 & 9 & 3 & $\\dots$ \\\\\n",
       "\t$\\dots$ & $\\dots$ & $\\dots$ & $\\dots$ & $\\dots$ & $\\dots$ &  \\\\\n",
       "\\end{tabular}\n"
      ],
      "text/plain": [
       "\u001b[1m112×45 DataFrame\u001b[0m\n",
       "\u001b[1m Row \u001b[0m│\u001b[1m suburb                    \u001b[0m\u001b[1m cnt_total_business \u001b[0m\u001b[1m cnt_takeaway \u001b[0m\u001b[1m cnt_eat_in\u001b[0m ⋯\n",
       "\u001b[1m     \u001b[0m│\u001b[90m String                    \u001b[0m\u001b[90m Int64?             \u001b[0m\u001b[90m Int64?       \u001b[0m\u001b[90m Int64?    \u001b[0m ⋯\n",
       "─────┼──────────────────────────────────────────────────────────────────────────\n",
       "   1 │ Hornby                                    123            57             ⋯\n",
       "   2 │ Riccarton                                 117            68\n",
       "   3 │ Papanui                                    88            49\n",
       "   4 │ Upper Riccarton                            87            50\n",
       "   5 │ St Albans                                  84            34             ⋯\n",
       "   6 │ Addington                                  76            27\n",
       "   7 │ Harewood                                   66            25\n",
       "   8 │ Linwood                                    64            25\n",
       "   9 │ Sockburn                                   64            19             ⋯\n",
       "  10 │ Woolston                                   52            27\n",
       "  11 │ New Brighton                               44            22\n",
       "  ⋮  │             ⋮                      ⋮                ⋮                 ⋮ ⋱\n",
       " 103 │ Christchurch City Council                   1             0\n",
       " 104 │ Cracroft                                    1             1             ⋯\n",
       " 105 │ Hyde Park                                   1             0\n",
       " 106 │ Masham                                      1             0\n",
       " 107 │ Motukarara                                  1             0\n",
       " 108 │ Okains Bay                                  1             0             ⋯\n",
       " 109 │ Travis                                      1             1\n",
       " 110 │ Westlake                                    1             0\n",
       " 111 │ Barrington                \u001b[90m            missing \u001b[0m\u001b[90m      missing \u001b[0m\u001b[90m\u001b[0m\n",
       " 112 │ Weedons                   \u001b[90m            missing \u001b[0m\u001b[90m      missing \u001b[0m\u001b[90m           \u001b[0m ⋯\n",
       "\u001b[36m                                                  42 columns and 91 rows omitted\u001b[0m"
      ]
     },
     "execution_count": 16,
     "metadata": {},
     "output_type": "execute_result"
    }
   ],
   "source": [
    "final_combined4 = leftjoin(final_combined3, population_data, on =:suburb => :suburb, makeunique=true)"
   ]
  },
  {
   "cell_type": "code",
   "execution_count": 17,
   "metadata": {
    "scrolled": true,
    "tags": []
   },
   "outputs": [
    {
     "data": {
      "text/html": [
       "<div class=\"data-frame\"><p>112 rows × 56 columns (omitted printing of 51 columns)</p><table class=\"data-frame\"><thead><tr><th></th><th>suburb</th><th>cnt_total_business</th><th>cnt_takeaway</th><th>cnt_eat_in_premises</th><th>cnt_retail</th></tr><tr><th></th><th title=\"String\">String</th><th title=\"Union{Missing, Int64}\">Int64?</th><th title=\"Union{Missing, Int64}\">Int64?</th><th title=\"Union{Missing, Int64}\">Int64?</th><th title=\"Union{Missing, Int64}\">Int64?</th></tr></thead><tbody><tr><th>1</th><td>Hornby</td><td>123</td><td>57</td><td>48</td><td>30</td></tr><tr><th>2</th><td>Riccarton</td><td>117</td><td>68</td><td>79</td><td>25</td></tr><tr><th>3</th><td>Papanui</td><td>88</td><td>49</td><td>48</td><td>15</td></tr><tr><th>4</th><td>Upper Riccarton</td><td>87</td><td>50</td><td>45</td><td>27</td></tr><tr><th>5</th><td>St Albans</td><td>84</td><td>34</td><td>32</td><td>26</td></tr><tr><th>6</th><td>Addington</td><td>76</td><td>27</td><td>42</td><td>17</td></tr><tr><th>7</th><td>Harewood</td><td>66</td><td>25</td><td>42</td><td>23</td></tr><tr><th>8</th><td>Linwood</td><td>64</td><td>25</td><td>16</td><td>25</td></tr><tr><th>9</th><td>Sockburn</td><td>64</td><td>19</td><td>10</td><td>16</td></tr><tr><th>10</th><td>Woolston</td><td>52</td><td>27</td><td>17</td><td>16</td></tr><tr><th>11</th><td>New Brighton</td><td>44</td><td>22</td><td>17</td><td>7</td></tr><tr><th>12</th><td>Ilam</td><td>42</td><td>22</td><td>23</td><td>19</td></tr><tr><th>13</th><td>Spreydon</td><td>37</td><td>15</td><td>13</td><td>12</td></tr><tr><th>14</th><td>Shirley</td><td>36</td><td>18</td><td>21</td><td>7</td></tr><tr><th>15</th><td>Bryndwr</td><td>35</td><td>17</td><td>10</td><td>11</td></tr><tr><th>16</th><td>Halswell</td><td>34</td><td>17</td><td>19</td><td>8</td></tr><tr><th>17</th><td>Avonhead</td><td>32</td><td>11</td><td>6</td><td>9</td></tr><tr><th>18</th><td>Sumner</td><td>30</td><td>16</td><td>20</td><td>3</td></tr><tr><th>19</th><td>Bishopdale</td><td>29</td><td>14</td><td>12</td><td>9</td></tr><tr><th>20</th><td>Belfast</td><td>27</td><td>8</td><td>10</td><td>5</td></tr><tr><th>21</th><td>Wainoni</td><td>27</td><td>15</td><td>5</td><td>9</td></tr><tr><th>22</th><td>Hoon Hay</td><td>26</td><td>13</td><td>6</td><td>8</td></tr><tr><th>23</th><td>Redwood</td><td>26</td><td>13</td><td>13</td><td>7</td></tr><tr><th>24</th><td>Phillipstown</td><td>23</td><td>13</td><td>10</td><td>5</td></tr><tr><th>25</th><td>Burnside</td><td>22</td><td>16</td><td>9</td><td>3</td></tr><tr><th>26</th><td>Waltham</td><td>22</td><td>8</td><td>6</td><td>6</td></tr><tr><th>27</th><td>Opawa</td><td>21</td><td>10</td><td>7</td><td>6</td></tr><tr><th>28</th><td>Burwood</td><td>18</td><td>5</td><td>3</td><td>6</td></tr><tr><th>29</th><td>Bromley</td><td>17</td><td>6</td><td>3</td><td>10</td></tr><tr><th>30</th><td>Fendalton</td><td>15</td><td>7</td><td>9</td><td>3</td></tr><tr><th>&vellip;</th><td>&vellip;</td><td>&vellip;</td><td>&vellip;</td><td>&vellip;</td><td>&vellip;</td></tr></tbody></table></div>"
      ],
      "text/latex": [
       "\\begin{tabular}{r|cccccc}\n",
       "\t& suburb & cnt\\_total\\_business & cnt\\_takeaway & cnt\\_eat\\_in\\_premises & cnt\\_retail & \\\\\n",
       "\t\\hline\n",
       "\t& String & Int64? & Int64? & Int64? & Int64? & \\\\\n",
       "\t\\hline\n",
       "\t1 & Hornby & 123 & 57 & 48 & 30 & $\\dots$ \\\\\n",
       "\t2 & Riccarton & 117 & 68 & 79 & 25 & $\\dots$ \\\\\n",
       "\t3 & Papanui & 88 & 49 & 48 & 15 & $\\dots$ \\\\\n",
       "\t4 & Upper Riccarton & 87 & 50 & 45 & 27 & $\\dots$ \\\\\n",
       "\t5 & St Albans & 84 & 34 & 32 & 26 & $\\dots$ \\\\\n",
       "\t6 & Addington & 76 & 27 & 42 & 17 & $\\dots$ \\\\\n",
       "\t7 & Harewood & 66 & 25 & 42 & 23 & $\\dots$ \\\\\n",
       "\t8 & Linwood & 64 & 25 & 16 & 25 & $\\dots$ \\\\\n",
       "\t9 & Sockburn & 64 & 19 & 10 & 16 & $\\dots$ \\\\\n",
       "\t10 & Woolston & 52 & 27 & 17 & 16 & $\\dots$ \\\\\n",
       "\t11 & New Brighton & 44 & 22 & 17 & 7 & $\\dots$ \\\\\n",
       "\t12 & Ilam & 42 & 22 & 23 & 19 & $\\dots$ \\\\\n",
       "\t13 & Spreydon & 37 & 15 & 13 & 12 & $\\dots$ \\\\\n",
       "\t14 & Shirley & 36 & 18 & 21 & 7 & $\\dots$ \\\\\n",
       "\t15 & Bryndwr & 35 & 17 & 10 & 11 & $\\dots$ \\\\\n",
       "\t16 & Halswell & 34 & 17 & 19 & 8 & $\\dots$ \\\\\n",
       "\t17 & Avonhead & 32 & 11 & 6 & 9 & $\\dots$ \\\\\n",
       "\t18 & Sumner & 30 & 16 & 20 & 3 & $\\dots$ \\\\\n",
       "\t19 & Bishopdale & 29 & 14 & 12 & 9 & $\\dots$ \\\\\n",
       "\t20 & Belfast & 27 & 8 & 10 & 5 & $\\dots$ \\\\\n",
       "\t21 & Wainoni & 27 & 15 & 5 & 9 & $\\dots$ \\\\\n",
       "\t22 & Hoon Hay & 26 & 13 & 6 & 8 & $\\dots$ \\\\\n",
       "\t23 & Redwood & 26 & 13 & 13 & 7 & $\\dots$ \\\\\n",
       "\t24 & Phillipstown & 23 & 13 & 10 & 5 & $\\dots$ \\\\\n",
       "\t25 & Burnside & 22 & 16 & 9 & 3 & $\\dots$ \\\\\n",
       "\t26 & Waltham & 22 & 8 & 6 & 6 & $\\dots$ \\\\\n",
       "\t27 & Opawa & 21 & 10 & 7 & 6 & $\\dots$ \\\\\n",
       "\t28 & Burwood & 18 & 5 & 3 & 6 & $\\dots$ \\\\\n",
       "\t29 & Bromley & 17 & 6 & 3 & 10 & $\\dots$ \\\\\n",
       "\t30 & Fendalton & 15 & 7 & 9 & 3 & $\\dots$ \\\\\n",
       "\t$\\dots$ & $\\dots$ & $\\dots$ & $\\dots$ & $\\dots$ & $\\dots$ &  \\\\\n",
       "\\end{tabular}\n"
      ],
      "text/plain": [
       "\u001b[1m112×56 DataFrame\u001b[0m\n",
       "\u001b[1m Row \u001b[0m│\u001b[1m suburb                    \u001b[0m\u001b[1m cnt_total_business \u001b[0m\u001b[1m cnt_takeaway \u001b[0m\u001b[1m cnt_eat_in\u001b[0m ⋯\n",
       "\u001b[1m     \u001b[0m│\u001b[90m String                    \u001b[0m\u001b[90m Int64?             \u001b[0m\u001b[90m Int64?       \u001b[0m\u001b[90m Int64?    \u001b[0m ⋯\n",
       "─────┼──────────────────────────────────────────────────────────────────────────\n",
       "   1 │ Hornby                                    123            57             ⋯\n",
       "   2 │ Riccarton                                 117            68\n",
       "   3 │ Papanui                                    88            49\n",
       "   4 │ Upper Riccarton                            87            50\n",
       "   5 │ St Albans                                  84            34             ⋯\n",
       "   6 │ Addington                                  76            27\n",
       "   7 │ Harewood                                   66            25\n",
       "   8 │ Linwood                                    64            25\n",
       "   9 │ Sockburn                                   64            19             ⋯\n",
       "  10 │ Woolston                                   52            27\n",
       "  11 │ New Brighton                               44            22\n",
       "  ⋮  │             ⋮                      ⋮                ⋮                 ⋮ ⋱\n",
       " 103 │ Pigeon Bay                                  2             0\n",
       " 104 │ Birdlings Flat                              1             0             ⋯\n",
       " 105 │ Christchurch City Council                   1             0\n",
       " 106 │ Cracroft                                    1             1\n",
       " 107 │ Hyde Park                                   1             0\n",
       " 108 │ Masham                                      1             0             ⋯\n",
       " 109 │ Motukarara                                  1             0\n",
       " 110 │ Okains Bay                                  1             0\n",
       " 111 │ Travis                                      1             1\n",
       " 112 │ Westlake                                    1             0             ⋯\n",
       "\u001b[36m                                                  53 columns and 91 rows omitted\u001b[0m"
      ]
     },
     "execution_count": 17,
     "metadata": {},
     "output_type": "execute_result"
    }
   ],
   "source": [
    "final_combined5 = leftjoin(final_combined4, school_data, on =:suburb => :suburb, makeunique=true)"
   ]
  },
  {
   "cell_type": "markdown",
   "metadata": {},
   "source": [
    "Next, I am using the function describe to look at a summary view of this dataset. "
   ]
  },
  {
   "cell_type": "code",
   "execution_count": 18,
   "metadata": {
    "scrolled": true,
    "tags": []
   },
   "outputs": [
    {
     "data": {
      "text/html": [
       "<div class=\"data-frame\"><p>56 rows × 7 columns (omitted printing of 1 columns)</p><table class=\"data-frame\"><thead><tr><th></th><th>variable</th><th>mean</th><th>min</th><th>median</th><th>max</th><th>nmissing</th></tr><tr><th></th><th title=\"Symbol\">Symbol</th><th title=\"Union{Nothing, Float64}\">Union…</th><th title=\"Any\">Any</th><th title=\"Union{Nothing, Float64}\">Union…</th><th title=\"Any\">Any</th><th title=\"Int64\">Int64</th></tr></thead><tbody><tr><th>1</th><td>suburb</td><td></td><td>Addington</td><td></td><td>Yaldhurst</td><td>0</td></tr><tr><th>2</th><td>cnt_total_business</td><td>25.2637</td><td>1</td><td>8.0</td><td>388</td><td>21</td></tr><tr><th>3</th><td>cnt_takeaway</td><td>11.8571</td><td>0</td><td>4.0</td><td>212</td><td>21</td></tr><tr><th>4</th><td>cnt_eat_in_premises</td><td>12.0879</td><td>0</td><td>4.0</td><td>275</td><td>21</td></tr><tr><th>5</th><td>cnt_retail</td><td>6.21978</td><td>0</td><td>3.0</td><td>62</td><td>21</td></tr><tr><th>6</th><td>cnt_caterer</td><td>3.13187</td><td>0</td><td>1.0</td><td>66</td><td>21</td></tr><tr><th>7</th><td>cnt_home_delivery</td><td>1.7033</td><td>0</td><td>0.0</td><td>27</td><td>21</td></tr><tr><th>8</th><td>cnt_wholesale</td><td>2.07692</td><td>0</td><td>1.0</td><td>18</td><td>21</td></tr><tr><th>9</th><td>cnt_ready_to_eat_meals_snacks</td><td>21.3077</td><td>0</td><td>8.0</td><td>366</td><td>21</td></tr><tr><th>10</th><td>cnt_shelf_stable_food</td><td>4.35165</td><td>0</td><td>2.0</td><td>35</td><td>21</td></tr><tr><th>11</th><td>cnt_baked_food</td><td>3.25275</td><td>0</td><td>2.0</td><td>35</td><td>21</td></tr><tr><th>12</th><td>cnt_eggs</td><td>2.20879</td><td>0</td><td>1.0</td><td>18</td><td>21</td></tr><tr><th>13</th><td>cnt_fruit_veg</td><td>4.38462</td><td>0</td><td>2.0</td><td>70</td><td>21</td></tr><tr><th>14</th><td>cnt_meat_poultry_seafood</td><td>1.94505</td><td>0</td><td>1.0</td><td>18</td><td>21</td></tr><tr><th>15</th><td>cnt_sushi</td><td>1.62637</td><td>0</td><td>0.0</td><td>34</td><td>21</td></tr><tr><th>16</th><td>cnt_hot_beverages</td><td>0.648352</td><td>0</td><td>0.0</td><td>7</td><td>21</td></tr><tr><th>17</th><td>total_licences</td><td>7.08621</td><td>1</td><td>4.0</td><td>99</td><td>54</td></tr><tr><th>18</th><td>on_licence</td><td>4.34483</td><td>0</td><td>2.0</td><td>72</td><td>54</td></tr><tr><th>19</th><td>off_licence</td><td>1.72414</td><td>0</td><td>1.0</td><td>21</td><td>54</td></tr><tr><th>20</th><td>club_licence</td><td>1.01724</td><td>0</td><td>1.0</td><td>6</td><td>54</td></tr><tr><th>21</th><td>function_centres_licence</td><td>0.189655</td><td>0</td><td>0.0</td><td>2</td><td>54</td></tr><tr><th>22</th><td>On- theatre_licence</td><td>0.0172414</td><td>0</td><td>0.0</td><td>1</td><td>54</td></tr><tr><th>23</th><td>restaurants_licence</td><td>2.32759</td><td>0</td><td>1.0</td><td>32</td><td>54</td></tr><tr><th>24</th><td>grocery_or_supermakets_licence</td><td>0.327586</td><td>0</td><td>0.0</td><td>5</td><td>54</td></tr><tr><th>25</th><td>taverns_bars_nightclubs_licence</td><td>1.2931</td><td>0</td><td>0.0</td><td>28</td><td>54</td></tr><tr><th>26</th><td>hotels_licence</td><td>0.241379</td><td>0</td><td>0.0</td><td>9</td><td>54</td></tr><tr><th>27</th><td>art_galleries_licence</td><td>0.0344828</td><td>0</td><td>0.0</td><td>2</td><td>54</td></tr><tr><th>28</th><td>sports_clubs_licence</td><td>1.05172</td><td>0</td><td>1.0</td><td>6</td><td>54</td></tr><tr><th>29</th><td>cinemas_licence</td><td>0.0689655</td><td>0</td><td>0.0</td><td>2</td><td>54</td></tr><tr><th>30</th><td>bottle_or_wine_stores_licence</td><td>0.775862</td><td>0</td><td>0.0</td><td>6</td><td>54</td></tr><tr><th>&vellip;</th><td>&vellip;</td><td>&vellip;</td><td>&vellip;</td><td>&vellip;</td><td>&vellip;</td><td>&vellip;</td></tr></tbody></table></div>"
      ],
      "text/latex": [
       "\\begin{tabular}{r|ccccccc}\n",
       "\t& variable & mean & min & median & max & nmissing & \\\\\n",
       "\t\\hline\n",
       "\t& Symbol & Union… & Any & Union… & Any & Int64 & \\\\\n",
       "\t\\hline\n",
       "\t1 & suburb &  & Addington &  & Yaldhurst & 0 & $\\dots$ \\\\\n",
       "\t2 & cnt\\_total\\_business & 25.2637 & 1 & 8.0 & 388 & 21 & $\\dots$ \\\\\n",
       "\t3 & cnt\\_takeaway & 11.8571 & 0 & 4.0 & 212 & 21 & $\\dots$ \\\\\n",
       "\t4 & cnt\\_eat\\_in\\_premises & 12.0879 & 0 & 4.0 & 275 & 21 & $\\dots$ \\\\\n",
       "\t5 & cnt\\_retail & 6.21978 & 0 & 3.0 & 62 & 21 & $\\dots$ \\\\\n",
       "\t6 & cnt\\_caterer & 3.13187 & 0 & 1.0 & 66 & 21 & $\\dots$ \\\\\n",
       "\t7 & cnt\\_home\\_delivery & 1.7033 & 0 & 0.0 & 27 & 21 & $\\dots$ \\\\\n",
       "\t8 & cnt\\_wholesale & 2.07692 & 0 & 1.0 & 18 & 21 & $\\dots$ \\\\\n",
       "\t9 & cnt\\_ready\\_to\\_eat\\_meals\\_snacks & 21.3077 & 0 & 8.0 & 366 & 21 & $\\dots$ \\\\\n",
       "\t10 & cnt\\_shelf\\_stable\\_food & 4.35165 & 0 & 2.0 & 35 & 21 & $\\dots$ \\\\\n",
       "\t11 & cnt\\_baked\\_food & 3.25275 & 0 & 2.0 & 35 & 21 & $\\dots$ \\\\\n",
       "\t12 & cnt\\_eggs & 2.20879 & 0 & 1.0 & 18 & 21 & $\\dots$ \\\\\n",
       "\t13 & cnt\\_fruit\\_veg & 4.38462 & 0 & 2.0 & 70 & 21 & $\\dots$ \\\\\n",
       "\t14 & cnt\\_meat\\_poultry\\_seafood & 1.94505 & 0 & 1.0 & 18 & 21 & $\\dots$ \\\\\n",
       "\t15 & cnt\\_sushi & 1.62637 & 0 & 0.0 & 34 & 21 & $\\dots$ \\\\\n",
       "\t16 & cnt\\_hot\\_beverages & 0.648352 & 0 & 0.0 & 7 & 21 & $\\dots$ \\\\\n",
       "\t17 & total\\_licences & 7.08621 & 1 & 4.0 & 99 & 54 & $\\dots$ \\\\\n",
       "\t18 & on\\_licence & 4.34483 & 0 & 2.0 & 72 & 54 & $\\dots$ \\\\\n",
       "\t19 & off\\_licence & 1.72414 & 0 & 1.0 & 21 & 54 & $\\dots$ \\\\\n",
       "\t20 & club\\_licence & 1.01724 & 0 & 1.0 & 6 & 54 & $\\dots$ \\\\\n",
       "\t21 & function\\_centres\\_licence & 0.189655 & 0 & 0.0 & 2 & 54 & $\\dots$ \\\\\n",
       "\t22 & On- theatre\\_licence & 0.0172414 & 0 & 0.0 & 1 & 54 & $\\dots$ \\\\\n",
       "\t23 & restaurants\\_licence & 2.32759 & 0 & 1.0 & 32 & 54 & $\\dots$ \\\\\n",
       "\t24 & grocery\\_or\\_supermakets\\_licence & 0.327586 & 0 & 0.0 & 5 & 54 & $\\dots$ \\\\\n",
       "\t25 & taverns\\_bars\\_nightclubs\\_licence & 1.2931 & 0 & 0.0 & 28 & 54 & $\\dots$ \\\\\n",
       "\t26 & hotels\\_licence & 0.241379 & 0 & 0.0 & 9 & 54 & $\\dots$ \\\\\n",
       "\t27 & art\\_galleries\\_licence & 0.0344828 & 0 & 0.0 & 2 & 54 & $\\dots$ \\\\\n",
       "\t28 & sports\\_clubs\\_licence & 1.05172 & 0 & 1.0 & 6 & 54 & $\\dots$ \\\\\n",
       "\t29 & cinemas\\_licence & 0.0689655 & 0 & 0.0 & 2 & 54 & $\\dots$ \\\\\n",
       "\t30 & bottle\\_or\\_wine\\_stores\\_licence & 0.775862 & 0 & 0.0 & 6 & 54 & $\\dots$ \\\\\n",
       "\t$\\dots$ & $\\dots$ & $\\dots$ & $\\dots$ & $\\dots$ & $\\dots$ & $\\dots$ &  \\\\\n",
       "\\end{tabular}\n"
      ],
      "text/plain": [
       "\u001b[1m56×7 DataFrame\u001b[0m\n",
       "\u001b[1m Row \u001b[0m│\u001b[1m variable                          \u001b[0m\u001b[1m mean     \u001b[0m\u001b[1m min       \u001b[0m\u001b[1m median  \u001b[0m\u001b[1m max   \u001b[0m ⋯\n",
       "\u001b[1m     \u001b[0m│\u001b[90m Symbol                            \u001b[0m\u001b[90m Union…   \u001b[0m\u001b[90m Any       \u001b[0m\u001b[90m Union…  \u001b[0m\u001b[90m Any   \u001b[0m ⋯\n",
       "─────┼──────────────────────────────────────────────────────────────────────────\n",
       "   1 │ suburb                            \u001b[90m          \u001b[0m Addington \u001b[90m         \u001b[0m Yaldhu ⋯\n",
       "   2 │ cnt_total_business                 25.2637   1          8.0      388\n",
       "   3 │ cnt_takeaway                       11.8571   0          4.0      212\n",
       "   4 │ cnt_eat_in_premises                12.0879   0          4.0      275\n",
       "   5 │ cnt_retail                         6.21978   0          3.0      62     ⋯\n",
       "   6 │ cnt_caterer                        3.13187   0          1.0      66\n",
       "   7 │ cnt_home_delivery                  1.7033    0          0.0      27\n",
       "   8 │ cnt_wholesale                      2.07692   0          1.0      18\n",
       "   9 │ cnt_ready_to_eat_meals_snacks      21.3077   0          8.0      366    ⋯\n",
       "  10 │ cnt_shelf_stable_food              4.35165   0          2.0      35\n",
       "  11 │ cnt_baked_food                     3.25275   0          2.0      35\n",
       "  ⋮  │                 ⋮                     ⋮          ⋮         ⋮         ⋮  ⋱\n",
       "  47 │ total_school_roll                  1097.23   13         688.5    4753\n",
       "  48 │ primary_schools                    1.78571   0          1.5      5      ⋯\n",
       "  49 │ intermediate_schools               1.42857   0          1.0      5\n",
       "  50 │ secondary_schools                  0.589286  0          0.0      4\n",
       "  51 │ average_decile                     6.37292   1.0        7.16667  10.0\n",
       "  52 │ co_educational                     2.17857   0          2.0      6      ⋯\n",
       "  53 │ single_sex_girls                   0.125     0          0.0      3\n",
       "  54 │ single_sex_boys                    0.107143  0          0.0      1\n",
       "  55 │ private_schools                    0.160714  0          0.0      3\n",
       "  56 │ state_schools                      2.25      1          2.0      6      ⋯\n",
       "\u001b[36m                                                   3 columns and 35 rows omitted\u001b[0m"
      ]
     },
     "execution_count": 18,
     "metadata": {},
     "output_type": "execute_result"
    }
   ],
   "source": [
    "final_combined5 |>\n",
    "    describe"
   ]
  },
  {
   "cell_type": "markdown",
   "metadata": {},
   "source": [
    "Export the data into CSV:"
   ]
  },
  {
   "cell_type": "code",
   "execution_count": 19,
   "metadata": {},
   "outputs": [],
   "source": [
    "# final_combined5 |>\n",
    "#   save(\"final_combined5.csv\")"
   ]
  },
  {
   "cell_type": "markdown",
   "metadata": {},
   "source": [
    "Next, we have went through the combined the file and identified a few further tidy up needs to be carried out.\n",
    "\n",
    "1: some suburbs are to be excluded with reasons in the brackets below:\n",
    "   <br>\"Akaroa\",\"Birdlings Flat\",\"Christchurch\",\"Christchurch City Council\",\"Little River\",\"Lyttelton\",\"Moncks Spur\",\"Murray Aynsley\",\"Travis\",\"Diamond Harbour\",\"Duvauchelle\",\"Governors Bay\",\"Motukarara\",\"Okains Bay\",\"Pigeon Bay\",\"Wainui\" (some subset collections are excluded these areas as they are outside the christchurch city region, most of them are Banks Peninsular)\n",
    "   <br>Christchurch, Christchurch City Council (Not christchurch suburbs and hard to tell if this is city center or not)\n",
    "   <br>Moncks Spur, Murray Aynsley, Travis (not a suburb, maybe a lane or a specific place)\n",
    "   \n",
    "2: Some suburb names were actually same area, need to be merged. (Central City & Christchurch Central; Healthcote & Healthcote Valley; Merivale & Merivale-Christchurch City; Waimair Beach & Waimairi Beach;)\n",
    "   "
   ]
  },
  {
   "cell_type": "markdown",
   "metadata": {},
   "source": [
    "Next block of codes deletes the suburbs we want to exclude:"
   ]
  },
  {
   "cell_type": "code",
   "execution_count": 20,
   "metadata": {
    "scrolled": true,
    "tags": []
   },
   "outputs": [
    {
     "data": {
      "text/html": [
       "<div class=\"data-frame\"><p>96 rows × 56 columns (omitted printing of 51 columns)</p><table class=\"data-frame\"><thead><tr><th></th><th>suburb</th><th>cnt_total_business</th><th>cnt_takeaway</th><th>cnt_eat_in_premises</th><th>cnt_retail</th></tr><tr><th></th><th title=\"String\">String</th><th title=\"Union{Missing, Int64}\">Int64?</th><th title=\"Union{Missing, Int64}\">Int64?</th><th title=\"Union{Missing, Int64}\">Int64?</th><th title=\"Union{Missing, Int64}\">Int64?</th></tr></thead><tbody><tr><th>1</th><td>Hornby</td><td>123</td><td>57</td><td>48</td><td>30</td></tr><tr><th>2</th><td>Riccarton</td><td>117</td><td>68</td><td>79</td><td>25</td></tr><tr><th>3</th><td>Papanui</td><td>88</td><td>49</td><td>48</td><td>15</td></tr><tr><th>4</th><td>Upper Riccarton</td><td>87</td><td>50</td><td>45</td><td>27</td></tr><tr><th>5</th><td>St Albans</td><td>84</td><td>34</td><td>32</td><td>26</td></tr><tr><th>6</th><td>Addington</td><td>76</td><td>27</td><td>42</td><td>17</td></tr><tr><th>7</th><td>Harewood</td><td>66</td><td>25</td><td>42</td><td>23</td></tr><tr><th>8</th><td>Linwood</td><td>64</td><td>25</td><td>16</td><td>25</td></tr><tr><th>9</th><td>Sockburn</td><td>64</td><td>19</td><td>10</td><td>16</td></tr><tr><th>10</th><td>Woolston</td><td>52</td><td>27</td><td>17</td><td>16</td></tr><tr><th>11</th><td>New Brighton</td><td>44</td><td>22</td><td>17</td><td>7</td></tr><tr><th>12</th><td>Ilam</td><td>42</td><td>22</td><td>23</td><td>19</td></tr><tr><th>13</th><td>Spreydon</td><td>37</td><td>15</td><td>13</td><td>12</td></tr><tr><th>14</th><td>Shirley</td><td>36</td><td>18</td><td>21</td><td>7</td></tr><tr><th>15</th><td>Bryndwr</td><td>35</td><td>17</td><td>10</td><td>11</td></tr><tr><th>16</th><td>Halswell</td><td>34</td><td>17</td><td>19</td><td>8</td></tr><tr><th>17</th><td>Avonhead</td><td>32</td><td>11</td><td>6</td><td>9</td></tr><tr><th>18</th><td>Sumner</td><td>30</td><td>16</td><td>20</td><td>3</td></tr><tr><th>19</th><td>Bishopdale</td><td>29</td><td>14</td><td>12</td><td>9</td></tr><tr><th>20</th><td>Belfast</td><td>27</td><td>8</td><td>10</td><td>5</td></tr><tr><th>21</th><td>Wainoni</td><td>27</td><td>15</td><td>5</td><td>9</td></tr><tr><th>22</th><td>Hoon Hay</td><td>26</td><td>13</td><td>6</td><td>8</td></tr><tr><th>23</th><td>Redwood</td><td>26</td><td>13</td><td>13</td><td>7</td></tr><tr><th>24</th><td>Phillipstown</td><td>23</td><td>13</td><td>10</td><td>5</td></tr><tr><th>25</th><td>Burnside</td><td>22</td><td>16</td><td>9</td><td>3</td></tr><tr><th>26</th><td>Waltham</td><td>22</td><td>8</td><td>6</td><td>6</td></tr><tr><th>27</th><td>Opawa</td><td>21</td><td>10</td><td>7</td><td>6</td></tr><tr><th>28</th><td>Burwood</td><td>18</td><td>5</td><td>3</td><td>6</td></tr><tr><th>29</th><td>Bromley</td><td>17</td><td>6</td><td>3</td><td>10</td></tr><tr><th>30</th><td>Fendalton</td><td>15</td><td>7</td><td>9</td><td>3</td></tr><tr><th>&vellip;</th><td>&vellip;</td><td>&vellip;</td><td>&vellip;</td><td>&vellip;</td><td>&vellip;</td></tr></tbody></table></div>"
      ],
      "text/latex": [
       "\\begin{tabular}{r|cccccc}\n",
       "\t& suburb & cnt\\_total\\_business & cnt\\_takeaway & cnt\\_eat\\_in\\_premises & cnt\\_retail & \\\\\n",
       "\t\\hline\n",
       "\t& String & Int64? & Int64? & Int64? & Int64? & \\\\\n",
       "\t\\hline\n",
       "\t1 & Hornby & 123 & 57 & 48 & 30 & $\\dots$ \\\\\n",
       "\t2 & Riccarton & 117 & 68 & 79 & 25 & $\\dots$ \\\\\n",
       "\t3 & Papanui & 88 & 49 & 48 & 15 & $\\dots$ \\\\\n",
       "\t4 & Upper Riccarton & 87 & 50 & 45 & 27 & $\\dots$ \\\\\n",
       "\t5 & St Albans & 84 & 34 & 32 & 26 & $\\dots$ \\\\\n",
       "\t6 & Addington & 76 & 27 & 42 & 17 & $\\dots$ \\\\\n",
       "\t7 & Harewood & 66 & 25 & 42 & 23 & $\\dots$ \\\\\n",
       "\t8 & Linwood & 64 & 25 & 16 & 25 & $\\dots$ \\\\\n",
       "\t9 & Sockburn & 64 & 19 & 10 & 16 & $\\dots$ \\\\\n",
       "\t10 & Woolston & 52 & 27 & 17 & 16 & $\\dots$ \\\\\n",
       "\t11 & New Brighton & 44 & 22 & 17 & 7 & $\\dots$ \\\\\n",
       "\t12 & Ilam & 42 & 22 & 23 & 19 & $\\dots$ \\\\\n",
       "\t13 & Spreydon & 37 & 15 & 13 & 12 & $\\dots$ \\\\\n",
       "\t14 & Shirley & 36 & 18 & 21 & 7 & $\\dots$ \\\\\n",
       "\t15 & Bryndwr & 35 & 17 & 10 & 11 & $\\dots$ \\\\\n",
       "\t16 & Halswell & 34 & 17 & 19 & 8 & $\\dots$ \\\\\n",
       "\t17 & Avonhead & 32 & 11 & 6 & 9 & $\\dots$ \\\\\n",
       "\t18 & Sumner & 30 & 16 & 20 & 3 & $\\dots$ \\\\\n",
       "\t19 & Bishopdale & 29 & 14 & 12 & 9 & $\\dots$ \\\\\n",
       "\t20 & Belfast & 27 & 8 & 10 & 5 & $\\dots$ \\\\\n",
       "\t21 & Wainoni & 27 & 15 & 5 & 9 & $\\dots$ \\\\\n",
       "\t22 & Hoon Hay & 26 & 13 & 6 & 8 & $\\dots$ \\\\\n",
       "\t23 & Redwood & 26 & 13 & 13 & 7 & $\\dots$ \\\\\n",
       "\t24 & Phillipstown & 23 & 13 & 10 & 5 & $\\dots$ \\\\\n",
       "\t25 & Burnside & 22 & 16 & 9 & 3 & $\\dots$ \\\\\n",
       "\t26 & Waltham & 22 & 8 & 6 & 6 & $\\dots$ \\\\\n",
       "\t27 & Opawa & 21 & 10 & 7 & 6 & $\\dots$ \\\\\n",
       "\t28 & Burwood & 18 & 5 & 3 & 6 & $\\dots$ \\\\\n",
       "\t29 & Bromley & 17 & 6 & 3 & 10 & $\\dots$ \\\\\n",
       "\t30 & Fendalton & 15 & 7 & 9 & 3 & $\\dots$ \\\\\n",
       "\t$\\dots$ & $\\dots$ & $\\dots$ & $\\dots$ & $\\dots$ & $\\dots$ &  \\\\\n",
       "\\end{tabular}\n"
      ],
      "text/plain": [
       "\u001b[1m96×56 DataFrame\u001b[0m\n",
       "\u001b[1m Row \u001b[0m│\u001b[1m suburb                       \u001b[0m\u001b[1m cnt_total_business \u001b[0m\u001b[1m cnt_takeaway \u001b[0m\u001b[1m cnt_eat\u001b[0m ⋯\n",
       "\u001b[1m     \u001b[0m│\u001b[90m String                       \u001b[0m\u001b[90m Int64?             \u001b[0m\u001b[90m Int64?       \u001b[0m\u001b[90m Int64? \u001b[0m ⋯\n",
       "─────┼──────────────────────────────────────────────────────────────────────────\n",
       "   1 │ Hornby                                       123            57          ⋯\n",
       "   2 │ Riccarton                                    117            68\n",
       "   3 │ Papanui                                       88            49\n",
       "   4 │ Upper Riccarton                               87            50\n",
       "   5 │ St Albans                                     84            34          ⋯\n",
       "   6 │ Addington                                     76            27\n",
       "   7 │ Harewood                                      66            25\n",
       "   8 │ Linwood                                       64            25\n",
       "   9 │ Sockburn                                      64            19          ⋯\n",
       "  10 │ Woolston                                      52            27\n",
       "  11 │ New Brighton                                  44            22\n",
       "  ⋮  │              ⋮                        ⋮                ⋮                ⋱\n",
       "  87 │ Bexley                       \u001b[90m            missing \u001b[0m\u001b[90m      missing \u001b[0m\u001b[90m\u001b[0m\n",
       "  88 │ Kainga                       \u001b[90m            missing \u001b[0m\u001b[90m      missing \u001b[0m\u001b[90m        \u001b[0m ⋯\n",
       "  89 │ Central City                                 388           212\n",
       "  90 │ Waimair Beach                \u001b[90m            missing \u001b[0m\u001b[90m      missing \u001b[0m\u001b[90m\u001b[0m\n",
       "  91 │ McCormacks Bay                                 3             1\n",
       "  92 │ Bridgend                                       2             1          ⋯\n",
       "  93 │ Cracroft                                       1             1\n",
       "  94 │ Hyde Park                                      1             0\n",
       "  95 │ Masham                                         1             0\n",
       "  96 │ Westlake                                       1             0          ⋯\n",
       "\u001b[36m                                                  53 columns and 75 rows omitted\u001b[0m"
      ]
     },
     "execution_count": 20,
     "metadata": {},
     "output_type": "execute_result"
    }
   ],
   "source": [
    "combined_dataset = final_combined5 |> \n",
    "    @filter(_.suburb ∉ [\"Akaroa\",\"Birdlings Flat\",\"Christchurch\",\"Christchurch City Council\",\"Little River\",\"Lyttelton\",\"Moncks Spur\",\"Murray Aynsley\",\"Travis\",\"Diamond Harbour\",\"Duvauchelle\",\"Governors Bay\",\"Motukarara\",\"Okains Bay\",\"Pigeon Bay\",\"Wainui\"]) |> \n",
    "    DataFrame"
   ]
  },
  {
   "cell_type": "markdown",
   "metadata": {},
   "source": [
    "Next codes to prepare for merging lines of 4 sets of same suburbs"
   ]
  },
  {
   "cell_type": "code",
   "execution_count": 21,
   "metadata": {},
   "outputs": [
    {
     "data": {
      "text/plain": [
       "1-element Vector{SubArray{String, 1, Matrix{String}, Tuple{Base.Slice{Base.OneTo{Int64}}, Int64}, true}}:\n",
       " [\"Hornby\", \"Riccarton\", \"Papanui\", \"Upper Riccarton\", \"St Albans\", \"Addington\", \"Harewood\", \"Linwood\", \"Sockburn\", \"Woolston\"  …  \"Bexley\", \"Kainga\", \"Christchurch Central\", \"Waimairi Beach\", \"McCormacks Bay\", \"Bridgend\", \"Cracroft\", \"Hyde Park\", \"Masham\", \"Westlake\"]"
      ]
     },
     "execution_count": 21,
     "metadata": {},
     "output_type": "execute_result"
    }
   ],
   "source": [
    "replace!.(eachcol(combined_dataset[!, :suburb]), \"Central City\" => \"Christchurch Central\")\n",
    "replace!.(eachcol(combined_dataset[!, :suburb]), \"Heathcote Valley\" => \"Heathcote\")\n",
    "replace!.(eachcol(combined_dataset[!, :suburb]), \"Merivale - Christchurch City\" => \"Merivale\")\n",
    "replace!.(eachcol(combined_dataset[!, :suburb]), \"Waimair Beach\" => \"Waimairi Beach\")"
   ]
  },
  {
   "cell_type": "markdown",
   "metadata": {},
   "source": [
    "Checking they actually have been renamed:"
   ]
  },
  {
   "cell_type": "markdown",
   "metadata": {},
   "source": [
    "The next part of the code takes the interested subsets of the dataset out to do the merging."
   ]
  },
  {
   "cell_type": "code",
   "execution_count": 22,
   "metadata": {},
   "outputs": [
    {
     "data": {
      "text/html": [
       "<div class=\"data-frame\"><p>8 rows × 56 columns (omitted printing of 51 columns)</p><table class=\"data-frame\"><thead><tr><th></th><th>suburb</th><th>cnt_total_business</th><th>cnt_takeaway</th><th>cnt_eat_in_premises</th><th>cnt_retail</th></tr><tr><th></th><th title=\"String\">String</th><th title=\"Union{Missing, Int64}\">Int64?</th><th title=\"Union{Missing, Int64}\">Int64?</th><th title=\"Union{Missing, Int64}\">Int64?</th><th title=\"Union{Missing, Int64}\">Int64?</th></tr></thead><tbody><tr><th>1</th><td>Merivale</td><td>31</td><td>7</td><td>17</td><td>4</td></tr><tr><th>2</th><td>Heathcote</td><td><em>missing</em></td><td><em>missing</em></td><td><em>missing</em></td><td><em>missing</em></td></tr><tr><th>3</th><td>Christchurch Central</td><td><em>missing</em></td><td><em>missing</em></td><td><em>missing</em></td><td><em>missing</em></td></tr><tr><th>4</th><td>Waimairi Beach</td><td>1</td><td>1</td><td>1</td><td>0</td></tr><tr><th>5</th><td>Heathcote</td><td>8</td><td>2</td><td>4</td><td>2</td></tr><tr><th>6</th><td>Merivale</td><td><em>missing</em></td><td><em>missing</em></td><td><em>missing</em></td><td><em>missing</em></td></tr><tr><th>7</th><td>Christchurch Central</td><td>388</td><td>212</td><td>275</td><td>62</td></tr><tr><th>8</th><td>Waimairi Beach</td><td><em>missing</em></td><td><em>missing</em></td><td><em>missing</em></td><td><em>missing</em></td></tr></tbody></table></div>"
      ],
      "text/latex": [
       "\\begin{tabular}{r|cccccc}\n",
       "\t& suburb & cnt\\_total\\_business & cnt\\_takeaway & cnt\\_eat\\_in\\_premises & cnt\\_retail & \\\\\n",
       "\t\\hline\n",
       "\t& String & Int64? & Int64? & Int64? & Int64? & \\\\\n",
       "\t\\hline\n",
       "\t1 & Merivale & 31 & 7 & 17 & 4 & $\\dots$ \\\\\n",
       "\t2 & Heathcote & \\emph{missing} & \\emph{missing} & \\emph{missing} & \\emph{missing} & $\\dots$ \\\\\n",
       "\t3 & Christchurch Central & \\emph{missing} & \\emph{missing} & \\emph{missing} & \\emph{missing} & $\\dots$ \\\\\n",
       "\t4 & Waimairi Beach & 1 & 1 & 1 & 0 & $\\dots$ \\\\\n",
       "\t5 & Heathcote & 8 & 2 & 4 & 2 & $\\dots$ \\\\\n",
       "\t6 & Merivale & \\emph{missing} & \\emph{missing} & \\emph{missing} & \\emph{missing} & $\\dots$ \\\\\n",
       "\t7 & Christchurch Central & 388 & 212 & 275 & 62 & $\\dots$ \\\\\n",
       "\t8 & Waimairi Beach & \\emph{missing} & \\emph{missing} & \\emph{missing} & \\emph{missing} & $\\dots$ \\\\\n",
       "\\end{tabular}\n"
      ],
      "text/plain": [
       "\u001b[1m8×56 DataFrame\u001b[0m\n",
       "\u001b[1m Row \u001b[0m│\u001b[1m suburb               \u001b[0m\u001b[1m cnt_total_business \u001b[0m\u001b[1m cnt_takeaway \u001b[0m\u001b[1m cnt_eat_in_prem\u001b[0m ⋯\n",
       "\u001b[1m     \u001b[0m│\u001b[90m String               \u001b[0m\u001b[90m Int64?             \u001b[0m\u001b[90m Int64?       \u001b[0m\u001b[90m Int64?         \u001b[0m ⋯\n",
       "─────┼──────────────────────────────────────────────────────────────────────────\n",
       "   1 │ Merivale                              31             7                  ⋯\n",
       "   2 │ Heathcote            \u001b[90m            missing \u001b[0m\u001b[90m      missing \u001b[0m\u001b[90m             mis\u001b[0m\n",
       "   3 │ Christchurch Central \u001b[90m            missing \u001b[0m\u001b[90m      missing \u001b[0m\u001b[90m             mis\u001b[0m\n",
       "   4 │ Waimairi Beach                         1             1\n",
       "   5 │ Heathcote                              8             2                  ⋯\n",
       "   6 │ Merivale             \u001b[90m            missing \u001b[0m\u001b[90m      missing \u001b[0m\u001b[90m             mis\u001b[0m\n",
       "   7 │ Christchurch Central                 388           212\n",
       "   8 │ Waimairi Beach       \u001b[90m            missing \u001b[0m\u001b[90m      missing \u001b[0m\u001b[90m             mis\u001b[0m\n",
       "\u001b[36m                                                              53 columns omitted\u001b[0m"
      ]
     },
     "execution_count": 22,
     "metadata": {},
     "output_type": "execute_result"
    }
   ],
   "source": [
    "extra_merge = combined_dataset |> \n",
    "    @filter(_.suburb in [\"Christchurch Central\",\"Heathcote\",\"Merivale\",\"Waimairi Beach\"]) |> \n",
    "    DataFrame"
   ]
  },
  {
   "cell_type": "markdown",
   "metadata": {},
   "source": [
    "Next, will need to using group by and sum to combine the same suburbs where there are duplicates. It has been checked that these datasets values across mutlple rows dont have same entries from any one dataset, as if they do you may not be able to simply add, for example housing data has means, min and max values, which needs to treat differently when aggregating two rows.\n",
    "<br>Firstly, the missing value needs to be turned into 0s so it can be summed."
   ]
  },
  {
   "cell_type": "code",
   "execution_count": 23,
   "metadata": {},
   "outputs": [
    {
     "data": {
      "text/html": [
       "<div class=\"data-frame\"><p>8 rows × 56 columns (omitted printing of 51 columns)</p><table class=\"data-frame\"><thead><tr><th></th><th>suburb</th><th>cnt_total_business</th><th>cnt_takeaway</th><th>cnt_eat_in_premises</th><th>cnt_retail</th></tr><tr><th></th><th title=\"Any\">Any</th><th title=\"Any\">Any</th><th title=\"Any\">Any</th><th title=\"Any\">Any</th><th title=\"Any\">Any</th></tr></thead><tbody><tr><th>1</th><td>Merivale</td><td>31</td><td>7</td><td>17</td><td>4</td></tr><tr><th>2</th><td>Heathcote</td><td>0</td><td>0</td><td>0</td><td>0</td></tr><tr><th>3</th><td>Christchurch Central</td><td>0</td><td>0</td><td>0</td><td>0</td></tr><tr><th>4</th><td>Waimairi Beach</td><td>1</td><td>1</td><td>1</td><td>0</td></tr><tr><th>5</th><td>Heathcote</td><td>8</td><td>2</td><td>4</td><td>2</td></tr><tr><th>6</th><td>Merivale</td><td>0</td><td>0</td><td>0</td><td>0</td></tr><tr><th>7</th><td>Christchurch Central</td><td>388</td><td>212</td><td>275</td><td>62</td></tr><tr><th>8</th><td>Waimairi Beach</td><td>0</td><td>0</td><td>0</td><td>0</td></tr></tbody></table></div>"
      ],
      "text/latex": [
       "\\begin{tabular}{r|cccccc}\n",
       "\t& suburb & cnt\\_total\\_business & cnt\\_takeaway & cnt\\_eat\\_in\\_premises & cnt\\_retail & \\\\\n",
       "\t\\hline\n",
       "\t& Any & Any & Any & Any & Any & \\\\\n",
       "\t\\hline\n",
       "\t1 & Merivale & 31 & 7 & 17 & 4 & $\\dots$ \\\\\n",
       "\t2 & Heathcote & 0 & 0 & 0 & 0 & $\\dots$ \\\\\n",
       "\t3 & Christchurch Central & 0 & 0 & 0 & 0 & $\\dots$ \\\\\n",
       "\t4 & Waimairi Beach & 1 & 1 & 1 & 0 & $\\dots$ \\\\\n",
       "\t5 & Heathcote & 8 & 2 & 4 & 2 & $\\dots$ \\\\\n",
       "\t6 & Merivale & 0 & 0 & 0 & 0 & $\\dots$ \\\\\n",
       "\t7 & Christchurch Central & 388 & 212 & 275 & 62 & $\\dots$ \\\\\n",
       "\t8 & Waimairi Beach & 0 & 0 & 0 & 0 & $\\dots$ \\\\\n",
       "\\end{tabular}\n"
      ],
      "text/plain": [
       "\u001b[1m8×56 DataFrame\u001b[0m\n",
       "\u001b[1m Row \u001b[0m│\u001b[1m suburb               \u001b[0m\u001b[1m cnt_total_business \u001b[0m\u001b[1m cnt_takeaway \u001b[0m\u001b[1m cnt_eat_in_prem\u001b[0m ⋯\n",
       "\u001b[1m     \u001b[0m│\u001b[90m Any                  \u001b[0m\u001b[90m Any                \u001b[0m\u001b[90m Any          \u001b[0m\u001b[90m Any            \u001b[0m ⋯\n",
       "─────┼──────────────────────────────────────────────────────────────────────────\n",
       "   1 │ Merivale              31                  7             17              ⋯\n",
       "   2 │ Heathcote             0                   0             0\n",
       "   3 │ Christchurch Central  0                   0             0\n",
       "   4 │ Waimairi Beach        1                   1             1\n",
       "   5 │ Heathcote             8                   2             4               ⋯\n",
       "   6 │ Merivale              0                   0             0\n",
       "   7 │ Christchurch Central  388                 212           275\n",
       "   8 │ Waimairi Beach        0                   0             0\n",
       "\u001b[36m                                                              53 columns omitted\u001b[0m"
      ]
     },
     "execution_count": 23,
     "metadata": {},
     "output_type": "execute_result"
    }
   ],
   "source": [
    "extra_merge = extra_merge |> \n",
    "                @replacena(0) |> \n",
    "                DataFrame"
   ]
  },
  {
   "cell_type": "markdown",
   "metadata": {},
   "source": [
    "Then we grouby the dataset by suburb and then sum all the columns which doesnt including the suburb"
   ]
  },
  {
   "cell_type": "code",
   "execution_count": 24,
   "metadata": {},
   "outputs": [
    {
     "data": {
      "text/html": [
       "<div class=\"data-frame\"><p>4 rows × 56 columns (omitted printing of 51 columns)</p><table class=\"data-frame\"><thead><tr><th></th><th>suburb</th><th>cnt_total_business</th><th>cnt_takeaway</th><th>cnt_eat_in_premises</th><th>cnt_retail</th></tr><tr><th></th><th title=\"Any\">Any</th><th title=\"Int64\">Int64</th><th title=\"Int64\">Int64</th><th title=\"Int64\">Int64</th><th title=\"Int64\">Int64</th></tr></thead><tbody><tr><th>1</th><td>Merivale</td><td>31</td><td>7</td><td>17</td><td>4</td></tr><tr><th>2</th><td>Heathcote</td><td>8</td><td>2</td><td>4</td><td>2</td></tr><tr><th>3</th><td>Christchurch Central</td><td>388</td><td>212</td><td>275</td><td>62</td></tr><tr><th>4</th><td>Waimairi Beach</td><td>1</td><td>1</td><td>1</td><td>0</td></tr></tbody></table></div>"
      ],
      "text/latex": [
       "\\begin{tabular}{r|cccccc}\n",
       "\t& suburb & cnt\\_total\\_business & cnt\\_takeaway & cnt\\_eat\\_in\\_premises & cnt\\_retail & \\\\\n",
       "\t\\hline\n",
       "\t& Any & Int64 & Int64 & Int64 & Int64 & \\\\\n",
       "\t\\hline\n",
       "\t1 & Merivale & 31 & 7 & 17 & 4 & $\\dots$ \\\\\n",
       "\t2 & Heathcote & 8 & 2 & 4 & 2 & $\\dots$ \\\\\n",
       "\t3 & Christchurch Central & 388 & 212 & 275 & 62 & $\\dots$ \\\\\n",
       "\t4 & Waimairi Beach & 1 & 1 & 1 & 0 & $\\dots$ \\\\\n",
       "\\end{tabular}\n"
      ],
      "text/plain": [
       "\u001b[1m4×56 DataFrame\u001b[0m\n",
       "\u001b[1m Row \u001b[0m│\u001b[1m suburb               \u001b[0m\u001b[1m cnt_total_business \u001b[0m\u001b[1m cnt_takeaway \u001b[0m\u001b[1m cnt_eat_in_prem\u001b[0m ⋯\n",
       "\u001b[1m     \u001b[0m│\u001b[90m Any                  \u001b[0m\u001b[90m Int64              \u001b[0m\u001b[90m Int64        \u001b[0m\u001b[90m Int64          \u001b[0m ⋯\n",
       "─────┼──────────────────────────────────────────────────────────────────────────\n",
       "   1 │ Merivale                              31             7                  ⋯\n",
       "   2 │ Heathcote                              8             2\n",
       "   3 │ Christchurch Central                 388           212\n",
       "   4 │ Waimairi Beach                         1             1\n",
       "\u001b[36m                                                              53 columns omitted\u001b[0m"
      ]
     },
     "execution_count": 24,
     "metadata": {},
     "output_type": "execute_result"
    }
   ],
   "source": [
    "merged_suburbs = combine(groupby(extra_merge, :suburb),  names(select(extra_merge, Not([:suburb]))) .=> sum, renamecols=false)"
   ]
  },
  {
   "cell_type": "markdown",
   "metadata": {},
   "source": [
    "Check the final dataset to see if the merge is successful:"
   ]
  },
  {
   "cell_type": "code",
   "execution_count": 25,
   "metadata": {},
   "outputs": [
    {
     "data": {
      "text/html": [
       "<div class=\"data-frame\"><p>4 rows × 56 columns (omitted printing of 51 columns)</p><table class=\"data-frame\"><thead><tr><th></th><th>suburb</th><th>cnt_total_business</th><th>cnt_takeaway</th><th>cnt_eat_in_premises</th><th>cnt_retail</th></tr><tr><th></th><th title=\"Any\">Any</th><th title=\"Int64\">Int64</th><th title=\"Int64\">Int64</th><th title=\"Int64\">Int64</th><th title=\"Int64\">Int64</th></tr></thead><tbody><tr><th>1</th><td>Merivale</td><td>31</td><td>7</td><td>17</td><td>4</td></tr><tr><th>2</th><td>Heathcote</td><td>8</td><td>2</td><td>4</td><td>2</td></tr><tr><th>3</th><td>Christchurch Central</td><td>388</td><td>212</td><td>275</td><td>62</td></tr><tr><th>4</th><td>Waimairi Beach</td><td>1</td><td>1</td><td>1</td><td>0</td></tr></tbody></table></div>"
      ],
      "text/latex": [
       "\\begin{tabular}{r|cccccc}\n",
       "\t& suburb & cnt\\_total\\_business & cnt\\_takeaway & cnt\\_eat\\_in\\_premises & cnt\\_retail & \\\\\n",
       "\t\\hline\n",
       "\t& Any & Int64 & Int64 & Int64 & Int64 & \\\\\n",
       "\t\\hline\n",
       "\t1 & Merivale & 31 & 7 & 17 & 4 & $\\dots$ \\\\\n",
       "\t2 & Heathcote & 8 & 2 & 4 & 2 & $\\dots$ \\\\\n",
       "\t3 & Christchurch Central & 388 & 212 & 275 & 62 & $\\dots$ \\\\\n",
       "\t4 & Waimairi Beach & 1 & 1 & 1 & 0 & $\\dots$ \\\\\n",
       "\\end{tabular}\n"
      ],
      "text/plain": [
       "\u001b[1m4×56 DataFrame\u001b[0m\n",
       "\u001b[1m Row \u001b[0m│\u001b[1m suburb               \u001b[0m\u001b[1m cnt_total_business \u001b[0m\u001b[1m cnt_takeaway \u001b[0m\u001b[1m cnt_eat_in_prem\u001b[0m ⋯\n",
       "\u001b[1m     \u001b[0m│\u001b[90m Any                  \u001b[0m\u001b[90m Int64              \u001b[0m\u001b[90m Int64        \u001b[0m\u001b[90m Int64          \u001b[0m ⋯\n",
       "─────┼──────────────────────────────────────────────────────────────────────────\n",
       "   1 │ Merivale                              31             7                  ⋯\n",
       "   2 │ Heathcote                              8             2\n",
       "   3 │ Christchurch Central                 388           212\n",
       "   4 │ Waimairi Beach                         1             1\n",
       "\u001b[36m                                                              53 columns omitted\u001b[0m"
      ]
     },
     "execution_count": 25,
     "metadata": {},
     "output_type": "execute_result"
    }
   ],
   "source": [
    "merged_suburbs"
   ]
  },
  {
   "cell_type": "markdown",
   "metadata": {},
   "source": [
    "Next subsetting the rest of the dataset out from the previous final dataset to prepare for combining."
   ]
  },
  {
   "cell_type": "code",
   "execution_count": 26,
   "metadata": {
    "scrolled": true,
    "tags": []
   },
   "outputs": [
    {
     "data": {
      "text/html": [
       "<div class=\"data-frame\"><p>88 rows × 56 columns (omitted printing of 51 columns)</p><table class=\"data-frame\"><thead><tr><th></th><th>suburb</th><th>cnt_total_business</th><th>cnt_takeaway</th><th>cnt_eat_in_premises</th><th>cnt_retail</th></tr><tr><th></th><th title=\"String\">String</th><th title=\"Union{Missing, Int64}\">Int64?</th><th title=\"Union{Missing, Int64}\">Int64?</th><th title=\"Union{Missing, Int64}\">Int64?</th><th title=\"Union{Missing, Int64}\">Int64?</th></tr></thead><tbody><tr><th>1</th><td>Hornby</td><td>123</td><td>57</td><td>48</td><td>30</td></tr><tr><th>2</th><td>Riccarton</td><td>117</td><td>68</td><td>79</td><td>25</td></tr><tr><th>3</th><td>Papanui</td><td>88</td><td>49</td><td>48</td><td>15</td></tr><tr><th>4</th><td>Upper Riccarton</td><td>87</td><td>50</td><td>45</td><td>27</td></tr><tr><th>5</th><td>St Albans</td><td>84</td><td>34</td><td>32</td><td>26</td></tr><tr><th>6</th><td>Addington</td><td>76</td><td>27</td><td>42</td><td>17</td></tr><tr><th>7</th><td>Harewood</td><td>66</td><td>25</td><td>42</td><td>23</td></tr><tr><th>8</th><td>Linwood</td><td>64</td><td>25</td><td>16</td><td>25</td></tr><tr><th>9</th><td>Sockburn</td><td>64</td><td>19</td><td>10</td><td>16</td></tr><tr><th>10</th><td>Woolston</td><td>52</td><td>27</td><td>17</td><td>16</td></tr><tr><th>11</th><td>New Brighton</td><td>44</td><td>22</td><td>17</td><td>7</td></tr><tr><th>12</th><td>Ilam</td><td>42</td><td>22</td><td>23</td><td>19</td></tr><tr><th>13</th><td>Spreydon</td><td>37</td><td>15</td><td>13</td><td>12</td></tr><tr><th>14</th><td>Shirley</td><td>36</td><td>18</td><td>21</td><td>7</td></tr><tr><th>15</th><td>Bryndwr</td><td>35</td><td>17</td><td>10</td><td>11</td></tr><tr><th>16</th><td>Halswell</td><td>34</td><td>17</td><td>19</td><td>8</td></tr><tr><th>17</th><td>Avonhead</td><td>32</td><td>11</td><td>6</td><td>9</td></tr><tr><th>18</th><td>Sumner</td><td>30</td><td>16</td><td>20</td><td>3</td></tr><tr><th>19</th><td>Bishopdale</td><td>29</td><td>14</td><td>12</td><td>9</td></tr><tr><th>20</th><td>Belfast</td><td>27</td><td>8</td><td>10</td><td>5</td></tr><tr><th>21</th><td>Wainoni</td><td>27</td><td>15</td><td>5</td><td>9</td></tr><tr><th>22</th><td>Hoon Hay</td><td>26</td><td>13</td><td>6</td><td>8</td></tr><tr><th>23</th><td>Redwood</td><td>26</td><td>13</td><td>13</td><td>7</td></tr><tr><th>24</th><td>Phillipstown</td><td>23</td><td>13</td><td>10</td><td>5</td></tr><tr><th>25</th><td>Burnside</td><td>22</td><td>16</td><td>9</td><td>3</td></tr><tr><th>26</th><td>Waltham</td><td>22</td><td>8</td><td>6</td><td>6</td></tr><tr><th>27</th><td>Opawa</td><td>21</td><td>10</td><td>7</td><td>6</td></tr><tr><th>28</th><td>Burwood</td><td>18</td><td>5</td><td>3</td><td>6</td></tr><tr><th>29</th><td>Bromley</td><td>17</td><td>6</td><td>3</td><td>10</td></tr><tr><th>30</th><td>Fendalton</td><td>15</td><td>7</td><td>9</td><td>3</td></tr><tr><th>&vellip;</th><td>&vellip;</td><td>&vellip;</td><td>&vellip;</td><td>&vellip;</td><td>&vellip;</td></tr></tbody></table></div>"
      ],
      "text/latex": [
       "\\begin{tabular}{r|cccccc}\n",
       "\t& suburb & cnt\\_total\\_business & cnt\\_takeaway & cnt\\_eat\\_in\\_premises & cnt\\_retail & \\\\\n",
       "\t\\hline\n",
       "\t& String & Int64? & Int64? & Int64? & Int64? & \\\\\n",
       "\t\\hline\n",
       "\t1 & Hornby & 123 & 57 & 48 & 30 & $\\dots$ \\\\\n",
       "\t2 & Riccarton & 117 & 68 & 79 & 25 & $\\dots$ \\\\\n",
       "\t3 & Papanui & 88 & 49 & 48 & 15 & $\\dots$ \\\\\n",
       "\t4 & Upper Riccarton & 87 & 50 & 45 & 27 & $\\dots$ \\\\\n",
       "\t5 & St Albans & 84 & 34 & 32 & 26 & $\\dots$ \\\\\n",
       "\t6 & Addington & 76 & 27 & 42 & 17 & $\\dots$ \\\\\n",
       "\t7 & Harewood & 66 & 25 & 42 & 23 & $\\dots$ \\\\\n",
       "\t8 & Linwood & 64 & 25 & 16 & 25 & $\\dots$ \\\\\n",
       "\t9 & Sockburn & 64 & 19 & 10 & 16 & $\\dots$ \\\\\n",
       "\t10 & Woolston & 52 & 27 & 17 & 16 & $\\dots$ \\\\\n",
       "\t11 & New Brighton & 44 & 22 & 17 & 7 & $\\dots$ \\\\\n",
       "\t12 & Ilam & 42 & 22 & 23 & 19 & $\\dots$ \\\\\n",
       "\t13 & Spreydon & 37 & 15 & 13 & 12 & $\\dots$ \\\\\n",
       "\t14 & Shirley & 36 & 18 & 21 & 7 & $\\dots$ \\\\\n",
       "\t15 & Bryndwr & 35 & 17 & 10 & 11 & $\\dots$ \\\\\n",
       "\t16 & Halswell & 34 & 17 & 19 & 8 & $\\dots$ \\\\\n",
       "\t17 & Avonhead & 32 & 11 & 6 & 9 & $\\dots$ \\\\\n",
       "\t18 & Sumner & 30 & 16 & 20 & 3 & $\\dots$ \\\\\n",
       "\t19 & Bishopdale & 29 & 14 & 12 & 9 & $\\dots$ \\\\\n",
       "\t20 & Belfast & 27 & 8 & 10 & 5 & $\\dots$ \\\\\n",
       "\t21 & Wainoni & 27 & 15 & 5 & 9 & $\\dots$ \\\\\n",
       "\t22 & Hoon Hay & 26 & 13 & 6 & 8 & $\\dots$ \\\\\n",
       "\t23 & Redwood & 26 & 13 & 13 & 7 & $\\dots$ \\\\\n",
       "\t24 & Phillipstown & 23 & 13 & 10 & 5 & $\\dots$ \\\\\n",
       "\t25 & Burnside & 22 & 16 & 9 & 3 & $\\dots$ \\\\\n",
       "\t26 & Waltham & 22 & 8 & 6 & 6 & $\\dots$ \\\\\n",
       "\t27 & Opawa & 21 & 10 & 7 & 6 & $\\dots$ \\\\\n",
       "\t28 & Burwood & 18 & 5 & 3 & 6 & $\\dots$ \\\\\n",
       "\t29 & Bromley & 17 & 6 & 3 & 10 & $\\dots$ \\\\\n",
       "\t30 & Fendalton & 15 & 7 & 9 & 3 & $\\dots$ \\\\\n",
       "\t$\\dots$ & $\\dots$ & $\\dots$ & $\\dots$ & $\\dots$ & $\\dots$ &  \\\\\n",
       "\\end{tabular}\n"
      ],
      "text/plain": [
       "\u001b[1m88×56 DataFrame\u001b[0m\n",
       "\u001b[1m Row \u001b[0m│\u001b[1m suburb          \u001b[0m\u001b[1m cnt_total_business \u001b[0m\u001b[1m cnt_takeaway \u001b[0m\u001b[1m cnt_eat_in_premises \u001b[0m\u001b[1m\u001b[0m ⋯\n",
       "\u001b[1m     \u001b[0m│\u001b[90m String          \u001b[0m\u001b[90m Int64?             \u001b[0m\u001b[90m Int64?       \u001b[0m\u001b[90m Int64?              \u001b[0m\u001b[90m\u001b[0m ⋯\n",
       "─────┼──────────────────────────────────────────────────────────────────────────\n",
       "   1 │ Hornby                          123            57                   48  ⋯\n",
       "   2 │ Riccarton                       117            68                   79\n",
       "   3 │ Papanui                          88            49                   48\n",
       "   4 │ Upper Riccarton                  87            50                   45\n",
       "   5 │ St Albans                        84            34                   32  ⋯\n",
       "   6 │ Addington                        76            27                   42\n",
       "   7 │ Harewood                         66            25                   42\n",
       "   8 │ Linwood                          64            25                   16\n",
       "   9 │ Sockburn                         64            19                   10  ⋯\n",
       "  10 │ Woolston                         52            27                   17\n",
       "  11 │ New Brighton                     44            22                   17\n",
       "  ⋮  │        ⋮                 ⋮                ⋮                 ⋮           ⋱\n",
       "  79 │ Scarborough     \u001b[90m            missing \u001b[0m\u001b[90m      missing \u001b[0m\u001b[90m             missing \u001b[0m\u001b[90m\u001b[0m\n",
       "  80 │ Richmond Hill   \u001b[90m            missing \u001b[0m\u001b[90m      missing \u001b[0m\u001b[90m             missing \u001b[0m\u001b[90m\u001b[0m ⋯\n",
       "  81 │ Bexley          \u001b[90m            missing \u001b[0m\u001b[90m      missing \u001b[0m\u001b[90m             missing \u001b[0m\u001b[90m\u001b[0m\n",
       "  82 │ Kainga          \u001b[90m            missing \u001b[0m\u001b[90m      missing \u001b[0m\u001b[90m             missing \u001b[0m\u001b[90m\u001b[0m\n",
       "  83 │ McCormacks Bay                    3             1                    2\n",
       "  84 │ Bridgend                          2             1                    0  ⋯\n",
       "  85 │ Cracroft                          1             1                    1\n",
       "  86 │ Hyde Park                         1             0                    1\n",
       "  87 │ Masham                            1             0                    0\n",
       "  88 │ Westlake                          1             0                    0  ⋯\n",
       "\u001b[36m                                                  52 columns and 67 rows omitted\u001b[0m"
      ]
     },
     "execution_count": 26,
     "metadata": {},
     "output_type": "execute_result"
    }
   ],
   "source": [
    "final_dataset_subset = combined_dataset |> \n",
    "                            @filter(_.suburb ∉ [\"Merivale\",\"Christchurch Central\",\"Heathcote\",\"Waimairi Beach\"]) |> \n",
    "                            DataFrame"
   ]
  },
  {
   "cell_type": "markdown",
   "metadata": {},
   "source": [
    "Next, I will need to append these two dataset merged_suburbs and final_dataset_subset together, I need to use a function called vcat to concatenate two dataframes."
   ]
  },
  {
   "cell_type": "code",
   "execution_count": 27,
   "metadata": {
    "scrolled": true,
    "tags": []
   },
   "outputs": [
    {
     "data": {
      "text/html": [
       "<div class=\"data-frame\"><p>92 rows × 56 columns (omitted printing of 51 columns)</p><table class=\"data-frame\"><thead><tr><th></th><th>suburb</th><th>cnt_total_business</th><th>cnt_takeaway</th><th>cnt_eat_in_premises</th><th>cnt_retail</th></tr><tr><th></th><th title=\"Any\">Any</th><th title=\"Union{Missing, Int64}\">Int64?</th><th title=\"Union{Missing, Int64}\">Int64?</th><th title=\"Union{Missing, Int64}\">Int64?</th><th title=\"Union{Missing, Int64}\">Int64?</th></tr></thead><tbody><tr><th>1</th><td>Hornby</td><td>123</td><td>57</td><td>48</td><td>30</td></tr><tr><th>2</th><td>Riccarton</td><td>117</td><td>68</td><td>79</td><td>25</td></tr><tr><th>3</th><td>Papanui</td><td>88</td><td>49</td><td>48</td><td>15</td></tr><tr><th>4</th><td>Upper Riccarton</td><td>87</td><td>50</td><td>45</td><td>27</td></tr><tr><th>5</th><td>St Albans</td><td>84</td><td>34</td><td>32</td><td>26</td></tr><tr><th>6</th><td>Addington</td><td>76</td><td>27</td><td>42</td><td>17</td></tr><tr><th>7</th><td>Harewood</td><td>66</td><td>25</td><td>42</td><td>23</td></tr><tr><th>8</th><td>Linwood</td><td>64</td><td>25</td><td>16</td><td>25</td></tr><tr><th>9</th><td>Sockburn</td><td>64</td><td>19</td><td>10</td><td>16</td></tr><tr><th>10</th><td>Woolston</td><td>52</td><td>27</td><td>17</td><td>16</td></tr><tr><th>11</th><td>New Brighton</td><td>44</td><td>22</td><td>17</td><td>7</td></tr><tr><th>12</th><td>Ilam</td><td>42</td><td>22</td><td>23</td><td>19</td></tr><tr><th>13</th><td>Spreydon</td><td>37</td><td>15</td><td>13</td><td>12</td></tr><tr><th>14</th><td>Shirley</td><td>36</td><td>18</td><td>21</td><td>7</td></tr><tr><th>15</th><td>Bryndwr</td><td>35</td><td>17</td><td>10</td><td>11</td></tr><tr><th>16</th><td>Halswell</td><td>34</td><td>17</td><td>19</td><td>8</td></tr><tr><th>17</th><td>Avonhead</td><td>32</td><td>11</td><td>6</td><td>9</td></tr><tr><th>18</th><td>Sumner</td><td>30</td><td>16</td><td>20</td><td>3</td></tr><tr><th>19</th><td>Bishopdale</td><td>29</td><td>14</td><td>12</td><td>9</td></tr><tr><th>20</th><td>Belfast</td><td>27</td><td>8</td><td>10</td><td>5</td></tr><tr><th>21</th><td>Wainoni</td><td>27</td><td>15</td><td>5</td><td>9</td></tr><tr><th>22</th><td>Hoon Hay</td><td>26</td><td>13</td><td>6</td><td>8</td></tr><tr><th>23</th><td>Redwood</td><td>26</td><td>13</td><td>13</td><td>7</td></tr><tr><th>24</th><td>Phillipstown</td><td>23</td><td>13</td><td>10</td><td>5</td></tr><tr><th>25</th><td>Burnside</td><td>22</td><td>16</td><td>9</td><td>3</td></tr><tr><th>26</th><td>Waltham</td><td>22</td><td>8</td><td>6</td><td>6</td></tr><tr><th>27</th><td>Opawa</td><td>21</td><td>10</td><td>7</td><td>6</td></tr><tr><th>28</th><td>Burwood</td><td>18</td><td>5</td><td>3</td><td>6</td></tr><tr><th>29</th><td>Bromley</td><td>17</td><td>6</td><td>3</td><td>10</td></tr><tr><th>30</th><td>Fendalton</td><td>15</td><td>7</td><td>9</td><td>3</td></tr><tr><th>&vellip;</th><td>&vellip;</td><td>&vellip;</td><td>&vellip;</td><td>&vellip;</td><td>&vellip;</td></tr></tbody></table></div>"
      ],
      "text/latex": [
       "\\begin{tabular}{r|cccccc}\n",
       "\t& suburb & cnt\\_total\\_business & cnt\\_takeaway & cnt\\_eat\\_in\\_premises & cnt\\_retail & \\\\\n",
       "\t\\hline\n",
       "\t& Any & Int64? & Int64? & Int64? & Int64? & \\\\\n",
       "\t\\hline\n",
       "\t1 & Hornby & 123 & 57 & 48 & 30 & $\\dots$ \\\\\n",
       "\t2 & Riccarton & 117 & 68 & 79 & 25 & $\\dots$ \\\\\n",
       "\t3 & Papanui & 88 & 49 & 48 & 15 & $\\dots$ \\\\\n",
       "\t4 & Upper Riccarton & 87 & 50 & 45 & 27 & $\\dots$ \\\\\n",
       "\t5 & St Albans & 84 & 34 & 32 & 26 & $\\dots$ \\\\\n",
       "\t6 & Addington & 76 & 27 & 42 & 17 & $\\dots$ \\\\\n",
       "\t7 & Harewood & 66 & 25 & 42 & 23 & $\\dots$ \\\\\n",
       "\t8 & Linwood & 64 & 25 & 16 & 25 & $\\dots$ \\\\\n",
       "\t9 & Sockburn & 64 & 19 & 10 & 16 & $\\dots$ \\\\\n",
       "\t10 & Woolston & 52 & 27 & 17 & 16 & $\\dots$ \\\\\n",
       "\t11 & New Brighton & 44 & 22 & 17 & 7 & $\\dots$ \\\\\n",
       "\t12 & Ilam & 42 & 22 & 23 & 19 & $\\dots$ \\\\\n",
       "\t13 & Spreydon & 37 & 15 & 13 & 12 & $\\dots$ \\\\\n",
       "\t14 & Shirley & 36 & 18 & 21 & 7 & $\\dots$ \\\\\n",
       "\t15 & Bryndwr & 35 & 17 & 10 & 11 & $\\dots$ \\\\\n",
       "\t16 & Halswell & 34 & 17 & 19 & 8 & $\\dots$ \\\\\n",
       "\t17 & Avonhead & 32 & 11 & 6 & 9 & $\\dots$ \\\\\n",
       "\t18 & Sumner & 30 & 16 & 20 & 3 & $\\dots$ \\\\\n",
       "\t19 & Bishopdale & 29 & 14 & 12 & 9 & $\\dots$ \\\\\n",
       "\t20 & Belfast & 27 & 8 & 10 & 5 & $\\dots$ \\\\\n",
       "\t21 & Wainoni & 27 & 15 & 5 & 9 & $\\dots$ \\\\\n",
       "\t22 & Hoon Hay & 26 & 13 & 6 & 8 & $\\dots$ \\\\\n",
       "\t23 & Redwood & 26 & 13 & 13 & 7 & $\\dots$ \\\\\n",
       "\t24 & Phillipstown & 23 & 13 & 10 & 5 & $\\dots$ \\\\\n",
       "\t25 & Burnside & 22 & 16 & 9 & 3 & $\\dots$ \\\\\n",
       "\t26 & Waltham & 22 & 8 & 6 & 6 & $\\dots$ \\\\\n",
       "\t27 & Opawa & 21 & 10 & 7 & 6 & $\\dots$ \\\\\n",
       "\t28 & Burwood & 18 & 5 & 3 & 6 & $\\dots$ \\\\\n",
       "\t29 & Bromley & 17 & 6 & 3 & 10 & $\\dots$ \\\\\n",
       "\t30 & Fendalton & 15 & 7 & 9 & 3 & $\\dots$ \\\\\n",
       "\t$\\dots$ & $\\dots$ & $\\dots$ & $\\dots$ & $\\dots$ & $\\dots$ &  \\\\\n",
       "\\end{tabular}\n"
      ],
      "text/plain": [
       "\u001b[1m92×56 DataFrame\u001b[0m\n",
       "\u001b[1m Row \u001b[0m│\u001b[1m suburb               \u001b[0m\u001b[1m cnt_total_business \u001b[0m\u001b[1m cnt_takeaway \u001b[0m\u001b[1m cnt_eat_in_prem\u001b[0m ⋯\n",
       "\u001b[1m     \u001b[0m│\u001b[90m Any                  \u001b[0m\u001b[90m Int64?             \u001b[0m\u001b[90m Int64?       \u001b[0m\u001b[90m Int64?         \u001b[0m ⋯\n",
       "─────┼──────────────────────────────────────────────────────────────────────────\n",
       "   1 │ Hornby                               123            57                  ⋯\n",
       "   2 │ Riccarton                            117            68\n",
       "   3 │ Papanui                               88            49\n",
       "   4 │ Upper Riccarton                       87            50\n",
       "   5 │ St Albans                             84            34                  ⋯\n",
       "   6 │ Addington                             76            27\n",
       "   7 │ Harewood                              66            25\n",
       "   8 │ Linwood                               64            25\n",
       "   9 │ Sockburn                              64            19                  ⋯\n",
       "  10 │ Woolston                              52            27\n",
       "  11 │ New Brighton                          44            22\n",
       "  ⋮  │          ⋮                    ⋮                ⋮                 ⋮      ⋱\n",
       "  83 │ McCormacks Bay                         3             1\n",
       "  84 │ Bridgend                               2             1                  ⋯\n",
       "  85 │ Cracroft                               1             1\n",
       "  86 │ Hyde Park                              1             0\n",
       "  87 │ Masham                                 1             0\n",
       "  88 │ Westlake                               1             0                  ⋯\n",
       "  89 │ Merivale                              31             7\n",
       "  90 │ Heathcote                              8             2\n",
       "  91 │ Christchurch Central                 388           212\n",
       "  92 │ Waimairi Beach                         1             1                  ⋯\n",
       "\u001b[36m                                                  53 columns and 71 rows omitted\u001b[0m"
      ]
     },
     "execution_count": 27,
     "metadata": {},
     "output_type": "execute_result"
    }
   ],
   "source": [
    "final_combined_pre = vcat(final_dataset_subset, merged_suburbs)"
   ]
  },
  {
   "cell_type": "markdown",
   "metadata": {},
   "source": [
    "Add the Geo code:"
   ]
  },
  {
   "cell_type": "code",
   "execution_count": 28,
   "metadata": {
    "scrolled": true,
    "tags": []
   },
   "outputs": [
    {
     "data": {
      "text/html": [
       "<div class=\"data-frame\"><p>110 rows × 4 columns</p><table class=\"data-frame\"><thead><tr><th></th><th>suburb</th><th>Address</th><th>latitude</th><th>longitude</th></tr><tr><th></th><th title=\"String\">String</th><th title=\"String\">String</th><th title=\"String\">String</th><th title=\"String\">String</th></tr></thead><tbody><tr><th>1</th><td>Hornby</td><td>Hornby, Christchurch, New Zealand</td><td>-43.5433755</td><td>172.5256596</td></tr><tr><th>2</th><td>Riccarton</td><td>Riccarton, Christchurch, New Zealand</td><td>-43.5295443</td><td>172.6018798</td></tr><tr><th>3</th><td>Papanui</td><td>Papanui, Christchurch, New Zealand</td><td>-43.4969874</td><td>172.6079114</td></tr><tr><th>4</th><td>Upper Riccarton</td><td>Upper Riccarton, Christchurch, New Zealand</td><td>-43.5313665</td><td>172.5798232</td></tr><tr><th>5</th><td>St Albans</td><td>St Albans, Christchurch, New Zealand</td><td>-43.5026053</td><td>172.632747</td></tr><tr><th>6</th><td>Addington</td><td>Addington, Christchurch, New Zealand</td><td>-43.5453472</td><td>172.6088286</td></tr><tr><th>7</th><td>Harewood</td><td>Harewood, Christchurch, New Zealand</td><td>-43.471698</td><td>172.570025</td></tr><tr><th>8</th><td>Sockburn</td><td>Sockburn, Christchurch, New Zealand</td><td>-43.539318</td><td>172.5539968</td></tr><tr><th>9</th><td>Woolston</td><td>Woolston, Christchurch, New Zealand</td><td>-43.5472739</td><td>172.6790931</td></tr><tr><th>10</th><td>Linwood</td><td>Linwood, Christchurch, New Zealand</td><td>-43.5308482</td><td>172.6689919</td></tr><tr><th>11</th><td>New Brighton</td><td>New Brighton, Christchurch, New Zealand</td><td>-43.5079076</td><td>172.7225969</td></tr><tr><th>12</th><td>Ilam</td><td>Ilam, Christchurch, New Zealand</td><td>-43.516846</td><td>172.5720804</td></tr><tr><th>13</th><td>Richmond</td><td>Richmond, Christchurch, New Zealand</td><td>-43.5175656</td><td>172.6563837</td></tr><tr><th>14</th><td>Spreydon</td><td>Spreydon, Christchurch, New Zealand</td><td>-43.5529144</td><td>172.6140204</td></tr><tr><th>15</th><td>Shirley</td><td>Shirley, Christchurch, New Zealand</td><td>-43.4944924</td><td>172.6614341</td></tr><tr><th>16</th><td>Bryndwr</td><td>Bryndwr, Christchurch, New Zealand</td><td>-43.5034877</td><td>172.5939723</td></tr><tr><th>17</th><td>Halswell</td><td>Halswell, Christchurch, New Zealand</td><td>-43.5853417</td><td>172.5707837</td></tr><tr><th>18</th><td>Avonhead</td><td>Avonhead, Christchurch, New Zealand</td><td>-43.5103164</td><td>172.5564539</td></tr><tr><th>19</th><td>Sumner</td><td>Sumner, Christchurch, New Zealand</td><td>-43.5819645</td><td>172.7565102</td></tr><tr><th>20</th><td>Bishopdale</td><td>Bishopdale, Christchurch, New Zealand</td><td>-43.4879729</td><td>172.5881428</td></tr><tr><th>21</th><td>Wainoni</td><td>Wainoni, Christchurch, New Zealand</td><td>-43.5176316</td><td>172.6862801</td></tr><tr><th>22</th><td>Hoon Hay</td><td>Hoon Hay, Christchurch, New Zealand</td><td>-43.5645761</td><td>172.6090457</td></tr><tr><th>23</th><td>Belfast</td><td>Belfast, Christchurch, New Zealand</td><td>-43.443281</td><td>172.6337403</td></tr><tr><th>24</th><td>Redwood</td><td>Redwood, Christchurch, New Zealand</td><td>-43.4736806</td><td>172.6172232</td></tr><tr><th>25</th><td>Phillipstown</td><td>Phillipstown, Christchurch, New Zealand</td><td>-43.5354037</td><td>172.6570979</td></tr><tr><th>26</th><td>Burnside</td><td>Burnside, Christchurch, New Zealand</td><td>-43.5064673</td><td>172.5709795</td></tr><tr><th>27</th><td>Waltham</td><td>Waltham, Christchurch, New Zealand</td><td>-43.5468206</td><td>172.6535829</td></tr><tr><th>28</th><td>Opawa</td><td>Opawa, Christchurch, New Zealand</td><td>-43.5551666</td><td>172.6621023</td></tr><tr><th>29</th><td>Burwood</td><td>Burwood, Christchurch, New Zealand</td><td>-43.4926695</td><td>172.6915268</td></tr><tr><th>30</th><td>Bromley</td><td>Bromley, Christchurch, New Zealand</td><td>-43.539392</td><td>172.7027741</td></tr><tr><th>&vellip;</th><td>&vellip;</td><td>&vellip;</td><td>&vellip;</td><td>&vellip;</td></tr></tbody></table></div>"
      ],
      "text/latex": [
       "\\begin{tabular}{r|cccc}\n",
       "\t& suburb & Address & latitude & longitude\\\\\n",
       "\t\\hline\n",
       "\t& String & String & String & String\\\\\n",
       "\t\\hline\n",
       "\t1 & Hornby & Hornby, Christchurch, New Zealand & -43.5433755 & 172.5256596 \\\\\n",
       "\t2 & Riccarton & Riccarton, Christchurch, New Zealand & -43.5295443 & 172.6018798 \\\\\n",
       "\t3 & Papanui & Papanui, Christchurch, New Zealand & -43.4969874 & 172.6079114 \\\\\n",
       "\t4 & Upper Riccarton & Upper Riccarton, Christchurch, New Zealand & -43.5313665 & 172.5798232 \\\\\n",
       "\t5 & St Albans & St Albans, Christchurch, New Zealand & -43.5026053 & 172.632747 \\\\\n",
       "\t6 & Addington & Addington, Christchurch, New Zealand & -43.5453472 & 172.6088286 \\\\\n",
       "\t7 & Harewood & Harewood, Christchurch, New Zealand & -43.471698 & 172.570025 \\\\\n",
       "\t8 & Sockburn & Sockburn, Christchurch, New Zealand & -43.539318 & 172.5539968 \\\\\n",
       "\t9 & Woolston & Woolston, Christchurch, New Zealand & -43.5472739 & 172.6790931 \\\\\n",
       "\t10 & Linwood & Linwood, Christchurch, New Zealand & -43.5308482 & 172.6689919 \\\\\n",
       "\t11 & New Brighton & New Brighton, Christchurch, New Zealand & -43.5079076 & 172.7225969 \\\\\n",
       "\t12 & Ilam & Ilam, Christchurch, New Zealand & -43.516846 & 172.5720804 \\\\\n",
       "\t13 & Richmond & Richmond, Christchurch, New Zealand & -43.5175656 & 172.6563837 \\\\\n",
       "\t14 & Spreydon & Spreydon, Christchurch, New Zealand & -43.5529144 & 172.6140204 \\\\\n",
       "\t15 & Shirley & Shirley, Christchurch, New Zealand & -43.4944924 & 172.6614341 \\\\\n",
       "\t16 & Bryndwr & Bryndwr, Christchurch, New Zealand & -43.5034877 & 172.5939723 \\\\\n",
       "\t17 & Halswell & Halswell, Christchurch, New Zealand & -43.5853417 & 172.5707837 \\\\\n",
       "\t18 & Avonhead & Avonhead, Christchurch, New Zealand & -43.5103164 & 172.5564539 \\\\\n",
       "\t19 & Sumner & Sumner, Christchurch, New Zealand & -43.5819645 & 172.7565102 \\\\\n",
       "\t20 & Bishopdale & Bishopdale, Christchurch, New Zealand & -43.4879729 & 172.5881428 \\\\\n",
       "\t21 & Wainoni & Wainoni, Christchurch, New Zealand & -43.5176316 & 172.6862801 \\\\\n",
       "\t22 & Hoon Hay & Hoon Hay, Christchurch, New Zealand & -43.5645761 & 172.6090457 \\\\\n",
       "\t23 & Belfast & Belfast, Christchurch, New Zealand & -43.443281 & 172.6337403 \\\\\n",
       "\t24 & Redwood & Redwood, Christchurch, New Zealand & -43.4736806 & 172.6172232 \\\\\n",
       "\t25 & Phillipstown & Phillipstown, Christchurch, New Zealand & -43.5354037 & 172.6570979 \\\\\n",
       "\t26 & Burnside & Burnside, Christchurch, New Zealand & -43.5064673 & 172.5709795 \\\\\n",
       "\t27 & Waltham & Waltham, Christchurch, New Zealand & -43.5468206 & 172.6535829 \\\\\n",
       "\t28 & Opawa & Opawa, Christchurch, New Zealand & -43.5551666 & 172.6621023 \\\\\n",
       "\t29 & Burwood & Burwood, Christchurch, New Zealand & -43.4926695 & 172.6915268 \\\\\n",
       "\t30 & Bromley & Bromley, Christchurch, New Zealand & -43.539392 & 172.7027741 \\\\\n",
       "\t$\\dots$ & $\\dots$ & $\\dots$ & $\\dots$ & $\\dots$ \\\\\n",
       "\\end{tabular}\n"
      ],
      "text/plain": [
       "\u001b[1m110×4 DataFrame\u001b[0m\n",
       "\u001b[1m Row \u001b[0m│\u001b[1m suburb               \u001b[0m\u001b[1m Address                           \u001b[0m\u001b[1m latitude    \u001b[0m\u001b[1m l\u001b[0m ⋯\n",
       "\u001b[1m     \u001b[0m│\u001b[90m String               \u001b[0m\u001b[90m String                            \u001b[0m\u001b[90m String      \u001b[0m\u001b[90m S\u001b[0m ⋯\n",
       "─────┼──────────────────────────────────────────────────────────────────────────\n",
       "   1 │ Hornby                Hornby, Christchurch, New Zealand  -43.5433755  1 ⋯\n",
       "   2 │ Riccarton             Riccarton, Christchurch, New Zea…  -43.5295443  1\n",
       "   3 │ Papanui               Papanui, Christchurch, New Zeala…  -43.4969874  1\n",
       "   4 │ Upper Riccarton       Upper Riccarton, Christchurch, N…  -43.5313665  1\n",
       "   5 │ St Albans             St Albans, Christchurch, New Zea…  -43.5026053  1 ⋯\n",
       "   6 │ Addington             Addington, Christchurch, New Zea…  -43.5453472  1\n",
       "   7 │ Harewood              Harewood, Christchurch, New Zeal…  -43.471698   1\n",
       "   8 │ Sockburn              Sockburn, Christchurch, New Zeal…  -43.539318   1\n",
       "   9 │ Woolston              Woolston, Christchurch, New Zeal…  -43.5472739  1 ⋯\n",
       "  10 │ Linwood               Linwood, Christchurch, New Zeala…  -43.5308482  1\n",
       "  11 │ New Brighton          New Brighton, Christchurch, New …  -43.5079076  1\n",
       "  ⋮  │          ⋮                            ⋮                       ⋮         ⋱\n",
       " 101 │ Hyde Park             Hyde Park, Christchurch, New Zea…  -43.511849   1\n",
       " 102 │ Masham                Masham, Christchurch, New Zealand  -43.5233745  1 ⋯\n",
       " 103 │ Motukarara            Motukarara, Christchurch, New Ze…  -43.7254323  1\n",
       " 104 │ Okains Bay            Okains Bay, Christchurch, New Ze…  -43.7105911  1\n",
       " 105 │ Redwood Park          Redwood Park, Christchurch, New …  -43.4767112  1\n",
       " 106 │ Westlake              Westlake, Christchurch, New Zeal…  -43.5679273  1 ⋯\n",
       " 107 │ Merivale              Merivale, Christchurch, New Zeal…  -43.5195947  1\n",
       " 108 │ Heathcote             Heathcote, Christchurch, New Zea…  -43.577533   1\n",
       " 109 │ Christchurch Central  Christchurch Central, Christchur…  -43.5298519  1\n",
       " 110 │ Waimairi Beach        Waimairi Beach, Christchurch, Ne…  -43.4804203  1 ⋯\n",
       "\u001b[36m                                                    1 column and 89 rows omitted\u001b[0m"
      ]
     },
     "execution_count": 28,
     "metadata": {},
     "output_type": "execute_result"
    }
   ],
   "source": [
    "geo_code = CSV.read(\"suburbs_google_geocode2.csv\", DataFrame) "
   ]
  },
  {
   "cell_type": "markdown",
   "metadata": {},
   "source": [
    "Joint the geo codes to the final combined dataset:"
   ]
  },
  {
   "cell_type": "code",
   "execution_count": 29,
   "metadata": {},
   "outputs": [
    {
     "data": {
      "text/html": [
       "<div class=\"data-frame\"><p>92 rows × 59 columns (omitted printing of 54 columns)</p><table class=\"data-frame\"><thead><tr><th></th><th>suburb</th><th>cnt_total_business</th><th>cnt_takeaway</th><th>cnt_eat_in_premises</th><th>cnt_retail</th></tr><tr><th></th><th title=\"Any\">Any</th><th title=\"Union{Missing, Int64}\">Int64?</th><th title=\"Union{Missing, Int64}\">Int64?</th><th title=\"Union{Missing, Int64}\">Int64?</th><th title=\"Union{Missing, Int64}\">Int64?</th></tr></thead><tbody><tr><th>1</th><td>Hornby</td><td>123</td><td>57</td><td>48</td><td>30</td></tr><tr><th>2</th><td>Riccarton</td><td>117</td><td>68</td><td>79</td><td>25</td></tr><tr><th>3</th><td>Papanui</td><td>88</td><td>49</td><td>48</td><td>15</td></tr><tr><th>4</th><td>Upper Riccarton</td><td>87</td><td>50</td><td>45</td><td>27</td></tr><tr><th>5</th><td>St Albans</td><td>84</td><td>34</td><td>32</td><td>26</td></tr><tr><th>6</th><td>Addington</td><td>76</td><td>27</td><td>42</td><td>17</td></tr><tr><th>7</th><td>Harewood</td><td>66</td><td>25</td><td>42</td><td>23</td></tr><tr><th>8</th><td>Sockburn</td><td>64</td><td>19</td><td>10</td><td>16</td></tr><tr><th>9</th><td>Woolston</td><td>52</td><td>27</td><td>17</td><td>16</td></tr><tr><th>10</th><td>Linwood</td><td>64</td><td>25</td><td>16</td><td>25</td></tr><tr><th>11</th><td>New Brighton</td><td>44</td><td>22</td><td>17</td><td>7</td></tr><tr><th>12</th><td>Ilam</td><td>42</td><td>22</td><td>23</td><td>19</td></tr><tr><th>13</th><td>Richmond</td><td>41</td><td>22</td><td>12</td><td>11</td></tr><tr><th>14</th><td>Spreydon</td><td>37</td><td>15</td><td>13</td><td>12</td></tr><tr><th>15</th><td>Shirley</td><td>36</td><td>18</td><td>21</td><td>7</td></tr><tr><th>16</th><td>Bryndwr</td><td>35</td><td>17</td><td>10</td><td>11</td></tr><tr><th>17</th><td>Halswell</td><td>34</td><td>17</td><td>19</td><td>8</td></tr><tr><th>18</th><td>Avonhead</td><td>32</td><td>11</td><td>6</td><td>9</td></tr><tr><th>19</th><td>Sumner</td><td>30</td><td>16</td><td>20</td><td>3</td></tr><tr><th>20</th><td>Bishopdale</td><td>29</td><td>14</td><td>12</td><td>9</td></tr><tr><th>21</th><td>Wainoni</td><td>27</td><td>15</td><td>5</td><td>9</td></tr><tr><th>22</th><td>Hoon Hay</td><td>26</td><td>13</td><td>6</td><td>8</td></tr><tr><th>23</th><td>Belfast</td><td>27</td><td>8</td><td>10</td><td>5</td></tr><tr><th>24</th><td>Redwood</td><td>26</td><td>13</td><td>13</td><td>7</td></tr><tr><th>25</th><td>Phillipstown</td><td>23</td><td>13</td><td>10</td><td>5</td></tr><tr><th>26</th><td>Burnside</td><td>22</td><td>16</td><td>9</td><td>3</td></tr><tr><th>27</th><td>Waltham</td><td>22</td><td>8</td><td>6</td><td>6</td></tr><tr><th>28</th><td>Opawa</td><td>21</td><td>10</td><td>7</td><td>6</td></tr><tr><th>29</th><td>Burwood</td><td>18</td><td>5</td><td>3</td><td>6</td></tr><tr><th>30</th><td>Bromley</td><td>17</td><td>6</td><td>3</td><td>10</td></tr><tr><th>&vellip;</th><td>&vellip;</td><td>&vellip;</td><td>&vellip;</td><td>&vellip;</td><td>&vellip;</td></tr></tbody></table></div>"
      ],
      "text/latex": [
       "\\begin{tabular}{r|cccccc}\n",
       "\t& suburb & cnt\\_total\\_business & cnt\\_takeaway & cnt\\_eat\\_in\\_premises & cnt\\_retail & \\\\\n",
       "\t\\hline\n",
       "\t& Any & Int64? & Int64? & Int64? & Int64? & \\\\\n",
       "\t\\hline\n",
       "\t1 & Hornby & 123 & 57 & 48 & 30 & $\\dots$ \\\\\n",
       "\t2 & Riccarton & 117 & 68 & 79 & 25 & $\\dots$ \\\\\n",
       "\t3 & Papanui & 88 & 49 & 48 & 15 & $\\dots$ \\\\\n",
       "\t4 & Upper Riccarton & 87 & 50 & 45 & 27 & $\\dots$ \\\\\n",
       "\t5 & St Albans & 84 & 34 & 32 & 26 & $\\dots$ \\\\\n",
       "\t6 & Addington & 76 & 27 & 42 & 17 & $\\dots$ \\\\\n",
       "\t7 & Harewood & 66 & 25 & 42 & 23 & $\\dots$ \\\\\n",
       "\t8 & Sockburn & 64 & 19 & 10 & 16 & $\\dots$ \\\\\n",
       "\t9 & Woolston & 52 & 27 & 17 & 16 & $\\dots$ \\\\\n",
       "\t10 & Linwood & 64 & 25 & 16 & 25 & $\\dots$ \\\\\n",
       "\t11 & New Brighton & 44 & 22 & 17 & 7 & $\\dots$ \\\\\n",
       "\t12 & Ilam & 42 & 22 & 23 & 19 & $\\dots$ \\\\\n",
       "\t13 & Richmond & 41 & 22 & 12 & 11 & $\\dots$ \\\\\n",
       "\t14 & Spreydon & 37 & 15 & 13 & 12 & $\\dots$ \\\\\n",
       "\t15 & Shirley & 36 & 18 & 21 & 7 & $\\dots$ \\\\\n",
       "\t16 & Bryndwr & 35 & 17 & 10 & 11 & $\\dots$ \\\\\n",
       "\t17 & Halswell & 34 & 17 & 19 & 8 & $\\dots$ \\\\\n",
       "\t18 & Avonhead & 32 & 11 & 6 & 9 & $\\dots$ \\\\\n",
       "\t19 & Sumner & 30 & 16 & 20 & 3 & $\\dots$ \\\\\n",
       "\t20 & Bishopdale & 29 & 14 & 12 & 9 & $\\dots$ \\\\\n",
       "\t21 & Wainoni & 27 & 15 & 5 & 9 & $\\dots$ \\\\\n",
       "\t22 & Hoon Hay & 26 & 13 & 6 & 8 & $\\dots$ \\\\\n",
       "\t23 & Belfast & 27 & 8 & 10 & 5 & $\\dots$ \\\\\n",
       "\t24 & Redwood & 26 & 13 & 13 & 7 & $\\dots$ \\\\\n",
       "\t25 & Phillipstown & 23 & 13 & 10 & 5 & $\\dots$ \\\\\n",
       "\t26 & Burnside & 22 & 16 & 9 & 3 & $\\dots$ \\\\\n",
       "\t27 & Waltham & 22 & 8 & 6 & 6 & $\\dots$ \\\\\n",
       "\t28 & Opawa & 21 & 10 & 7 & 6 & $\\dots$ \\\\\n",
       "\t29 & Burwood & 18 & 5 & 3 & 6 & $\\dots$ \\\\\n",
       "\t30 & Bromley & 17 & 6 & 3 & 10 & $\\dots$ \\\\\n",
       "\t$\\dots$ & $\\dots$ & $\\dots$ & $\\dots$ & $\\dots$ & $\\dots$ &  \\\\\n",
       "\\end{tabular}\n"
      ],
      "text/plain": [
       "\u001b[1m92×59 DataFrame\u001b[0m\n",
       "\u001b[1m Row \u001b[0m│\u001b[1m suburb               \u001b[0m\u001b[1m cnt_total_business \u001b[0m\u001b[1m cnt_takeaway \u001b[0m\u001b[1m cnt_eat_in_prem\u001b[0m ⋯\n",
       "\u001b[1m     \u001b[0m│\u001b[90m Any                  \u001b[0m\u001b[90m Int64?             \u001b[0m\u001b[90m Int64?       \u001b[0m\u001b[90m Int64?         \u001b[0m ⋯\n",
       "─────┼──────────────────────────────────────────────────────────────────────────\n",
       "   1 │ Hornby                               123            57                  ⋯\n",
       "   2 │ Riccarton                            117            68\n",
       "   3 │ Papanui                               88            49\n",
       "   4 │ Upper Riccarton                       87            50\n",
       "   5 │ St Albans                             84            34                  ⋯\n",
       "   6 │ Addington                             76            27\n",
       "   7 │ Harewood                              66            25\n",
       "   8 │ Sockburn                              64            19\n",
       "   9 │ Woolston                              52            27                  ⋯\n",
       "  10 │ Linwood                               64            25\n",
       "  11 │ New Brighton                          44            22\n",
       "  ⋮  │          ⋮                    ⋮                ⋮                 ⋮      ⋱\n",
       "  83 │ McCormacks Bay                         3             1\n",
       "  84 │ Bridgend                               2             1                  ⋯\n",
       "  85 │ Cracroft                               1             1\n",
       "  86 │ Hyde Park                              1             0\n",
       "  87 │ Masham                                 1             0\n",
       "  88 │ Westlake                               1             0                  ⋯\n",
       "  89 │ Merivale                              31             7\n",
       "  90 │ Heathcote                              8             2\n",
       "  91 │ Christchurch Central                 388           212\n",
       "  92 │ Waimairi Beach                         1             1                  ⋯\n",
       "\u001b[36m                                                  56 columns and 71 rows omitted\u001b[0m"
      ]
     },
     "execution_count": 29,
     "metadata": {},
     "output_type": "execute_result"
    }
   ],
   "source": [
    "final_combined = leftjoin(final_combined_pre, geo_code, on =:suburb => :suburb, makeunique=true)"
   ]
  },
  {
   "cell_type": "markdown",
   "metadata": {},
   "source": [
    "Export the final combined dataset to csv:"
   ]
  },
  {
   "cell_type": "code",
   "execution_count": 30,
   "metadata": {},
   "outputs": [],
   "source": [
    "final_combined |>\n",
    "    save(\"final_combined.csv\")"
   ]
  },
  {
   "cell_type": "markdown",
   "metadata": {},
   "source": [
    "Get the final suburb list and export the final suburb list to csv:"
   ]
  },
  {
   "cell_type": "code",
   "execution_count": 31,
   "metadata": {
    "scrolled": true,
    "tags": []
   },
   "outputs": [
    {
     "data": {
      "text/html": [
       "<div class=\"data-frame\"><p>92 rows × 1 columns</p><table class=\"data-frame\"><thead><tr><th></th><th>suburb</th></tr><tr><th></th><th title=\"Any\">Any</th></tr></thead><tbody><tr><th>1</th><td>Hornby</td></tr><tr><th>2</th><td>Riccarton</td></tr><tr><th>3</th><td>Papanui</td></tr><tr><th>4</th><td>Upper Riccarton</td></tr><tr><th>5</th><td>St Albans</td></tr><tr><th>6</th><td>Addington</td></tr><tr><th>7</th><td>Harewood</td></tr><tr><th>8</th><td>Sockburn</td></tr><tr><th>9</th><td>Woolston</td></tr><tr><th>10</th><td>Linwood</td></tr><tr><th>11</th><td>New Brighton</td></tr><tr><th>12</th><td>Ilam</td></tr><tr><th>13</th><td>Richmond</td></tr><tr><th>14</th><td>Spreydon</td></tr><tr><th>15</th><td>Shirley</td></tr><tr><th>16</th><td>Bryndwr</td></tr><tr><th>17</th><td>Halswell</td></tr><tr><th>18</th><td>Avonhead</td></tr><tr><th>19</th><td>Sumner</td></tr><tr><th>20</th><td>Bishopdale</td></tr><tr><th>21</th><td>Wainoni</td></tr><tr><th>22</th><td>Hoon Hay</td></tr><tr><th>23</th><td>Belfast</td></tr><tr><th>24</th><td>Redwood</td></tr><tr><th>25</th><td>Phillipstown</td></tr><tr><th>26</th><td>Burnside</td></tr><tr><th>27</th><td>Waltham</td></tr><tr><th>28</th><td>Opawa</td></tr><tr><th>29</th><td>Burwood</td></tr><tr><th>30</th><td>Bromley</td></tr><tr><th>&vellip;</th><td>&vellip;</td></tr></tbody></table></div>"
      ],
      "text/latex": [
       "\\begin{tabular}{r|c}\n",
       "\t& suburb\\\\\n",
       "\t\\hline\n",
       "\t& Any\\\\\n",
       "\t\\hline\n",
       "\t1 & Hornby \\\\\n",
       "\t2 & Riccarton \\\\\n",
       "\t3 & Papanui \\\\\n",
       "\t4 & Upper Riccarton \\\\\n",
       "\t5 & St Albans \\\\\n",
       "\t6 & Addington \\\\\n",
       "\t7 & Harewood \\\\\n",
       "\t8 & Sockburn \\\\\n",
       "\t9 & Woolston \\\\\n",
       "\t10 & Linwood \\\\\n",
       "\t11 & New Brighton \\\\\n",
       "\t12 & Ilam \\\\\n",
       "\t13 & Richmond \\\\\n",
       "\t14 & Spreydon \\\\\n",
       "\t15 & Shirley \\\\\n",
       "\t16 & Bryndwr \\\\\n",
       "\t17 & Halswell \\\\\n",
       "\t18 & Avonhead \\\\\n",
       "\t19 & Sumner \\\\\n",
       "\t20 & Bishopdale \\\\\n",
       "\t21 & Wainoni \\\\\n",
       "\t22 & Hoon Hay \\\\\n",
       "\t23 & Belfast \\\\\n",
       "\t24 & Redwood \\\\\n",
       "\t25 & Phillipstown \\\\\n",
       "\t26 & Burnside \\\\\n",
       "\t27 & Waltham \\\\\n",
       "\t28 & Opawa \\\\\n",
       "\t29 & Burwood \\\\\n",
       "\t30 & Bromley \\\\\n",
       "\t$\\dots$ & $\\dots$ \\\\\n",
       "\\end{tabular}\n"
      ],
      "text/plain": [
       "\u001b[1m92×1 DataFrame\u001b[0m\n",
       "\u001b[1m Row \u001b[0m│\u001b[1m suburb               \u001b[0m\n",
       "\u001b[1m     \u001b[0m│\u001b[90m Any                  \u001b[0m\n",
       "─────┼──────────────────────\n",
       "   1 │ Hornby\n",
       "   2 │ Riccarton\n",
       "   3 │ Papanui\n",
       "   4 │ Upper Riccarton\n",
       "   5 │ St Albans\n",
       "   6 │ Addington\n",
       "   7 │ Harewood\n",
       "   8 │ Sockburn\n",
       "   9 │ Woolston\n",
       "  10 │ Linwood\n",
       "  11 │ New Brighton\n",
       "  ⋮  │          ⋮\n",
       "  83 │ McCormacks Bay\n",
       "  84 │ Bridgend\n",
       "  85 │ Cracroft\n",
       "  86 │ Hyde Park\n",
       "  87 │ Masham\n",
       "  88 │ Westlake\n",
       "  89 │ Merivale\n",
       "  90 │ Heathcote\n",
       "  91 │ Christchurch Central\n",
       "  92 │ Waimairi Beach\n",
       "\u001b[36m             71 rows omitted\u001b[0m"
      ]
     },
     "execution_count": 31,
     "metadata": {},
     "output_type": "execute_result"
    }
   ],
   "source": [
    "final_combined_suburb_list = DataFrame(suburb = final_combined[:, :suburb])"
   ]
  },
  {
   "cell_type": "code",
   "execution_count": 32,
   "metadata": {},
   "outputs": [],
   "source": [
    "final_combined_suburb_list |>\n",
    "    save(\"final_combined_suburb_list.csv\")"
   ]
  },
  {
   "cell_type": "markdown",
   "metadata": {},
   "source": [
    "Lastly, we will visualise the summarised data using Voyager package:"
   ]
  },
  {
   "cell_type": "code",
   "execution_count": 33,
   "metadata": {},
   "outputs": [],
   "source": [
    "using VegaDatasets"
   ]
  },
  {
   "cell_type": "code",
   "execution_count": 34,
   "metadata": {},
   "outputs": [
    {
     "name": "stdout",
     "output_type": "stream",
     "text": [
      "\n"
     ]
    },
    {
     "data": {
      "text/plain": [
       "Voyager(Electron.Window(Application(Base.PipeEndpoint(Base.Libc.WindowsRawSocket(0x000000000000049c) open, 0 bytes waiting), Process(`\u001b[4m'C:\\Users\\GGPC\\.julia\\artifacts\\ca0342e0bab6657b29b8c9153ccf8b6983ee0670\\electron.exe'\u001b[24m \u001b[4m'C:\\Users\\GGPC\\.julia\\packages\\Electron\\ILvWR\\src\\main.js'\u001b[24m \u001b[4m'\\\\.\\pipe\\jlel-38c65280350611ec150f2bb104c50536'\u001b[24m \u001b[4m'\\\\.\\pipe\\jlel-sn-38c65280350611ec10d6236630e8dc4d'\u001b[24m \u001b[4m6QO0vmJQrnVvV7vWz6lvBW78J7JF/M8Wb69DbMo9rQ2Blosk59W3ZpOjEi4/iXQrVCNHspTMJ7g6dnXtVCAlkEDB06RT1QgDtDGqhrsfmq7sMekbB9Z7HfeGhis/hMDdiPrSexxuvVY8MFg1Sa8UI3KTQEI6CAlY2G1x994Wkz4=\u001b[24m`, ProcessRunning), [1 window]), 1, true, Channel{Any}(128)))"
      ]
     },
     "execution_count": 34,
     "metadata": {},
     "output_type": "execute_result"
    }
   ],
   "source": [
    "final_combined |> Voyager()"
   ]
  },
  {
   "cell_type": "code",
   "execution_count": null,
   "metadata": {},
   "outputs": [],
   "source": []
  },
  {
   "cell_type": "code",
   "execution_count": null,
   "metadata": {},
   "outputs": [],
   "source": []
  }
 ],
 "metadata": {
  "kernelspec": {
   "display_name": "Julia 1.6.2",
   "language": "julia",
   "name": "julia-1.6"
  },
  "language_info": {
   "file_extension": ".jl",
   "mimetype": "application/julia",
   "name": "julia",
   "version": "1.6.2"
  }
 },
 "nbformat": 4,
 "nbformat_minor": 4
}
