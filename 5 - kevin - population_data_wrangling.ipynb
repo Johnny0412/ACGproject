{
 "cells": [
  {
   "cell_type": "markdown",
   "id": "baea13a8",
   "metadata": {},
   "source": [
    "## DATA422 Group Project"
   ]
  },
  {
   "cell_type": "markdown",
   "id": "cd8e5ae2",
   "metadata": {},
   "source": [
    "### Population Data"
   ]
  },
  {
   "cell_type": "code",
   "execution_count": 1,
   "id": "72980e44",
   "metadata": {},
   "outputs": [
    {
     "name": "stderr",
     "output_type": "stream",
     "text": [
      "Registered S3 methods overwritten by 'ggplot2':\n",
      "  method         from \n",
      "  [.quosures     rlang\n",
      "  c.quosures     rlang\n",
      "  print.quosures rlang\n",
      "Registered S3 method overwritten by 'rvest':\n",
      "  method            from\n",
      "  read_xml.response xml2\n",
      "-- \u001b[1mAttaching packages\u001b[22m --------------------------------------- tidyverse 1.2.1 --\n",
      "\u001b[32m√\u001b[39m \u001b[34mggplot2\u001b[39m 3.1.1       \u001b[32m√\u001b[39m \u001b[34mpurrr  \u001b[39m 0.3.2  \n",
      "\u001b[32m√\u001b[39m \u001b[34mtibble \u001b[39m 2.1.1       \u001b[32m√\u001b[39m \u001b[34mdplyr  \u001b[39m 0.8.0.\u001b[31m1\u001b[39m\n",
      "\u001b[32m√\u001b[39m \u001b[34mtidyr  \u001b[39m 0.8.3       \u001b[32m√\u001b[39m \u001b[34mstringr\u001b[39m 1.4.0  \n",
      "\u001b[32m√\u001b[39m \u001b[34mreadr  \u001b[39m 1.3.1       \u001b[32m√\u001b[39m \u001b[34mforcats\u001b[39m 0.4.0  \n",
      "-- \u001b[1mConflicts\u001b[22m ------------------------------------------ tidyverse_conflicts() --\n",
      "\u001b[31mx\u001b[39m \u001b[34mdplyr\u001b[39m::\u001b[32mfilter()\u001b[39m masks \u001b[34mstats\u001b[39m::filter()\n",
      "\u001b[31mx\u001b[39m \u001b[34mdplyr\u001b[39m::\u001b[32mlag()\u001b[39m    masks \u001b[34mstats\u001b[39m::lag()\n"
     ]
    }
   ],
   "source": [
    "library(\"tidyverse\")"
   ]
  },
  {
   "cell_type": "markdown",
   "id": "0d01bad8",
   "metadata": {},
   "source": [
    "### 1. Read Source files"
   ]
  },
  {
   "cell_type": "code",
   "execution_count": 2,
   "id": "87eb18a1",
   "metadata": {},
   "outputs": [],
   "source": [
    "households = read.csv(file = 'Households_totalNZ-wide_format_updated_16-7-20.csv')\n",
    "individual = read.csv(file = 'Individual_part1_totalNZ-wide_format_updated_16-7-20.csv')"
   ]
  },
  {
   "cell_type": "markdown",
   "id": "79d9a042",
   "metadata": {},
   "source": [
    "### 2. Select Useful Rows"
   ]
  },
  {
   "cell_type": "code",
   "execution_count": 3,
   "id": "99283bfd",
   "metadata": {},
   "outputs": [
    {
     "data": {
      "text/html": [
       "<table>\n",
       "<thead><tr><th scope=col>Area_code</th><th scope=col>Area_description</th><th scope=col>Census_2006_total_households_in_occupied_private_dwellings</th><th scope=col>Census_2013_total_households_in_occupied_private_dwellings</th><th scope=col>Census_2018_total_households_in_occupied_private_dwellings</th></tr></thead>\n",
       "<tbody>\n",
       "\t<tr><td>7000000</td><td>7000000</td><td>51     </td><td>51     </td><td>60     </td></tr>\n",
       "\t<tr><td>7000001</td><td>7000001</td><td>39     </td><td>42     </td><td>36     </td></tr>\n",
       "\t<tr><td>7000002</td><td>7000002</td><td> 0     </td><td> 0     </td><td> 0     </td></tr>\n",
       "\t<tr><td>7000003</td><td>7000003</td><td>72     </td><td>66     </td><td>75     </td></tr>\n",
       "\t<tr><td>7000004</td><td>7000004</td><td>36     </td><td>42     </td><td>54     </td></tr>\n",
       "\t<tr><td>7000005</td><td>7000005</td><td>39     </td><td>54     </td><td>60     </td></tr>\n",
       "</tbody>\n",
       "</table>\n"
      ],
      "text/latex": [
       "\\begin{tabular}{r|lllll}\n",
       " Area\\_code & Area\\_description & Census\\_2006\\_total\\_households\\_in\\_occupied\\_private\\_dwellings & Census\\_2013\\_total\\_households\\_in\\_occupied\\_private\\_dwellings & Census\\_2018\\_total\\_households\\_in\\_occupied\\_private\\_dwellings\\\\\n",
       "\\hline\n",
       "\t 7000000 & 7000000 & 51      & 51      & 60     \\\\\n",
       "\t 7000001 & 7000001 & 39      & 42      & 36     \\\\\n",
       "\t 7000002 & 7000002 &  0      &  0      &  0     \\\\\n",
       "\t 7000003 & 7000003 & 72      & 66      & 75     \\\\\n",
       "\t 7000004 & 7000004 & 36      & 42      & 54     \\\\\n",
       "\t 7000005 & 7000005 & 39      & 54      & 60     \\\\\n",
       "\\end{tabular}\n"
      ],
      "text/markdown": [
       "\n",
       "| Area_code | Area_description | Census_2006_total_households_in_occupied_private_dwellings | Census_2013_total_households_in_occupied_private_dwellings | Census_2018_total_households_in_occupied_private_dwellings |\n",
       "|---|---|---|---|---|\n",
       "| 7000000 | 7000000 | 51      | 51      | 60      |\n",
       "| 7000001 | 7000001 | 39      | 42      | 36      |\n",
       "| 7000002 | 7000002 |  0      |  0      |  0      |\n",
       "| 7000003 | 7000003 | 72      | 66      | 75      |\n",
       "| 7000004 | 7000004 | 36      | 42      | 54      |\n",
       "| 7000005 | 7000005 | 39      | 54      | 60      |\n",
       "\n"
      ],
      "text/plain": [
       "  Area_code Area_description\n",
       "1 7000000   7000000         \n",
       "2 7000001   7000001         \n",
       "3 7000002   7000002         \n",
       "4 7000003   7000003         \n",
       "5 7000004   7000004         \n",
       "6 7000005   7000005         \n",
       "  Census_2006_total_households_in_occupied_private_dwellings\n",
       "1 51                                                        \n",
       "2 39                                                        \n",
       "3  0                                                        \n",
       "4 72                                                        \n",
       "5 36                                                        \n",
       "6 39                                                        \n",
       "  Census_2013_total_households_in_occupied_private_dwellings\n",
       "1 51                                                        \n",
       "2 42                                                        \n",
       "3  0                                                        \n",
       "4 66                                                        \n",
       "5 42                                                        \n",
       "6 54                                                        \n",
       "  Census_2018_total_households_in_occupied_private_dwellings\n",
       "1 60                                                        \n",
       "2 36                                                        \n",
       "3  0                                                        \n",
       "4 75                                                        \n",
       "5 54                                                        \n",
       "6 60                                                        "
      ]
     },
     "metadata": {},
     "output_type": "display_data"
    }
   ],
   "source": [
    "households = households %>%\n",
    "select(Area_code, \n",
    "       Area_description, \n",
    "       Census_2006_total_households_in_occupied_private_dwellings, \n",
    "       Census_2013_total_households_in_occupied_private_dwellings,\n",
    "       Census_2018_total_households_in_occupied_private_dwellings\n",
    "      )\n",
    "households %>% head()"
   ]
  },
  {
   "cell_type": "code",
   "execution_count": 4,
   "id": "7a5aa471",
   "metadata": {},
   "outputs": [
    {
     "data": {
      "text/html": [
       "<table>\n",
       "<thead><tr><th scope=col>Area_code</th><th scope=col>Area_description</th><th scope=col>Census_2006_usually_resident_population_count</th><th scope=col>Census_2013_usually_resident_population_count</th><th scope=col>Census_2018_usually_resident_population_count</th></tr></thead>\n",
       "<tbody>\n",
       "\t<tr><td>7000000</td><td>7000000</td><td>165    </td><td>144    </td><td>141    </td></tr>\n",
       "\t<tr><td>7000001</td><td>7000001</td><td> 93    </td><td>105    </td><td>114    </td></tr>\n",
       "\t<tr><td>7000002</td><td>7000002</td><td>  0    </td><td>  0    </td><td>  0    </td></tr>\n",
       "\t<tr><td>7000003</td><td>7000003</td><td>216    </td><td>171    </td><td>225    </td></tr>\n",
       "\t<tr><td>7000004</td><td>7000004</td><td> 90    </td><td>102    </td><td>138    </td></tr>\n",
       "\t<tr><td>7000005</td><td>7000005</td><td>111    </td><td>144    </td><td>174    </td></tr>\n",
       "</tbody>\n",
       "</table>\n"
      ],
      "text/latex": [
       "\\begin{tabular}{r|lllll}\n",
       " Area\\_code & Area\\_description & Census\\_2006\\_usually\\_resident\\_population\\_count & Census\\_2013\\_usually\\_resident\\_population\\_count & Census\\_2018\\_usually\\_resident\\_population\\_count\\\\\n",
       "\\hline\n",
       "\t 7000000 & 7000000 & 165     & 144     & 141    \\\\\n",
       "\t 7000001 & 7000001 &  93     & 105     & 114    \\\\\n",
       "\t 7000002 & 7000002 &   0     &   0     &   0    \\\\\n",
       "\t 7000003 & 7000003 & 216     & 171     & 225    \\\\\n",
       "\t 7000004 & 7000004 &  90     & 102     & 138    \\\\\n",
       "\t 7000005 & 7000005 & 111     & 144     & 174    \\\\\n",
       "\\end{tabular}\n"
      ],
      "text/markdown": [
       "\n",
       "| Area_code | Area_description | Census_2006_usually_resident_population_count | Census_2013_usually_resident_population_count | Census_2018_usually_resident_population_count |\n",
       "|---|---|---|---|---|\n",
       "| 7000000 | 7000000 | 165     | 144     | 141     |\n",
       "| 7000001 | 7000001 |  93     | 105     | 114     |\n",
       "| 7000002 | 7000002 |   0     |   0     |   0     |\n",
       "| 7000003 | 7000003 | 216     | 171     | 225     |\n",
       "| 7000004 | 7000004 |  90     | 102     | 138     |\n",
       "| 7000005 | 7000005 | 111     | 144     | 174     |\n",
       "\n"
      ],
      "text/plain": [
       "  Area_code Area_description Census_2006_usually_resident_population_count\n",
       "1 7000000   7000000          165                                          \n",
       "2 7000001   7000001           93                                          \n",
       "3 7000002   7000002            0                                          \n",
       "4 7000003   7000003          216                                          \n",
       "5 7000004   7000004           90                                          \n",
       "6 7000005   7000005          111                                          \n",
       "  Census_2013_usually_resident_population_count\n",
       "1 144                                          \n",
       "2 105                                          \n",
       "3   0                                          \n",
       "4 171                                          \n",
       "5 102                                          \n",
       "6 144                                          \n",
       "  Census_2018_usually_resident_population_count\n",
       "1 141                                          \n",
       "2 114                                          \n",
       "3   0                                          \n",
       "4 225                                          \n",
       "5 138                                          \n",
       "6 174                                          "
      ]
     },
     "metadata": {},
     "output_type": "display_data"
    }
   ],
   "source": [
    "individual = individual %>%\n",
    "select(Area_code, \n",
    "       Area_description, \n",
    "       Census_2006_usually_resident_population_count, \n",
    "       Census_2013_usually_resident_population_count,\n",
    "       Census_2018_usually_resident_population_count\n",
    "       )\n",
    "individual %>% head()"
   ]
  },
  {
   "cell_type": "markdown",
   "id": "df99520a",
   "metadata": {},
   "source": [
    "### 3. Join Data (Combine Datasets \"Individual\" & \"Household\")"
   ]
  },
  {
   "cell_type": "code",
   "execution_count": 5,
   "id": "b223a491",
   "metadata": {
    "scrolled": false
   },
   "outputs": [
    {
     "data": {
      "text/html": [
       "<table>\n",
       "<thead><tr><th scope=col>Area_code</th><th scope=col>Area_description</th><th scope=col>Census_2006_total_households_in_occupied_private_dwellings</th><th scope=col>Census_2013_total_households_in_occupied_private_dwellings</th><th scope=col>Census_2018_total_households_in_occupied_private_dwellings</th><th scope=col>Census_2006_usually_resident_population_count</th><th scope=col>Census_2013_usually_resident_population_count</th><th scope=col>Census_2018_usually_resident_population_count</th></tr></thead>\n",
       "<tbody>\n",
       "\t<tr><td>001                          </td><td>Far North District           </td><td>19947                        </td><td>21369                        </td><td>22761                        </td><td>55845                        </td><td>55734                        </td><td>65250                        </td></tr>\n",
       "\t<tr><td>00101                        </td><td>Te Hiku Ward                 </td><td> 6381                        </td><td> 6732                        </td><td> 7029                        </td><td>17520                        </td><td>17478                        </td><td>20310                        </td></tr>\n",
       "\t<tr><td>00102                        </td><td>Bay of Islands-Whangaroa Ward</td><td> 9012                        </td><td> 9909                        </td><td>10899                        </td><td>24663                        </td><td>25284                        </td><td>30009                        </td></tr>\n",
       "\t<tr><td>00103                        </td><td>Kaikohe-Hokianga Ward        </td><td> 4554                        </td><td> 4728                        </td><td> 4833                        </td><td>13665                        </td><td>12972                        </td><td>14931                        </td></tr>\n",
       "\t<tr><td>002                          </td><td>Whangarei District           </td><td>27615                        </td><td>29778                        </td><td>32745                        </td><td>74463                        </td><td>76995                        </td><td>90960                        </td></tr>\n",
       "\t<tr><td>00201                        </td><td>Mangakahia-Maungatapere Ward </td><td> 1737                        </td><td> 2028                        </td><td> 2304                        </td><td> 5016                        </td><td> 5556                        </td><td> 6687                        </td></tr>\n",
       "\t<tr><td>00202                        </td><td>Hikurangi-Coastal Ward       </td><td> 3783                        </td><td> 4293                        </td><td> 4686                        </td><td>10734                        </td><td>11559                        </td><td>13626                        </td></tr>\n",
       "\t<tr><td>00203                        </td><td>Whangarei Heads Ward         </td><td> 2058                        </td><td> 2313                        </td><td> 2646                        </td><td> 5478                        </td><td> 5991                        </td><td> 7248                        </td></tr>\n",
       "\t<tr><td>00204                        </td><td>Denby Ward                   </td><td> 6468                        </td><td> 6864                        </td><td> 7485                        </td><td>18018                        </td><td>18141                        </td><td>21462                        </td></tr>\n",
       "\t<tr><td>00205                        </td><td>Okara Ward                   </td><td> 9753                        </td><td> 9777                        </td><td>10260                        </td><td>24855                        </td><td>24135                        </td><td>27453                        </td></tr>\n",
       "</tbody>\n",
       "</table>\n"
      ],
      "text/latex": [
       "\\begin{tabular}{r|llllllll}\n",
       " Area\\_code & Area\\_description & Census\\_2006\\_total\\_households\\_in\\_occupied\\_private\\_dwellings & Census\\_2013\\_total\\_households\\_in\\_occupied\\_private\\_dwellings & Census\\_2018\\_total\\_households\\_in\\_occupied\\_private\\_dwellings & Census\\_2006\\_usually\\_resident\\_population\\_count & Census\\_2013\\_usually\\_resident\\_population\\_count & Census\\_2018\\_usually\\_resident\\_population\\_count\\\\\n",
       "\\hline\n",
       "\t 001                           & Far North District            & 19947                         & 21369                         & 22761                         & 55845                         & 55734                         & 65250                        \\\\\n",
       "\t 00101                         & Te Hiku Ward                  &  6381                         &  6732                         &  7029                         & 17520                         & 17478                         & 20310                        \\\\\n",
       "\t 00102                         & Bay of Islands-Whangaroa Ward &  9012                         &  9909                         & 10899                         & 24663                         & 25284                         & 30009                        \\\\\n",
       "\t 00103                         & Kaikohe-Hokianga Ward         &  4554                         &  4728                         &  4833                         & 13665                         & 12972                         & 14931                        \\\\\n",
       "\t 002                           & Whangarei District            & 27615                         & 29778                         & 32745                         & 74463                         & 76995                         & 90960                        \\\\\n",
       "\t 00201                         & Mangakahia-Maungatapere Ward  &  1737                         &  2028                         &  2304                         &  5016                         &  5556                         &  6687                        \\\\\n",
       "\t 00202                         & Hikurangi-Coastal Ward        &  3783                         &  4293                         &  4686                         & 10734                         & 11559                         & 13626                        \\\\\n",
       "\t 00203                         & Whangarei Heads Ward          &  2058                         &  2313                         &  2646                         &  5478                         &  5991                         &  7248                        \\\\\n",
       "\t 00204                         & Denby Ward                    &  6468                         &  6864                         &  7485                         & 18018                         & 18141                         & 21462                        \\\\\n",
       "\t 00205                         & Okara Ward                    &  9753                         &  9777                         & 10260                         & 24855                         & 24135                         & 27453                        \\\\\n",
       "\\end{tabular}\n"
      ],
      "text/markdown": [
       "\n",
       "| Area_code | Area_description | Census_2006_total_households_in_occupied_private_dwellings | Census_2013_total_households_in_occupied_private_dwellings | Census_2018_total_households_in_occupied_private_dwellings | Census_2006_usually_resident_population_count | Census_2013_usually_resident_population_count | Census_2018_usually_resident_population_count |\n",
       "|---|---|---|---|---|---|---|---|\n",
       "| 001                           | Far North District            | 19947                         | 21369                         | 22761                         | 55845                         | 55734                         | 65250                         |\n",
       "| 00101                         | Te Hiku Ward                  |  6381                         |  6732                         |  7029                         | 17520                         | 17478                         | 20310                         |\n",
       "| 00102                         | Bay of Islands-Whangaroa Ward |  9012                         |  9909                         | 10899                         | 24663                         | 25284                         | 30009                         |\n",
       "| 00103                         | Kaikohe-Hokianga Ward         |  4554                         |  4728                         |  4833                         | 13665                         | 12972                         | 14931                         |\n",
       "| 002                           | Whangarei District            | 27615                         | 29778                         | 32745                         | 74463                         | 76995                         | 90960                         |\n",
       "| 00201                         | Mangakahia-Maungatapere Ward  |  1737                         |  2028                         |  2304                         |  5016                         |  5556                         |  6687                         |\n",
       "| 00202                         | Hikurangi-Coastal Ward        |  3783                         |  4293                         |  4686                         | 10734                         | 11559                         | 13626                         |\n",
       "| 00203                         | Whangarei Heads Ward          |  2058                         |  2313                         |  2646                         |  5478                         |  5991                         |  7248                         |\n",
       "| 00204                         | Denby Ward                    |  6468                         |  6864                         |  7485                         | 18018                         | 18141                         | 21462                         |\n",
       "| 00205                         | Okara Ward                    |  9753                         |  9777                         | 10260                         | 24855                         | 24135                         | 27453                         |\n",
       "\n"
      ],
      "text/plain": [
       "   Area_code Area_description             \n",
       "1  001       Far North District           \n",
       "2  00101     Te Hiku Ward                 \n",
       "3  00102     Bay of Islands-Whangaroa Ward\n",
       "4  00103     Kaikohe-Hokianga Ward        \n",
       "5  002       Whangarei District           \n",
       "6  00201     Mangakahia-Maungatapere Ward \n",
       "7  00202     Hikurangi-Coastal Ward       \n",
       "8  00203     Whangarei Heads Ward         \n",
       "9  00204     Denby Ward                   \n",
       "10 00205     Okara Ward                   \n",
       "   Census_2006_total_households_in_occupied_private_dwellings\n",
       "1  19947                                                     \n",
       "2   6381                                                     \n",
       "3   9012                                                     \n",
       "4   4554                                                     \n",
       "5  27615                                                     \n",
       "6   1737                                                     \n",
       "7   3783                                                     \n",
       "8   2058                                                     \n",
       "9   6468                                                     \n",
       "10  9753                                                     \n",
       "   Census_2013_total_households_in_occupied_private_dwellings\n",
       "1  21369                                                     \n",
       "2   6732                                                     \n",
       "3   9909                                                     \n",
       "4   4728                                                     \n",
       "5  29778                                                     \n",
       "6   2028                                                     \n",
       "7   4293                                                     \n",
       "8   2313                                                     \n",
       "9   6864                                                     \n",
       "10  9777                                                     \n",
       "   Census_2018_total_households_in_occupied_private_dwellings\n",
       "1  22761                                                     \n",
       "2   7029                                                     \n",
       "3  10899                                                     \n",
       "4   4833                                                     \n",
       "5  32745                                                     \n",
       "6   2304                                                     \n",
       "7   4686                                                     \n",
       "8   2646                                                     \n",
       "9   7485                                                     \n",
       "10 10260                                                     \n",
       "   Census_2006_usually_resident_population_count\n",
       "1  55845                                        \n",
       "2  17520                                        \n",
       "3  24663                                        \n",
       "4  13665                                        \n",
       "5  74463                                        \n",
       "6   5016                                        \n",
       "7  10734                                        \n",
       "8   5478                                        \n",
       "9  18018                                        \n",
       "10 24855                                        \n",
       "   Census_2013_usually_resident_population_count\n",
       "1  55734                                        \n",
       "2  17478                                        \n",
       "3  25284                                        \n",
       "4  12972                                        \n",
       "5  76995                                        \n",
       "6   5556                                        \n",
       "7  11559                                        \n",
       "8   5991                                        \n",
       "9  18141                                        \n",
       "10 24135                                        \n",
       "   Census_2018_usually_resident_population_count\n",
       "1  65250                                        \n",
       "2  20310                                        \n",
       "3  30009                                        \n",
       "4  14931                                        \n",
       "5  90960                                        \n",
       "6   6687                                        \n",
       "7  13626                                        \n",
       "8   7248                                        \n",
       "9  21462                                        \n",
       "10 27453                                        "
      ]
     },
     "metadata": {},
     "output_type": "display_data"
    }
   ],
   "source": [
    "combined <- merge(households,individual,by=c(\"Area_code\",\"Area_description\"))\n",
    "combined %>% head(10)"
   ]
  },
  {
   "cell_type": "markdown",
   "id": "dd04038b",
   "metadata": {},
   "source": [
    "### 4. Get Christchurch Suburbs"
   ]
  },
  {
   "cell_type": "markdown",
   "id": "43f07afe",
   "metadata": {},
   "source": [
    "[List of Christchurch Suburbs on Wikipedia](https://en.wikipedia.org/wiki/Christchurch)"
   ]
  },
  {
   "cell_type": "code",
   "execution_count": 6,
   "id": "4b6b8f4c",
   "metadata": {},
   "outputs": [],
   "source": [
    "Mairehau<- subset(combined, Area_code %in% c(321700, 323100))\n",
    "Linwood<- subset(combined, Area_code %in% c(327900,328500,329300))\n",
    "St_Martins<- subset(combined, Area_code %in% c(330800))\n",
    "Addington<- subset(combined, Area_code %in% c(326100, 327400))\n",
    "Fendalton<- subset(combined, Area_code %in% c(321500,322400))\n",
    "St_Albans<- subset(combined, Area_code %in% c(322100,322200,323800,323900,324800))\n",
    "Shirley<- subset(combined, Area_code %in% c(323400, 324600))\n",
    "Phillipstown<- subset(combined, Area_code %in% c(328900))\n",
    "Beckenham<- subset(combined, Area_code %in% c(330600))\n",
    "Riccarton<- subset(combined, Area_code %in% c(323200,323300,324400,325200))\n",
    "Bryndwr <- subset(combined, Area_code %in% c(319900,320800,320600))\n",
    "Edgeware<- subset(combined, Area_code %in% c(325300))\n",
    "Dallington<- subset(combined, Area_code %in% c(326500))\n",
    "Woolston<- subset(combined, Area_code %in% c(330100,330500,331000,331100))\n",
    "Sydenham<- subset(combined, Area_code %in% c(328700, 329400,329700))\n",
    "Ilam<- subset(combined, Area_code %in% c(320200,320700,321200))\n",
    "Strowan<- subset(combined, Area_code %in% c(321400))\n",
    "Richmond<- subset(combined, Area_code %in% c(325900,326800))\n",
    "Opawa<- subset(combined, Area_code %in% c(330900))\n",
    "Somerfield<- subset(combined, Area_code %in% c(329100, 329200))\n",
    "Upper_Riccarton<- subset(combined, Area_code %in% c(322000,321800,322700))\n",
    "Merivale<- subset(combined, Area_code %in% c(323000,322600))\n",
    "Avonside<- subset(combined, Area_code %in% c(327800))\n",
    "Waltham<- subset(combined, Area_code %in% c(329900, 329600))\n",
    "Spreydon<- subset(combined, Area_code %in% c(326900,327600,328200))\n",
    "Burnside<- subset(combined, Area_code %in% c(319200,318300,317500))\n",
    "Papanui<- subset(combined, Area_code %in% c(319400,320100,320900))\n",
    "Halswell<- subset(combined, Area_code %in% c(324500,327300,328000))\n",
    "Broomfield<- subset(combined, Area_code %in% c(318700))\n",
    "Ferrymead<- subset(combined, Area_code %in% c(331800))\n",
    "Islington<- subset(combined, Area_code %in% c(318200))\n",
    "Northwood<- subset(combined, Area_code %in% c(317400,316800))\n",
    "Yaldhurst<- subset(combined, Area_code %in% c(316600))\n",
    "Avonhead<- subset(combined, Area_code %in% c(318500,318900,319500,319700))\n",
    "Bromley<- subset(combined, Area_code %in% c(330400))\n",
    "Wigram<- subset(combined, Area_code %in% c(321900,322500,322800,322900,323600,324100,324700))\n",
    "Avondale<- subset(combined, Area_code %in% c(327500))\n",
    "New_Brighton<- subset(combined, Area_code %in% c(330200,328300))\n",
    "Hornby<- subset(combined, Area_code %in% c(320300,321100))\n",
    "Sockburn<- subset(combined, Area_code %in% c(321000))\n",
    "Bishopdale<- subset(combined, Area_code %in% c(317800,318000,319000))\n",
    "\n",
    "Marshland<- subset(combined, Area_code %in% c(318400))\n",
    "Aranui<- subset(combined, Area_code %in% c(328600))\n",
    "Styx<- subset(combined, Area_code %in% c(317200))\n",
    "Wainoni<- subset(combined, Area_code %in% c(328400))\n",
    "Kennedys_Bush<- subset(combined, Area_code %in% c(329000))\n",
    "Burwood<- subset(combined, Area_code %in% c(325600,324000))\n",
    "South_New_Brighton<- subset(combined, Area_code %in% c(331700))\n",
    "Heathcote_Valley<- subset(combined, Area_code %in% c(331900))\n",
    "Oaklands<- subset(combined, Area_code %in% c(324300,326300))\n",
    "Parklands<- subset(combined, Area_code %in% c(325100,321600,323700))\n",
    "Hillsborough<- subset(combined, Area_code %in% c(331400))\n",
    "Russley<- subset(combined, Area_code %in% c(317700))\n",
    "Belfast<- subset(combined, Area_code %in% c(316900,317300))\n",
    "Prestons<- subset(combined, Area_code %in% c(321300))\n",
    "Brooklands<- subset(combined, Area_code %in% c(7024285))\n",
    "Harewood<- subset(combined, Area_code %in% c(317000))\n",
    "Huntsbury<- subset(combined, Area_code %in% c(331200))\n",
    "Mount_Pleasant<- subset(combined, Area_code %in% c(332000))\n",
    "Waimairi_Beach<- subset(combined, Area_code %in% c(326000))\n",
    "Redcliffs<- subset(combined, Area_code %in% c(332100))\n",
    "Cashmere<- subset(combined, Area_code %in% c(330300,331300))\n",
    "Westmorland<- subset(combined, Area_code %in% c(330000))\n",
    "Middleton<- subset(combined, Area_code %in% c(323500))\n",
    "Northcote<- subset(combined, Area_code %in% c(320500))\n",
    "Casebrook<- subset(combined, Area_code %in% c(317900))\n",
    "Hoon_Hay<- subset(combined, Area_code %in% c(326700,327700,329500))\n",
    "Clifton<- subset(combined, Area_code %in% c(332400))\n",
    "North_New_Brighton<- subset(combined, Area_code %in% c(327200))\n",
    "Hillmorton<- subset(combined, Area_code %in% c(325000))\n",
    "Redwood<- subset(combined, Area_code %in% c(318600,318800,319600))\n",
    "Hei_Hei<- subset(combined, Area_code %in% c(319300))\n",
    "Aidanfield<- subset(combined, Area_code %in% c(325400))\n",
    "Sumner<- subset(combined, Area_code %in% c(332700))\n"
   ]
  },
  {
   "cell_type": "markdown",
   "id": "9508460a",
   "metadata": {},
   "source": [
    "### 5. Sample Suburb Inspection"
   ]
  },
  {
   "cell_type": "code",
   "execution_count": 7,
   "id": "54289eb6",
   "metadata": {},
   "outputs": [
    {
     "data": {
      "text/html": [
       "<table>\n",
       "<thead><tr><th></th><th scope=col>colSums.St_Albans...3.8..</th></tr></thead>\n",
       "<tbody>\n",
       "\t<tr><th scope=row>Census_2006_total_households_in_occupied_private_dwellings</th><td> 5379</td></tr>\n",
       "\t<tr><th scope=row>Census_2013_total_households_in_occupied_private_dwellings</th><td> 5223</td></tr>\n",
       "\t<tr><th scope=row>Census_2018_total_households_in_occupied_private_dwellings</th><td> 5448</td></tr>\n",
       "\t<tr><th scope=row>Census_2006_usually_resident_population_count</th><td>12987</td></tr>\n",
       "\t<tr><th scope=row>Census_2013_usually_resident_population_count</th><td>12768</td></tr>\n",
       "\t<tr><th scope=row>Census_2018_usually_resident_population_count</th><td>13137</td></tr>\n",
       "</tbody>\n",
       "</table>\n"
      ],
      "text/latex": [
       "\\begin{tabular}{r|l}\n",
       "  & colSums.St\\_Albans...3.8..\\\\\n",
       "\\hline\n",
       "\tCensus\\_2006\\_total\\_households\\_in\\_occupied\\_private\\_dwellings &  5379\\\\\n",
       "\tCensus\\_2013\\_total\\_households\\_in\\_occupied\\_private\\_dwellings &  5223\\\\\n",
       "\tCensus\\_2018\\_total\\_households\\_in\\_occupied\\_private\\_dwellings &  5448\\\\\n",
       "\tCensus\\_2006\\_usually\\_resident\\_population\\_count & 12987\\\\\n",
       "\tCensus\\_2013\\_usually\\_resident\\_population\\_count & 12768\\\\\n",
       "\tCensus\\_2018\\_usually\\_resident\\_population\\_count & 13137\\\\\n",
       "\\end{tabular}\n"
      ],
      "text/markdown": [
       "\n",
       "| <!--/--> | colSums.St_Albans...3.8.. |\n",
       "|---|---|\n",
       "| Census_2006_total_households_in_occupied_private_dwellings |  5379 |\n",
       "| Census_2013_total_households_in_occupied_private_dwellings |  5223 |\n",
       "| Census_2018_total_households_in_occupied_private_dwellings |  5448 |\n",
       "| Census_2006_usually_resident_population_count | 12987 |\n",
       "| Census_2013_usually_resident_population_count | 12768 |\n",
       "| Census_2018_usually_resident_population_count | 13137 |\n",
       "\n"
      ],
      "text/plain": [
       "                                                           colSums.St_Albans...3.8..\n",
       "Census_2006_total_households_in_occupied_private_dwellings  5379                    \n",
       "Census_2013_total_households_in_occupied_private_dwellings  5223                    \n",
       "Census_2018_total_households_in_occupied_private_dwellings  5448                    \n",
       "Census_2006_usually_resident_population_count              12987                    \n",
       "Census_2013_usually_resident_population_count              12768                    \n",
       "Census_2018_usually_resident_population_count              13137                    "
      ]
     },
     "metadata": {},
     "output_type": "display_data"
    }
   ],
   "source": [
    "data.frame(colSums(St_Albans[,3:8]))"
   ]
  },
  {
   "cell_type": "markdown",
   "id": "89c65b6a",
   "metadata": {},
   "source": [
    "### 6. Reframe into a Summary Table"
   ]
  },
  {
   "cell_type": "code",
   "execution_count": 8,
   "id": "a78b31ef",
   "metadata": {},
   "outputs": [
    {
     "data": {
      "text/html": [
       "<table>\n",
       "<thead><tr><th></th><th scope=col>suburb</th><th scope=col>Census_2006_total_households_in_occupied_private_dwellings</th><th scope=col>Census_2013_total_households_in_occupied_private_dwellings</th><th scope=col>Census_2018_total_households_in_occupied_private_dwellings</th><th scope=col>Census_2006_usually_resident_population_count</th><th scope=col>Census_2013_usually_resident_population_count</th><th scope=col>Census_2018_usually_resident_population_count</th></tr></thead>\n",
       "<tbody>\n",
       "\t<tr><th scope=row>2183</th><td>Mairehau  </td><td>2199      </td><td>2388      </td><td>2547      </td><td> 5781     </td><td> 6510     </td><td> 6870     </td></tr>\n",
       "\t<tr><th scope=row>2245</th><td>Linwood   </td><td>3060      </td><td>2847      </td><td>3105      </td><td> 7134     </td><td> 6696     </td><td> 7671     </td></tr>\n",
       "\t<tr><th scope=row>2274</th><td>St Martins</td><td>1134      </td><td>1071      </td><td>1107      </td><td> 2751     </td><td> 2652     </td><td> 2721     </td></tr>\n",
       "\t<tr><th scope=row>2227</th><td>Addington </td><td>1758      </td><td>1845      </td><td>1986      </td><td> 4287     </td><td> 5031     </td><td> 5346     </td></tr>\n",
       "\t<tr><th scope=row>2181</th><td>Fendalton </td><td>1653      </td><td>1617      </td><td>1656      </td><td> 4737     </td><td> 4578     </td><td> 4515     </td></tr>\n",
       "\t<tr><th scope=row>2187</th><td>St Albans </td><td>5379      </td><td>5223      </td><td>5448      </td><td>12987     </td><td>12768     </td><td>13137     </td></tr>\n",
       "</tbody>\n",
       "</table>\n"
      ],
      "text/latex": [
       "\\begin{tabular}{r|lllllll}\n",
       "  & suburb & Census\\_2006\\_total\\_households\\_in\\_occupied\\_private\\_dwellings & Census\\_2013\\_total\\_households\\_in\\_occupied\\_private\\_dwellings & Census\\_2018\\_total\\_households\\_in\\_occupied\\_private\\_dwellings & Census\\_2006\\_usually\\_resident\\_population\\_count & Census\\_2013\\_usually\\_resident\\_population\\_count & Census\\_2018\\_usually\\_resident\\_population\\_count\\\\\n",
       "\\hline\n",
       "\t2183 & Mairehau   & 2199       & 2388       & 2547       &  5781      &  6510      &  6870     \\\\\n",
       "\t2245 & Linwood    & 3060       & 2847       & 3105       &  7134      &  6696      &  7671     \\\\\n",
       "\t2274 & St Martins & 1134       & 1071       & 1107       &  2751      &  2652      &  2721     \\\\\n",
       "\t2227 & Addington  & 1758       & 1845       & 1986       &  4287      &  5031      &  5346     \\\\\n",
       "\t2181 & Fendalton  & 1653       & 1617       & 1656       &  4737      &  4578      &  4515     \\\\\n",
       "\t2187 & St Albans  & 5379       & 5223       & 5448       & 12987      & 12768      & 13137     \\\\\n",
       "\\end{tabular}\n"
      ],
      "text/markdown": [
       "\n",
       "| <!--/--> | suburb | Census_2006_total_households_in_occupied_private_dwellings | Census_2013_total_households_in_occupied_private_dwellings | Census_2018_total_households_in_occupied_private_dwellings | Census_2006_usually_resident_population_count | Census_2013_usually_resident_population_count | Census_2018_usually_resident_population_count |\n",
       "|---|---|---|---|---|---|---|---|\n",
       "| 2183 | Mairehau   | 2199       | 2388       | 2547       |  5781      |  6510      |  6870      |\n",
       "| 2245 | Linwood    | 3060       | 2847       | 3105       |  7134      |  6696      |  7671      |\n",
       "| 2274 | St Martins | 1134       | 1071       | 1107       |  2751      |  2652      |  2721      |\n",
       "| 2227 | Addington  | 1758       | 1845       | 1986       |  4287      |  5031      |  5346      |\n",
       "| 2181 | Fendalton  | 1653       | 1617       | 1656       |  4737      |  4578      |  4515      |\n",
       "| 2187 | St Albans  | 5379       | 5223       | 5448       | 12987      | 12768      | 13137      |\n",
       "\n"
      ],
      "text/plain": [
       "     suburb     Census_2006_total_households_in_occupied_private_dwellings\n",
       "2183 Mairehau   2199                                                      \n",
       "2245 Linwood    3060                                                      \n",
       "2274 St Martins 1134                                                      \n",
       "2227 Addington  1758                                                      \n",
       "2181 Fendalton  1653                                                      \n",
       "2187 St Albans  5379                                                      \n",
       "     Census_2013_total_households_in_occupied_private_dwellings\n",
       "2183 2388                                                      \n",
       "2245 2847                                                      \n",
       "2274 1071                                                      \n",
       "2227 1845                                                      \n",
       "2181 1617                                                      \n",
       "2187 5223                                                      \n",
       "     Census_2018_total_households_in_occupied_private_dwellings\n",
       "2183 2547                                                      \n",
       "2245 3105                                                      \n",
       "2274 1107                                                      \n",
       "2227 1986                                                      \n",
       "2181 1656                                                      \n",
       "2187 5448                                                      \n",
       "     Census_2006_usually_resident_population_count\n",
       "2183  5781                                        \n",
       "2245  7134                                        \n",
       "2274  2751                                        \n",
       "2227  4287                                        \n",
       "2181  4737                                        \n",
       "2187 12987                                        \n",
       "     Census_2013_usually_resident_population_count\n",
       "2183  6510                                        \n",
       "2245  6696                                        \n",
       "2274  2652                                        \n",
       "2227  5031                                        \n",
       "2181  4578                                        \n",
       "2187 12768                                        \n",
       "     Census_2018_usually_resident_population_count\n",
       "2183  6870                                        \n",
       "2245  7671                                        \n",
       "2274  2721                                        \n",
       "2227  5346                                        \n",
       "2181  4515                                        \n",
       "2187 13137                                        "
      ]
     },
     "metadata": {},
     "output_type": "display_data"
    }
   ],
   "source": [
    "population = rbind(data.frame(suburb=\"Mairehau\",Mairehau[1,c(3:8)] + Mairehau[2,c(3:8)]),\n",
    "                   data.frame(suburb=\"Linwood\",Linwood[1,c(3:8)] + Linwood[2,c(3:8)]),\n",
    "                   data.frame(suburb=\"St Martins\",St_Martins[c(3:8)]),\n",
    "                   data.frame(suburb=\"Addington\",Addington[1,c(3:8)] + Addington[2,c(3:8)]),\n",
    "                   data.frame(suburb=\"Fendalton\",Fendalton[1,c(3:8)] + Fendalton[2,c(3:8)]),\n",
    "                   data.frame(suburb=\"St Albans\",St_Albans[1,c(3:8)] + St_Albans[2,c(3:8)]+St_Albans[3,c(3:8)] + St_Albans[4,c(3:8)]+St_Albans[5,c(3:8)]),\n",
    "                   data.frame(suburb=\"Shirley\",Shirley[1,c(3:8)] + Shirley[2,c(3:8)]),\n",
    "                   data.frame(suburb=\"Phillipstown\",Phillipstown[c(3:8)]),\n",
    "                   data.frame(suburb=\"Beckenham\",Beckenham[c(3:8)]),\n",
    "                   data.frame(suburb=\"Riccarton\",Riccarton[1,c(3:8)] + Riccarton[2,c(3:8)]+Riccarton[3,c(3:8)] + Riccarton[4,c(3:8)]),\n",
    "                   data.frame(suburb=\"Bryndwr\",Bryndwr[1,c(3:8)] + Bryndwr[2,c(3:8)]+Bryndwr[3,c(3:8)]),\n",
    "                   data.frame(suburb=\"Edgeware\",Edgeware[c(3:8)]),\n",
    "                   data.frame(suburb=\"Dallington\",Dallington[c(3:8)]),\n",
    "                   data.frame(suburb=\"Woolston\",Woolston[1,c(3:8)] + Woolston[2,c(3:8)]+Woolston[3,c(3:8)] + Woolston[4,c(3:8)]),\n",
    "                   data.frame(suburb=\"Sydenham\",Sydenham[1,c(3:8)] + Sydenham[2,c(3:8)]+Sydenham[3,c(3:8)]),\n",
    "                   data.frame(suburb=\"Ilam\",Ilam[1,c(3:8)] + Ilam[2,c(3:8)]+Ilam[3,c(3:8)]),\n",
    "                   data.frame(suburb=\"Strowan\",Strowan[c(3:8)]),\n",
    "                   data.frame(suburb=\"Richmond\",Richmond[1,c(3:8)] + Richmond[2,c(3:8)]),\n",
    "                   data.frame(suburb=\"Opawa\",Opawa[c(3:8)]),\n",
    "                   data.frame(suburb=\"Somerfield\",Somerfield[1,c(3:8)] + Somerfield[2,c(3:8)]),\n",
    "                   data.frame(suburb=\"Upper Riccarton\",Upper_Riccarton[1,c(3:8)] + Upper_Riccarton[2,c(3:8)]+Upper_Riccarton[3,c(3:8)]),\n",
    "                   data.frame(suburb=\"Merivale\",Merivale[1,c(3:8)] + Merivale[2,c(3:8)]),\n",
    "                   data.frame(suburb=\"Avonside\",Avonside[c(3:8)]),\n",
    "                   data.frame(suburb=\"Waltham\",Waltham[1,c(3:8)] + Waltham[2,c(3:8)]),\n",
    "                   data.frame(suburb=\"Spreydon\",Spreydon[1,c(3:8)] + Spreydon[2,c(3:8)]),\n",
    "                   data.frame(suburb=\"Burnside\",Burnside[1,c(3:8)] + Burnside[2,c(3:8)]),\n",
    "                   data.frame(suburb=\"Papanui\",Papanui[1,c(3:8)] + Papanui[2,c(3:8)]),\n",
    "                   data.frame(suburb=\"Halswell\",Halswell[1,c(3:8)] + Halswell[2,c(3:8)]+Halswell[3,c(3:8)]),\n",
    "                   data.frame(suburb=\"Broomfield\",Broomfield[c(3:8)]),\n",
    "                   data.frame(suburb=\"Ferrymead\",Ferrymead[c(3:8)]),\n",
    "                   data.frame(suburb=\"Islington\",Islington[c(3:8)]),\n",
    "                   data.frame(suburb=\"Northwood\",Northwood[1,c(3:8)] + Northwood[2,c(3:8)]),\n",
    "                   data.frame(suburb=\"Yaldhurst\",Yaldhurst[c(3:8)]),\n",
    "                   data.frame(suburb=\"Avonhead\",Avonhead[1,c(3:8)] + Avonhead[2,c(3:8)]+Avonhead[3,c(3:8)] + Avonhead[4,c(3:8)]),\n",
    "                   data.frame(suburb=\"Bromley\",Bromley[c(3:8)]),\n",
    "                   data.frame(suburb=\"Wigram\",Wigram[1,c(3:8)]+Wigram[2,c(3:8)]+Wigram[3,c(3:8)] + Wigram[4,c(3:8)]+Wigram[5,c(3:8)]+Wigram[6,c(3:8)]+Wigram[7,c(3:8)]),\n",
    "                   data.frame(suburb=\"Avondale\",Avondale[c(3:8)]),\n",
    "                   data.frame(suburb=\"New Brighton\",New_Brighton[1,c(3:8)] + New_Brighton[2,c(3:8)]),\n",
    "                   data.frame(suburb=\"Hornby\",Hornby[1,c(3:8)] + Hornby[2,c(3:8)]),\n",
    "                   data.frame(suburb=\"Sockburn\",Sockburn[c(3:8)]),\n",
    "                   data.frame(suburb=\"Bishopdale\",Bishopdale[1,c(3:8)] + Bishopdale[2,c(3:8)]+Bishopdale[3,c(3:8)]),\n",
    "                   data.frame(suburb=\"Marshland\",Marshland[c(3:8)]),\n",
    "                   data.frame(suburb=\"Aranui\",Aranui[c(3:8)]),\n",
    "                   data.frame(suburb=\"Styx\",Styx[c(3:8)]),\n",
    "                   data.frame(suburb=\"Wainoni\",Wainoni[c(3:8)]),\n",
    "                   data.frame(suburb=\"Kennedys Bush\",Kennedys_Bush[c(3:8)]),\n",
    "                   data.frame(suburb=\"Burwood\",Burwood[1,c(3:8)] + Burwood[2,c(3:8)]),\n",
    "                   data.frame(suburb=\"South New Brighton\",South_New_Brighton[c(3:8)]),\n",
    "                   data.frame(suburb=\"Heathcote Valley\",Heathcote_Valley[c(3:8)]),\n",
    "                   data.frame(suburb=\"Oaklands\",Oaklands[1,c(3:8)] + Oaklands[2,c(3:8)]),\n",
    "                   data.frame(suburb=\"Parklands\",Parklands[1,c(3:8)] + Parklands[2,c(3:8)]+Parklands[3,c(3:8)]),\n",
    "                   data.frame(suburb=\"Hillsborough\",Hillsborough[c(3:8)]),\n",
    "                   data.frame(suburb=\"Russley\",Russley[c(3:8)]),\n",
    "                   data.frame(suburb=\"Belfast\",Belfast[1,c(3:8)] + Belfast[2,c(3:8)]),\n",
    "                   data.frame(suburb=\"Prestons\",Prestons[c(3:8)]),\n",
    "                   data.frame(suburb=\"Brooklands\",Brooklands[c(3:8)]),\n",
    "                   data.frame(suburb=\"Harewood\",Harewood[c(3:8)]),\n",
    "                   data.frame(suburb=\"Huntsbury\",Huntsbury[c(3:8)]),\n",
    "                   data.frame(suburb=\"Mt Pleasant\",Mount_Pleasant[c(3:8)]),\n",
    "                   data.frame(suburb=\"Waimairi Beach\",Waimairi_Beach[c(3:8)]),\n",
    "                   data.frame(suburb=\"Redcliffs\",Redcliffs[c(3:8)]),\n",
    "                   data.frame(suburb=\"Cashmere\",Cashmere[1,c(3:8)] + Cashmere[2,c(3:8)]),\n",
    "                   data.frame(suburb=\"Westmorland\",Westmorland[c(3:8)]),\n",
    "                   data.frame(suburb=\"Middleton\",Middleton[c(3:8)]),\n",
    "                   data.frame(suburb=\"Northcote\",Northcote[c(3:8)]),\n",
    "                   data.frame(suburb=\"Casebrook\",Casebrook[c(3:8)]),\n",
    "                   data.frame(suburb=\"Hoon Hay\",Hoon_Hay[1,c(3:8)] + Hoon_Hay[2,c(3:8)]+Hoon_Hay[3,c(3:8)]),\n",
    "                   data.frame(suburb=\"Clifton\",Clifton[c(3:8)]),\n",
    "                   data.frame(suburb=\"North New Brighton\",North_New_Brighton[c(3:8)]),\n",
    "                   data.frame(suburb=\"Hillmorton\",Hillmorton[c(3:8)]),\n",
    "                   data.frame(suburb=\"Redwood\",Redwood[1,c(3:8)] + Redwood[2,c(3:8)]+Redwood[3,c(3:8)]),\n",
    "                   data.frame(suburb=\"Hei Hei\",Hei_Hei[c(3:8)]),\n",
    "                   data.frame(suburb=\"Aidanfield\",Aidanfield[c(3:8)]),\n",
    "                   data.frame(suburb=\"Sumner\",Sumner[c(3:8)])\n",
    "                   )\n",
    "population %>% head()"
   ]
  },
  {
   "cell_type": "markdown",
   "id": "067d3a23",
   "metadata": {},
   "source": [
    "### 7. Rename Variables"
   ]
  },
  {
   "cell_type": "code",
   "execution_count": 9,
   "id": "c2aa5e32",
   "metadata": {},
   "outputs": [],
   "source": [
    "names(population)[names(population) == 'Census_2006_total_households_in_occupied_private_dwellings'] <- 'population_households_2006'\n",
    "names(population)[names(population) == 'Census_2013_total_households_in_occupied_private_dwellings'] <- 'population_households_2013'\n",
    "names(population)[names(population) == 'Census_2018_total_households_in_occupied_private_dwellings'] <- 'population_households_2018'\n",
    "names(population)[names(population) == 'Census_2006_usually_resident_population_count'] <- 'population_individuals_2006'\n",
    "names(population)[names(population) == 'Census_2013_usually_resident_population_count'] <- 'population_individuals_2013'\n",
    "names(population)[names(population) == 'Census_2018_usually_resident_population_count'] <- 'population_individuals_2018'"
   ]
  },
  {
   "cell_type": "code",
   "execution_count": 10,
   "id": "4a7b5659",
   "metadata": {
    "scrolled": true
   },
   "outputs": [
    {
     "data": {
      "text/html": [
       "<table>\n",
       "<thead><tr><th></th><th scope=col>suburb</th><th scope=col>population_households_2006</th><th scope=col>population_households_2013</th><th scope=col>population_households_2018</th><th scope=col>population_individuals_2006</th><th scope=col>population_individuals_2013</th><th scope=col>population_individuals_2018</th></tr></thead>\n",
       "<tbody>\n",
       "\t<tr><th scope=row>2183</th><td>Mairehau  </td><td>2199      </td><td>2388      </td><td>2547      </td><td> 5781     </td><td> 6510     </td><td> 6870     </td></tr>\n",
       "\t<tr><th scope=row>2245</th><td>Linwood   </td><td>3060      </td><td>2847      </td><td>3105      </td><td> 7134     </td><td> 6696     </td><td> 7671     </td></tr>\n",
       "\t<tr><th scope=row>2274</th><td>St Martins</td><td>1134      </td><td>1071      </td><td>1107      </td><td> 2751     </td><td> 2652     </td><td> 2721     </td></tr>\n",
       "\t<tr><th scope=row>2227</th><td>Addington </td><td>1758      </td><td>1845      </td><td>1986      </td><td> 4287     </td><td> 5031     </td><td> 5346     </td></tr>\n",
       "\t<tr><th scope=row>2181</th><td>Fendalton </td><td>1653      </td><td>1617      </td><td>1656      </td><td> 4737     </td><td> 4578     </td><td> 4515     </td></tr>\n",
       "\t<tr><th scope=row>2187</th><td>St Albans </td><td>5379      </td><td>5223      </td><td>5448      </td><td>12987     </td><td>12768     </td><td>13137     </td></tr>\n",
       "</tbody>\n",
       "</table>\n"
      ],
      "text/latex": [
       "\\begin{tabular}{r|lllllll}\n",
       "  & suburb & population\\_households\\_2006 & population\\_households\\_2013 & population\\_households\\_2018 & population\\_individuals\\_2006 & population\\_individuals\\_2013 & population\\_individuals\\_2018\\\\\n",
       "\\hline\n",
       "\t2183 & Mairehau   & 2199       & 2388       & 2547       &  5781      &  6510      &  6870     \\\\\n",
       "\t2245 & Linwood    & 3060       & 2847       & 3105       &  7134      &  6696      &  7671     \\\\\n",
       "\t2274 & St Martins & 1134       & 1071       & 1107       &  2751      &  2652      &  2721     \\\\\n",
       "\t2227 & Addington  & 1758       & 1845       & 1986       &  4287      &  5031      &  5346     \\\\\n",
       "\t2181 & Fendalton  & 1653       & 1617       & 1656       &  4737      &  4578      &  4515     \\\\\n",
       "\t2187 & St Albans  & 5379       & 5223       & 5448       & 12987      & 12768      & 13137     \\\\\n",
       "\\end{tabular}\n"
      ],
      "text/markdown": [
       "\n",
       "| <!--/--> | suburb | population_households_2006 | population_households_2013 | population_households_2018 | population_individuals_2006 | population_individuals_2013 | population_individuals_2018 |\n",
       "|---|---|---|---|---|---|---|---|\n",
       "| 2183 | Mairehau   | 2199       | 2388       | 2547       |  5781      |  6510      |  6870      |\n",
       "| 2245 | Linwood    | 3060       | 2847       | 3105       |  7134      |  6696      |  7671      |\n",
       "| 2274 | St Martins | 1134       | 1071       | 1107       |  2751      |  2652      |  2721      |\n",
       "| 2227 | Addington  | 1758       | 1845       | 1986       |  4287      |  5031      |  5346      |\n",
       "| 2181 | Fendalton  | 1653       | 1617       | 1656       |  4737      |  4578      |  4515      |\n",
       "| 2187 | St Albans  | 5379       | 5223       | 5448       | 12987      | 12768      | 13137      |\n",
       "\n"
      ],
      "text/plain": [
       "     suburb     population_households_2006 population_households_2013\n",
       "2183 Mairehau   2199                       2388                      \n",
       "2245 Linwood    3060                       2847                      \n",
       "2274 St Martins 1134                       1071                      \n",
       "2227 Addington  1758                       1845                      \n",
       "2181 Fendalton  1653                       1617                      \n",
       "2187 St Albans  5379                       5223                      \n",
       "     population_households_2018 population_individuals_2006\n",
       "2183 2547                        5781                      \n",
       "2245 3105                        7134                      \n",
       "2274 1107                        2751                      \n",
       "2227 1986                        4287                      \n",
       "2181 1656                        4737                      \n",
       "2187 5448                       12987                      \n",
       "     population_individuals_2013 population_individuals_2018\n",
       "2183  6510                        6870                      \n",
       "2245  6696                        7671                      \n",
       "2274  2652                        2721                      \n",
       "2227  5031                        5346                      \n",
       "2181  4578                        4515                      \n",
       "2187 12768                       13137                      "
      ]
     },
     "metadata": {},
     "output_type": "display_data"
    }
   ],
   "source": [
    "population %>% head()"
   ]
  },
  {
   "cell_type": "markdown",
   "id": "ee7d8d0c",
   "metadata": {},
   "source": [
    "### 8. Estimate Population 2021"
   ]
  },
  {
   "cell_type": "code",
   "execution_count": 11,
   "id": "1fe8d7e5",
   "metadata": {
    "scrolled": true
   },
   "outputs": [
    {
     "data": {
      "text/html": [
       "<table>\n",
       "<thead><tr><th scope=col>suburb</th><th scope=col>population_households_2006</th><th scope=col>population_households_2013</th><th scope=col>population_households_2018</th><th scope=col>population_individuals_2006</th><th scope=col>population_individuals_2013</th><th scope=col>population_individuals_2018</th><th scope=col>population_households_estimate_2021</th><th scope=col>population_individuals_estimate_2021</th></tr></thead>\n",
       "<tbody>\n",
       "\t<tr><td>Mairehau  </td><td>2199      </td><td>2388      </td><td>2547      </td><td> 5781     </td><td> 6510     </td><td> 6870     </td><td>2579      </td><td> 6966     </td></tr>\n",
       "\t<tr><td>Linwood   </td><td>3060      </td><td>2847      </td><td>3105      </td><td> 7134     </td><td> 6696     </td><td> 7671     </td><td>3116      </td><td> 7742     </td></tr>\n",
       "\t<tr><td>St Martins</td><td>1134      </td><td>1071      </td><td>1107      </td><td> 2751     </td><td> 2652     </td><td> 2721     </td><td>1106      </td><td> 2721     </td></tr>\n",
       "\t<tr><td>Addington </td><td>1758      </td><td>1845      </td><td>1986      </td><td> 4287     </td><td> 5031     </td><td> 5346     </td><td>2008      </td><td> 5440     </td></tr>\n",
       "\t<tr><td>Fendalton </td><td>1653      </td><td>1617      </td><td>1656      </td><td> 4737     </td><td> 4578     </td><td> 4515     </td><td>1657      </td><td> 4498     </td></tr>\n",
       "\t<tr><td>St Albans </td><td>5379      </td><td>5223      </td><td>5448      </td><td>12987     </td><td>12768     </td><td>13137     </td><td>5460      </td><td>13159     </td></tr>\n",
       "</tbody>\n",
       "</table>\n"
      ],
      "text/latex": [
       "\\begin{tabular}{r|lllllllll}\n",
       " suburb & population\\_households\\_2006 & population\\_households\\_2013 & population\\_households\\_2018 & population\\_individuals\\_2006 & population\\_individuals\\_2013 & population\\_individuals\\_2018 & population\\_households\\_estimate\\_2021 & population\\_individuals\\_estimate\\_2021\\\\\n",
       "\\hline\n",
       "\t Mairehau   & 2199       & 2388       & 2547       &  5781      &  6510      &  6870      & 2579       &  6966     \\\\\n",
       "\t Linwood    & 3060       & 2847       & 3105       &  7134      &  6696      &  7671      & 3116       &  7742     \\\\\n",
       "\t St Martins & 1134       & 1071       & 1107       &  2751      &  2652      &  2721      & 1106       &  2721     \\\\\n",
       "\t Addington  & 1758       & 1845       & 1986       &  4287      &  5031      &  5346      & 2008       &  5440     \\\\\n",
       "\t Fendalton  & 1653       & 1617       & 1656       &  4737      &  4578      &  4515      & 1657       &  4498     \\\\\n",
       "\t St Albans  & 5379       & 5223       & 5448       & 12987      & 12768      & 13137      & 5460       & 13159     \\\\\n",
       "\\end{tabular}\n"
      ],
      "text/markdown": [
       "\n",
       "| suburb | population_households_2006 | population_households_2013 | population_households_2018 | population_individuals_2006 | population_individuals_2013 | population_individuals_2018 | population_households_estimate_2021 | population_individuals_estimate_2021 |\n",
       "|---|---|---|---|---|---|---|---|---|\n",
       "| Mairehau   | 2199       | 2388       | 2547       |  5781      |  6510      |  6870      | 2579       |  6966      |\n",
       "| Linwood    | 3060       | 2847       | 3105       |  7134      |  6696      |  7671      | 3116       |  7742      |\n",
       "| St Martins | 1134       | 1071       | 1107       |  2751      |  2652      |  2721      | 1106       |  2721      |\n",
       "| Addington  | 1758       | 1845       | 1986       |  4287      |  5031      |  5346      | 2008       |  5440      |\n",
       "| Fendalton  | 1653       | 1617       | 1656       |  4737      |  4578      |  4515      | 1657       |  4498      |\n",
       "| St Albans  | 5379       | 5223       | 5448       | 12987      | 12768      | 13137      | 5460       | 13159      |\n",
       "\n"
      ],
      "text/plain": [
       "  suburb     population_households_2006 population_households_2013\n",
       "1 Mairehau   2199                       2388                      \n",
       "2 Linwood    3060                       2847                      \n",
       "3 St Martins 1134                       1071                      \n",
       "4 Addington  1758                       1845                      \n",
       "5 Fendalton  1653                       1617                      \n",
       "6 St Albans  5379                       5223                      \n",
       "  population_households_2018 population_individuals_2006\n",
       "1 2547                        5781                      \n",
       "2 3105                        7134                      \n",
       "3 1107                        2751                      \n",
       "4 1986                        4287                      \n",
       "5 1656                        4737                      \n",
       "6 5448                       12987                      \n",
       "  population_individuals_2013 population_individuals_2018\n",
       "1  6510                        6870                      \n",
       "2  6696                        7671                      \n",
       "3  2652                        2721                      \n",
       "4  5031                        5346                      \n",
       "5  4578                        4515                      \n",
       "6 12768                       13137                      \n",
       "  population_households_estimate_2021 population_individuals_estimate_2021\n",
       "1 2579                                 6966                               \n",
       "2 3116                                 7742                               \n",
       "3 1106                                 2721                               \n",
       "4 2008                                 5440                               \n",
       "5 1657                                 4498                               \n",
       "6 5460                                13159                               "
      ]
     },
     "metadata": {},
     "output_type": "display_data"
    }
   ],
   "source": [
    "population_final <- population %>% \n",
    "  mutate(\n",
    "      population_households_estimate_2021 = round((((population_households_2018/population_households_2013)^(1/5)\n",
    "                                              +(population_households_2013/population_households_2006)^(1/7))/2)\n",
    "      *population_households_2018,digits=0),\n",
    "      population_individuals_estimate_2021 = round((((population_individuals_2018/population_individuals_2013)^(1/5)\n",
    "                                               +(population_individuals_2013/population_individuals_2006)^(1/7))/2)\n",
    "      *population_individuals_2018,digits=0)\n",
    "  )\n",
    "head = population_final %>% head()\n",
    "head"
   ]
  },
  {
   "cell_type": "markdown",
   "id": "7c1147ab",
   "metadata": {},
   "source": [
    "### 9. Sort by Population "
   ]
  },
  {
   "cell_type": "code",
   "execution_count": 12,
   "id": "cb093c0a",
   "metadata": {},
   "outputs": [
    {
     "data": {
      "text/html": [
       "<table>\n",
       "<thead><tr><th></th><th scope=col>suburb</th><th scope=col>population_households_2006</th><th scope=col>population_households_2013</th><th scope=col>population_households_2018</th><th scope=col>population_individuals_2006</th><th scope=col>population_individuals_2013</th><th scope=col>population_individuals_2018</th><th scope=col>population_households_estimate_2021</th><th scope=col>population_individuals_estimate_2021</th></tr></thead>\n",
       "<tbody>\n",
       "\t<tr><th scope=row>56</th><td>Brooklands   </td><td>387          </td><td>180          </td><td> 42          </td><td>1080         </td><td> 531         </td><td> 129         </td><td> 35          </td><td> 107         </td></tr>\n",
       "\t<tr><th scope=row>64</th><td>Middleton    </td><td> 63          </td><td> 69          </td><td> 69          </td><td> 174         </td><td> 213         </td><td> 189         </td><td> 69          </td><td> 190         </td></tr>\n",
       "\t<tr><th scope=row>42</th><td>Marshland    </td><td>258          </td><td>252          </td><td>258          </td><td> 783         </td><td> 759         </td><td> 789         </td><td>258          </td><td> 790         </td></tr>\n",
       "\t<tr><th scope=row>46</th><td>Kennedys Bush</td><td>228          </td><td>288          </td><td>321          </td><td> 684         </td><td> 849         </td><td> 906         </td><td>330          </td><td> 926         </td></tr>\n",
       "\t<tr><th scope=row>31</th><td>Islington    </td><td>336          </td><td>363          </td><td>366          </td><td> 810         </td><td> 906         </td><td> 969         </td><td>368          </td><td> 983         </td></tr>\n",
       "\t<tr><th scope=row>30</th><td>Ferrymead    </td><td>390          </td><td>396          </td><td>390          </td><td>1071         </td><td>1017         </td><td>1074         </td><td>390          </td><td>1076         </td></tr>\n",
       "</tbody>\n",
       "</table>\n"
      ],
      "text/latex": [
       "\\begin{tabular}{r|lllllllll}\n",
       "  & suburb & population\\_households\\_2006 & population\\_households\\_2013 & population\\_households\\_2018 & population\\_individuals\\_2006 & population\\_individuals\\_2013 & population\\_individuals\\_2018 & population\\_households\\_estimate\\_2021 & population\\_individuals\\_estimate\\_2021\\\\\n",
       "\\hline\n",
       "\t56 & Brooklands    & 387           & 180           &  42           & 1080          &  531          &  129          &  35           &  107         \\\\\n",
       "\t64 & Middleton     &  63           &  69           &  69           &  174          &  213          &  189          &  69           &  190         \\\\\n",
       "\t42 & Marshland     & 258           & 252           & 258           &  783          &  759          &  789          & 258           &  790         \\\\\n",
       "\t46 & Kennedys Bush & 228           & 288           & 321           &  684          &  849          &  906          & 330           &  926         \\\\\n",
       "\t31 & Islington     & 336           & 363           & 366           &  810          &  906          &  969          & 368           &  983         \\\\\n",
       "\t30 & Ferrymead     & 390           & 396           & 390           & 1071          & 1017          & 1074          & 390           & 1076         \\\\\n",
       "\\end{tabular}\n"
      ],
      "text/markdown": [
       "\n",
       "| <!--/--> | suburb | population_households_2006 | population_households_2013 | population_households_2018 | population_individuals_2006 | population_individuals_2013 | population_individuals_2018 | population_households_estimate_2021 | population_individuals_estimate_2021 |\n",
       "|---|---|---|---|---|---|---|---|---|---|\n",
       "| 56 | Brooklands    | 387           | 180           |  42           | 1080          |  531          |  129          |  35           |  107          |\n",
       "| 64 | Middleton     |  63           |  69           |  69           |  174          |  213          |  189          |  69           |  190          |\n",
       "| 42 | Marshland     | 258           | 252           | 258           |  783          |  759          |  789          | 258           |  790          |\n",
       "| 46 | Kennedys Bush | 228           | 288           | 321           |  684          |  849          |  906          | 330           |  926          |\n",
       "| 31 | Islington     | 336           | 363           | 366           |  810          |  906          |  969          | 368           |  983          |\n",
       "| 30 | Ferrymead     | 390           | 396           | 390           | 1071          | 1017          | 1074          | 390           | 1076          |\n",
       "\n"
      ],
      "text/plain": [
       "   suburb        population_households_2006 population_households_2013\n",
       "56 Brooklands    387                        180                       \n",
       "64 Middleton      63                         69                       \n",
       "42 Marshland     258                        252                       \n",
       "46 Kennedys Bush 228                        288                       \n",
       "31 Islington     336                        363                       \n",
       "30 Ferrymead     390                        396                       \n",
       "   population_households_2018 population_individuals_2006\n",
       "56  42                        1080                       \n",
       "64  69                         174                       \n",
       "42 258                         783                       \n",
       "46 321                         684                       \n",
       "31 366                         810                       \n",
       "30 390                        1071                       \n",
       "   population_individuals_2013 population_individuals_2018\n",
       "56  531                         129                       \n",
       "64  213                         189                       \n",
       "42  759                         789                       \n",
       "46  849                         906                       \n",
       "31  906                         969                       \n",
       "30 1017                        1074                       \n",
       "   population_households_estimate_2021 population_individuals_estimate_2021\n",
       "56  35                                  107                                \n",
       "64  69                                  190                                \n",
       "42 258                                  790                                \n",
       "46 330                                  926                                \n",
       "31 368                                  983                                \n",
       "30 390                                 1076                                "
      ]
     },
     "metadata": {},
     "output_type": "display_data"
    }
   ],
   "source": [
    "population_sorted_individual = population_final[order(population_final$population_individuals_estimate_2021), ]\n",
    "population_sorted_individual$suburb <- factor(population_sorted_individual$suburb, levels = population_sorted_individual$suburb)\n",
    "\n",
    "population_sorted_individual %>%\n",
    "    head()"
   ]
  },
  {
   "cell_type": "code",
   "execution_count": 13,
   "id": "ec461874",
   "metadata": {},
   "outputs": [
    {
     "data": {
      "text/html": [
       "<table>\n",
       "<thead><tr><th></th><th scope=col>suburb</th><th scope=col>population_households_2006</th><th scope=col>population_households_2013</th><th scope=col>population_households_2018</th><th scope=col>population_individuals_2006</th><th scope=col>population_individuals_2013</th><th scope=col>population_individuals_2018</th><th scope=col>population_households_estimate_2021</th><th scope=col>population_individuals_estimate_2021</th></tr></thead>\n",
       "<tbody>\n",
       "\t<tr><th scope=row>56</th><td>Brooklands   </td><td>387          </td><td>180          </td><td> 42          </td><td>1080         </td><td> 531         </td><td> 129         </td><td> 35          </td><td> 107         </td></tr>\n",
       "\t<tr><th scope=row>64</th><td>Middleton    </td><td> 63          </td><td> 69          </td><td> 69          </td><td> 174         </td><td> 213         </td><td> 189         </td><td> 69          </td><td> 190         </td></tr>\n",
       "\t<tr><th scope=row>42</th><td>Marshland    </td><td>258          </td><td>252          </td><td>258          </td><td> 783         </td><td> 759         </td><td> 789         </td><td>258          </td><td> 790         </td></tr>\n",
       "\t<tr><th scope=row>46</th><td>Kennedys Bush</td><td>228          </td><td>288          </td><td>321          </td><td> 684         </td><td> 849         </td><td> 906         </td><td>330          </td><td> 926         </td></tr>\n",
       "\t<tr><th scope=row>31</th><td>Islington    </td><td>336          </td><td>363          </td><td>366          </td><td> 810         </td><td> 906         </td><td> 969         </td><td>368          </td><td> 983         </td></tr>\n",
       "\t<tr><th scope=row>30</th><td>Ferrymead    </td><td>390          </td><td>396          </td><td>390          </td><td>1071         </td><td>1017         </td><td>1074         </td><td>390          </td><td>1076         </td></tr>\n",
       "</tbody>\n",
       "</table>\n"
      ],
      "text/latex": [
       "\\begin{tabular}{r|lllllllll}\n",
       "  & suburb & population\\_households\\_2006 & population\\_households\\_2013 & population\\_households\\_2018 & population\\_individuals\\_2006 & population\\_individuals\\_2013 & population\\_individuals\\_2018 & population\\_households\\_estimate\\_2021 & population\\_individuals\\_estimate\\_2021\\\\\n",
       "\\hline\n",
       "\t56 & Brooklands    & 387           & 180           &  42           & 1080          &  531          &  129          &  35           &  107         \\\\\n",
       "\t64 & Middleton     &  63           &  69           &  69           &  174          &  213          &  189          &  69           &  190         \\\\\n",
       "\t42 & Marshland     & 258           & 252           & 258           &  783          &  759          &  789          & 258           &  790         \\\\\n",
       "\t46 & Kennedys Bush & 228           & 288           & 321           &  684          &  849          &  906          & 330           &  926         \\\\\n",
       "\t31 & Islington     & 336           & 363           & 366           &  810          &  906          &  969          & 368           &  983         \\\\\n",
       "\t30 & Ferrymead     & 390           & 396           & 390           & 1071          & 1017          & 1074          & 390           & 1076         \\\\\n",
       "\\end{tabular}\n"
      ],
      "text/markdown": [
       "\n",
       "| <!--/--> | suburb | population_households_2006 | population_households_2013 | population_households_2018 | population_individuals_2006 | population_individuals_2013 | population_individuals_2018 | population_households_estimate_2021 | population_individuals_estimate_2021 |\n",
       "|---|---|---|---|---|---|---|---|---|---|\n",
       "| 56 | Brooklands    | 387           | 180           |  42           | 1080          |  531          |  129          |  35           |  107          |\n",
       "| 64 | Middleton     |  63           |  69           |  69           |  174          |  213          |  189          |  69           |  190          |\n",
       "| 42 | Marshland     | 258           | 252           | 258           |  783          |  759          |  789          | 258           |  790          |\n",
       "| 46 | Kennedys Bush | 228           | 288           | 321           |  684          |  849          |  906          | 330           |  926          |\n",
       "| 31 | Islington     | 336           | 363           | 366           |  810          |  906          |  969          | 368           |  983          |\n",
       "| 30 | Ferrymead     | 390           | 396           | 390           | 1071          | 1017          | 1074          | 390           | 1076          |\n",
       "\n"
      ],
      "text/plain": [
       "   suburb        population_households_2006 population_households_2013\n",
       "56 Brooklands    387                        180                       \n",
       "64 Middleton      63                         69                       \n",
       "42 Marshland     258                        252                       \n",
       "46 Kennedys Bush 228                        288                       \n",
       "31 Islington     336                        363                       \n",
       "30 Ferrymead     390                        396                       \n",
       "   population_households_2018 population_individuals_2006\n",
       "56  42                        1080                       \n",
       "64  69                         174                       \n",
       "42 258                         783                       \n",
       "46 321                         684                       \n",
       "31 366                         810                       \n",
       "30 390                        1071                       \n",
       "   population_individuals_2013 population_individuals_2018\n",
       "56  531                         129                       \n",
       "64  213                         189                       \n",
       "42  759                         789                       \n",
       "46  849                         906                       \n",
       "31  906                         969                       \n",
       "30 1017                        1074                       \n",
       "   population_households_estimate_2021 population_individuals_estimate_2021\n",
       "56  35                                  107                                \n",
       "64  69                                  190                                \n",
       "42 258                                  790                                \n",
       "46 330                                  926                                \n",
       "31 368                                  983                                \n",
       "30 390                                 1076                                "
      ]
     },
     "metadata": {},
     "output_type": "display_data"
    }
   ],
   "source": [
    "population_sorted_household = population_final[order(population_final$population_households_estimate_2021), ]\n",
    "population_sorted_household$suburb <- factor(population_sorted_household$suburb, levels = population_sorted_household$suburb)\n",
    "\n",
    "population_sorted_household %>%\n",
    "    head()"
   ]
  },
  {
   "cell_type": "markdown",
   "id": "5f573c86",
   "metadata": {},
   "source": [
    "### 10. Number of Suburbs Obtained"
   ]
  },
  {
   "cell_type": "code",
   "execution_count": 14,
   "id": "848d637d",
   "metadata": {},
   "outputs": [
    {
     "data": {
      "text/html": [
       "74"
      ],
      "text/latex": [
       "74"
      ],
      "text/markdown": [
       "74"
      ],
      "text/plain": [
       "[1] 74"
      ]
     },
     "metadata": {},
     "output_type": "display_data"
    }
   ],
   "source": [
    "population_final %>% nrow()"
   ]
  },
  {
   "cell_type": "markdown",
   "id": "efb26d88",
   "metadata": {},
   "source": [
    "### 11. Data Visualisation"
   ]
  },
  {
   "cell_type": "code",
   "execution_count": 15,
   "id": "d2ab7451",
   "metadata": {},
   "outputs": [],
   "source": [
    "library(ggplot2)"
   ]
  },
  {
   "cell_type": "code",
   "execution_count": 16,
   "id": "64d383e4",
   "metadata": {},
   "outputs": [
    {
     "data": {
      "image/png": "[encoded data removed]",
      "text/plain": [
       "plot without title"
      ]
     },
     "metadata": {},
     "output_type": "display_data"
    }
   ],
   "source": [
    "ggplot(population_sorted_individual, aes(x=suburb, y=population_individuals_estimate_2021)) + \n",
    "  geom_bar(stat=\"identity\", width=.5,fill=\"#a3c4dc\")  +\n",
    "  labs(x = 'suburbs',y='Estimated Population in 2021',subtitle=\"Estimated Population Derived from previous Census Data\", \n",
    "       title= \"Suburb Population 2021\") + \n",
    "  coord_flip()"
   ]
  },
  {
   "cell_type": "code",
   "execution_count": 17,
   "id": "8c6637f3",
   "metadata": {},
   "outputs": [
    {
     "data": {
      "image/png": "[encoded data removed]",
      "text/plain": [
       "plot without title"
      ]
     },
     "metadata": {},
     "output_type": "display_data"
    }
   ],
   "source": [
    "ggplot(population_sorted_household, aes(x=suburb, y=population_households_estimate_2021)) + \n",
    "  geom_bar(stat=\"identity\", width=.5,fill=\"#a3c4dc\")  +\n",
    "  labs(x = 'suburbs',y='Estimated Households in 2021',subtitle=\"Estimated Total Households Derived from previous Census Data\", \n",
    "       title= \"Suburb Household Population 2021\") + \n",
    "  coord_flip()"
   ]
  },
  {
   "cell_type": "markdown",
   "id": "fd794de2",
   "metadata": {},
   "source": [
    "### 12. Output Results to CSV"
   ]
  },
  {
   "cell_type": "code",
   "execution_count": 18,
   "id": "7b443234",
   "metadata": {},
   "outputs": [],
   "source": [
    "population_final %>% write.csv(file = 'suburb_level_population_summary.csv')"
   ]
  }
 ],
 "metadata": {
  "kernelspec": {
   "display_name": "R",
   "language": "R",
   "name": "ir"
  },
  "language_info": {
   "codemirror_mode": "r",
   "file_extension": ".r",
   "mimetype": "text/x-r-source",
   "name": "R",
   "pygments_lexer": "r",
   "version": "3.6.1"
  }
 },
 "nbformat": 4,
 "nbformat_minor": 5
}
